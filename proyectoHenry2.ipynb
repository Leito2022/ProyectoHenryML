{
  "nbformat": 4,
  "nbformat_minor": 0,
  "metadata": {
    "colab": {
      "provenance": [],
      "authorship_tag": "ABX9TyMXZEaG4onk0zX+aOi4KJNs",
      "include_colab_link": true
    },
    "kernelspec": {
      "name": "python3",
      "display_name": "Python 3"
    },
    "language_info": {
      "name": "python"
    }
  },
  "cells": [
    {
      "cell_type": "markdown",
      "metadata": {
        "id": "view-in-github",
        "colab_type": "text"
      },
      "source": [
        "<a href=\"https://colab.research.google.com/github/Leito2022/ProyectoHenryML/blob/main/proyectoHenry2.ipynb\" target=\"_parent\"><img src=\"https://colab.research.google.com/assets/colab-badge.svg\" alt=\"Open In Colab\"/></a>"
      ]
    },
    {
      "cell_type": "code",
      "execution_count": 1,
      "metadata": {
        "id": "tRJ-cmFzROMo"
      },
      "outputs": [],
      "source": [
        "import numpy as np\n",
        "import pandas as pd\n",
        "import matplotlib as mlt\n",
        "import matplotlib.pyplot as plt\n",
        "%matplotlib inline\n",
        "import seaborn as sns"
      ]
    },
    {
      "cell_type": "code",
      "source": [
        "from sklearn.model_selection import train_test_split\n",
        "from sklearn.preprocessing import StandardScaler\n",
        "from sklearn.linear_model import LogisticRegression\n",
        "from sklearn.metrics import accuracy_score, confusion_matrix, classification_report, recall_score, fbeta_score\n",
        "from sklearn.naive_bayes import GaussianNB\n",
        "from sklearn.tree import DecisionTreeClassifier\n",
        "from sklearn.ensemble import AdaBoostClassifier\n",
        "from sklearn.metrics import make_scorer\n",
        "from sklearn.model_selection import GridSearchCV"
      ],
      "metadata": {
        "id": "vitwtfQ8RQVg"
      },
      "execution_count": 2,
      "outputs": []
    },
    {
      "cell_type": "code",
      "source": [
        "from sklearn.metrics import f1_score"
      ],
      "metadata": {
        "id": "uqM1i1YIRR4h"
      },
      "execution_count": 3,
      "outputs": []
    },
    {
      "cell_type": "markdown",
      "source": [
        "#DESCRIPCION DE VARIABLE\n",
        "\n",
        "\n",
        "-Available Extra Rooms in Hospital: Habitaciones adicionales disponibles en el \n",
        "hospital. Una habitación no es igual a un paciente, pueden ser individuales o compartidas.\n",
        "\n",
        "\n",
        "-Department: Área de atención a la que ingresa el paciente.\n",
        "\n",
        "\n",
        "-Ward_Facility_Code: Código de la habitación del paciente.\n",
        "\n",
        "\n",
        "-doctor_name: Nombre de el/la doctor/a a cargo del paciente.\n",
        "\n",
        "\n",
        "-staff_available: Cantidad de personal disponible al momento del ingreso del paciente.\n",
        "\n",
        "\n",
        "-patientid: Identificador del paciente.\n",
        "\n",
        "\n",
        "-Age: Edad del paciente.\n",
        "\n",
        "\n",
        "-gender: Género del paciente.\n",
        "\n",
        "\n",
        "-Type of Admission: Tipo de ingreso registrado según la situación de ingreso del paciente.\n",
        "\n",
        "\n",
        "-Severity of Illness: Gravedad de la enfermedad/condición/estado del paciente al momento del ingreso.\n",
        "\n",
        "\n",
        "-health_conditions: Condiciones de salud del paciente.\n",
        "\n",
        "\n",
        "-Visitors with Patient: Cantidad de visitantes registrados para el paciente.\n",
        "\n",
        "\n",
        "-Insurance: Indica si la persona posee o no seguro de salud.\n",
        "\n",
        "\n",
        "-Admission_Deposit: Pago realizado a nombre del paciente, con el fin de cubrir los costos iniciales de internación.\n",
        "\n",
        "\n",
        "-Stay (in days): Días registrados de estancia hospitalaria.​"
      ],
      "metadata": {
        "id": "xpQA4QkxJj-a"
      }
    },
    {
      "cell_type": "markdown",
      "source": [
        "# EDA\n",
        "\n",
        "Realizo un EDA para encontrar nulos, valores extraños y outliers. Me adentro a la idea de que significa cada variable."
      ],
      "metadata": {
        "id": "Eoc1zfr_JpiD"
      }
    },
    {
      "cell_type": "code",
      "source": [
        "#Importamos los datasets\n",
        "\n",
        "df = pd.read_csv(\"https://raw.githubusercontent.com/soyHenry/Datathon/main/hospitalizaciones_train.csv\")\n",
        "df_1 = pd.read_csv(\"https://raw.githubusercontent.com/soyHenry/Datathon/main/hospitalizaciones_test.csv\")"
      ],
      "metadata": {
        "id": "Za0GPF0SRSd7"
      },
      "execution_count": 4,
      "outputs": []
    },
    {
      "cell_type": "code",
      "source": [
        "#Agregamos la columna target (type_stay)\n",
        "\n",
        "df[\"type_stay\"] = np.where(df[\"Stay (in days)\"] > 8, 1,0)"
      ],
      "metadata": {
        "id": "Lu4aBP0fRvA7"
      },
      "execution_count": 5,
      "outputs": []
    },
    {
      "cell_type": "markdown",
      "source": [
        "SELECCIÓN DE FEATURES"
      ],
      "metadata": {
        "id": "fVgkYIXvSxgh"
      }
    },
    {
      "cell_type": "code",
      "source": [
        "# Creamos una correlación de Pearson sobre las variables numericas\n",
        "\n",
        "numeric_features = list(df.select_dtypes(np.number).columns) # Creamos lista de atributos numericos\n",
        "df_numeric = df[numeric_features + ['type_stay']] # Cramos un dataframe con las columnas deseadas y la variable target\n",
        "\n",
        "df_numeric.corr()"
      ],
      "metadata": {
        "colab": {
          "base_uri": "https://localhost:8080/",
          "height": 451
        },
        "id": "o8FSHPsmk2Cz",
        "outputId": "7828a526-38c3-413e-f06d-b5fe0aa11a4b"
      },
      "execution_count": 6,
      "outputs": [
        {
          "output_type": "execute_result",
          "data": {
            "text/plain": [
              "                                   Available Extra Rooms in Hospital  \\\n",
              "Available Extra Rooms in Hospital                           1.000000   \n",
              "staff_available                                            -0.003064   \n",
              "patientid                                                  -0.005426   \n",
              "Visitors with Patient                                       0.071073   \n",
              "Admission_Deposit                                          -0.050775   \n",
              "Stay (in days)                                             -0.019383   \n",
              "type_stay                                                   0.053894   \n",
              "type_stay                                                   0.053894   \n",
              "\n",
              "                                   staff_available  patientid  \\\n",
              "Available Extra Rooms in Hospital        -0.003064  -0.005426   \n",
              "staff_available                           1.000000  -0.000350   \n",
              "patientid                                -0.000350   1.000000   \n",
              "Visitors with Patient                     0.001444  -0.006393   \n",
              "Admission_Deposit                         0.000816   0.011602   \n",
              "Stay (in days)                            0.006673   0.005567   \n",
              "type_stay                                 0.002883  -0.000532   \n",
              "type_stay                                 0.002883  -0.000532   \n",
              "\n",
              "                                   Visitors with Patient  Admission_Deposit  \\\n",
              "Available Extra Rooms in Hospital               0.071073          -0.050775   \n",
              "staff_available                                 0.001444           0.000816   \n",
              "patientid                                      -0.006393           0.011602   \n",
              "Visitors with Patient                           1.000000          -0.069566   \n",
              "Admission_Deposit                              -0.069566           1.000000   \n",
              "Stay (in days)                                  0.027284           0.043899   \n",
              "type_stay                                      -0.009529          -0.016650   \n",
              "type_stay                                      -0.009529          -0.016650   \n",
              "\n",
              "                                   Stay (in days)  type_stay  type_stay  \n",
              "Available Extra Rooms in Hospital       -0.019383   0.053894   0.053894  \n",
              "staff_available                          0.006673   0.002883   0.002883  \n",
              "patientid                                0.005567  -0.000532  -0.000532  \n",
              "Visitors with Patient                    0.027284  -0.009529  -0.009529  \n",
              "Admission_Deposit                        0.043899  -0.016650  -0.016650  \n",
              "Stay (in days)                           1.000000   0.493378   0.493378  \n",
              "type_stay                                0.493378   1.000000   1.000000  \n",
              "type_stay                                0.493378   1.000000   1.000000  "
            ],
            "text/html": [
              "\n",
              "  <div id=\"df-0c612f59-71a8-431c-ace7-7851f9b69b6f\">\n",
              "    <div class=\"colab-df-container\">\n",
              "      <div>\n",
              "<style scoped>\n",
              "    .dataframe tbody tr th:only-of-type {\n",
              "        vertical-align: middle;\n",
              "    }\n",
              "\n",
              "    .dataframe tbody tr th {\n",
              "        vertical-align: top;\n",
              "    }\n",
              "\n",
              "    .dataframe thead th {\n",
              "        text-align: right;\n",
              "    }\n",
              "</style>\n",
              "<table border=\"1\" class=\"dataframe\">\n",
              "  <thead>\n",
              "    <tr style=\"text-align: right;\">\n",
              "      <th></th>\n",
              "      <th>Available Extra Rooms in Hospital</th>\n",
              "      <th>staff_available</th>\n",
              "      <th>patientid</th>\n",
              "      <th>Visitors with Patient</th>\n",
              "      <th>Admission_Deposit</th>\n",
              "      <th>Stay (in days)</th>\n",
              "      <th>type_stay</th>\n",
              "      <th>type_stay</th>\n",
              "    </tr>\n",
              "  </thead>\n",
              "  <tbody>\n",
              "    <tr>\n",
              "      <th>Available Extra Rooms in Hospital</th>\n",
              "      <td>1.000000</td>\n",
              "      <td>-0.003064</td>\n",
              "      <td>-0.005426</td>\n",
              "      <td>0.071073</td>\n",
              "      <td>-0.050775</td>\n",
              "      <td>-0.019383</td>\n",
              "      <td>0.053894</td>\n",
              "      <td>0.053894</td>\n",
              "    </tr>\n",
              "    <tr>\n",
              "      <th>staff_available</th>\n",
              "      <td>-0.003064</td>\n",
              "      <td>1.000000</td>\n",
              "      <td>-0.000350</td>\n",
              "      <td>0.001444</td>\n",
              "      <td>0.000816</td>\n",
              "      <td>0.006673</td>\n",
              "      <td>0.002883</td>\n",
              "      <td>0.002883</td>\n",
              "    </tr>\n",
              "    <tr>\n",
              "      <th>patientid</th>\n",
              "      <td>-0.005426</td>\n",
              "      <td>-0.000350</td>\n",
              "      <td>1.000000</td>\n",
              "      <td>-0.006393</td>\n",
              "      <td>0.011602</td>\n",
              "      <td>0.005567</td>\n",
              "      <td>-0.000532</td>\n",
              "      <td>-0.000532</td>\n",
              "    </tr>\n",
              "    <tr>\n",
              "      <th>Visitors with Patient</th>\n",
              "      <td>0.071073</td>\n",
              "      <td>0.001444</td>\n",
              "      <td>-0.006393</td>\n",
              "      <td>1.000000</td>\n",
              "      <td>-0.069566</td>\n",
              "      <td>0.027284</td>\n",
              "      <td>-0.009529</td>\n",
              "      <td>-0.009529</td>\n",
              "    </tr>\n",
              "    <tr>\n",
              "      <th>Admission_Deposit</th>\n",
              "      <td>-0.050775</td>\n",
              "      <td>0.000816</td>\n",
              "      <td>0.011602</td>\n",
              "      <td>-0.069566</td>\n",
              "      <td>1.000000</td>\n",
              "      <td>0.043899</td>\n",
              "      <td>-0.016650</td>\n",
              "      <td>-0.016650</td>\n",
              "    </tr>\n",
              "    <tr>\n",
              "      <th>Stay (in days)</th>\n",
              "      <td>-0.019383</td>\n",
              "      <td>0.006673</td>\n",
              "      <td>0.005567</td>\n",
              "      <td>0.027284</td>\n",
              "      <td>0.043899</td>\n",
              "      <td>1.000000</td>\n",
              "      <td>0.493378</td>\n",
              "      <td>0.493378</td>\n",
              "    </tr>\n",
              "    <tr>\n",
              "      <th>type_stay</th>\n",
              "      <td>0.053894</td>\n",
              "      <td>0.002883</td>\n",
              "      <td>-0.000532</td>\n",
              "      <td>-0.009529</td>\n",
              "      <td>-0.016650</td>\n",
              "      <td>0.493378</td>\n",
              "      <td>1.000000</td>\n",
              "      <td>1.000000</td>\n",
              "    </tr>\n",
              "    <tr>\n",
              "      <th>type_stay</th>\n",
              "      <td>0.053894</td>\n",
              "      <td>0.002883</td>\n",
              "      <td>-0.000532</td>\n",
              "      <td>-0.009529</td>\n",
              "      <td>-0.016650</td>\n",
              "      <td>0.493378</td>\n",
              "      <td>1.000000</td>\n",
              "      <td>1.000000</td>\n",
              "    </tr>\n",
              "  </tbody>\n",
              "</table>\n",
              "</div>\n",
              "      <button class=\"colab-df-convert\" onclick=\"convertToInteractive('df-0c612f59-71a8-431c-ace7-7851f9b69b6f')\"\n",
              "              title=\"Convert this dataframe to an interactive table.\"\n",
              "              style=\"display:none;\">\n",
              "        \n",
              "  <svg xmlns=\"http://www.w3.org/2000/svg\" height=\"24px\"viewBox=\"0 0 24 24\"\n",
              "       width=\"24px\">\n",
              "    <path d=\"M0 0h24v24H0V0z\" fill=\"none\"/>\n",
              "    <path d=\"M18.56 5.44l.94 2.06.94-2.06 2.06-.94-2.06-.94-.94-2.06-.94 2.06-2.06.94zm-11 1L8.5 8.5l.94-2.06 2.06-.94-2.06-.94L8.5 2.5l-.94 2.06-2.06.94zm10 10l.94 2.06.94-2.06 2.06-.94-2.06-.94-.94-2.06-.94 2.06-2.06.94z\"/><path d=\"M17.41 7.96l-1.37-1.37c-.4-.4-.92-.59-1.43-.59-.52 0-1.04.2-1.43.59L10.3 9.45l-7.72 7.72c-.78.78-.78 2.05 0 2.83L4 21.41c.39.39.9.59 1.41.59.51 0 1.02-.2 1.41-.59l7.78-7.78 2.81-2.81c.8-.78.8-2.07 0-2.86zM5.41 20L4 18.59l7.72-7.72 1.47 1.35L5.41 20z\"/>\n",
              "  </svg>\n",
              "      </button>\n",
              "      \n",
              "  <style>\n",
              "    .colab-df-container {\n",
              "      display:flex;\n",
              "      flex-wrap:wrap;\n",
              "      gap: 12px;\n",
              "    }\n",
              "\n",
              "    .colab-df-convert {\n",
              "      background-color: #E8F0FE;\n",
              "      border: none;\n",
              "      border-radius: 50%;\n",
              "      cursor: pointer;\n",
              "      display: none;\n",
              "      fill: #1967D2;\n",
              "      height: 32px;\n",
              "      padding: 0 0 0 0;\n",
              "      width: 32px;\n",
              "    }\n",
              "\n",
              "    .colab-df-convert:hover {\n",
              "      background-color: #E2EBFA;\n",
              "      box-shadow: 0px 1px 2px rgba(60, 64, 67, 0.3), 0px 1px 3px 1px rgba(60, 64, 67, 0.15);\n",
              "      fill: #174EA6;\n",
              "    }\n",
              "\n",
              "    [theme=dark] .colab-df-convert {\n",
              "      background-color: #3B4455;\n",
              "      fill: #D2E3FC;\n",
              "    }\n",
              "\n",
              "    [theme=dark] .colab-df-convert:hover {\n",
              "      background-color: #434B5C;\n",
              "      box-shadow: 0px 1px 3px 1px rgba(0, 0, 0, 0.15);\n",
              "      filter: drop-shadow(0px 1px 2px rgba(0, 0, 0, 0.3));\n",
              "      fill: #FFFFFF;\n",
              "    }\n",
              "  </style>\n",
              "\n",
              "      <script>\n",
              "        const buttonEl =\n",
              "          document.querySelector('#df-0c612f59-71a8-431c-ace7-7851f9b69b6f button.colab-df-convert');\n",
              "        buttonEl.style.display =\n",
              "          google.colab.kernel.accessAllowed ? 'block' : 'none';\n",
              "\n",
              "        async function convertToInteractive(key) {\n",
              "          const element = document.querySelector('#df-0c612f59-71a8-431c-ace7-7851f9b69b6f');\n",
              "          const dataTable =\n",
              "            await google.colab.kernel.invokeFunction('convertToInteractive',\n",
              "                                                     [key], {});\n",
              "          if (!dataTable) return;\n",
              "\n",
              "          const docLinkHtml = 'Like what you see? Visit the ' +\n",
              "            '<a target=\"_blank\" href=https://colab.research.google.com/notebooks/data_table.ipynb>data table notebook</a>'\n",
              "            + ' to learn more about interactive tables.';\n",
              "          element.innerHTML = '';\n",
              "          dataTable['output_type'] = 'display_data';\n",
              "          await google.colab.output.renderOutput(dataTable, element);\n",
              "          const docLink = document.createElement('div');\n",
              "          docLink.innerHTML = docLinkHtml;\n",
              "          element.appendChild(docLink);\n",
              "        }\n",
              "      </script>\n",
              "    </div>\n",
              "  </div>\n",
              "  "
            ]
          },
          "metadata": {},
          "execution_count": 6
        }
      ]
    },
    {
      "cell_type": "markdown",
      "source": [
        "Las correlaciones en las variables numéricas son bastante pobres, no me da certeza alguna de que pueda utilizar alguna de estas características. "
      ],
      "metadata": {
        "id": "geBthaOvKWO6"
      }
    },
    {
      "cell_type": "markdown",
      "source": [
        "# Variables Categoricas\n"
      ],
      "metadata": {
        "id": "5O-GirIBWCDe"
      }
    },
    {
      "cell_type": "markdown",
      "source": [
        "Procedo a analizar la correlación con las variables categóricas. Primero analizaré su distribución con respecto a la variable target de forma gráfica y luego calcularé el valor de chi 2."
      ],
      "metadata": {
        "id": "lftG81mxJoG2"
      }
    },
    {
      "cell_type": "markdown",
      "source": [],
      "metadata": {
        "id": "6TamD645WA2h"
      }
    },
    {
      "cell_type": "code",
      "source": [
        "categorical_features = list(df.select_dtypes(object).columns) # Creo lista de atributos categoricos\n",
        "df_categ = df[categorical_features + ['type_stay']] # Creo un dataframe con las columnas deseadas y la variable target"
      ],
      "metadata": {
        "id": "vztYMlwtmX82"
      },
      "execution_count": 7,
      "outputs": []
    },
    {
      "cell_type": "code",
      "source": [
        "print('categorical_features:    ', categorical_features)\n",
        "\n",
        "plot02 = sns.catplot(kind='count', x = \"type_stay\", col = 'Type of Admission', \n",
        "                     col_wrap = 5, data=df_categ, \n",
        "                     ) # Instanciamos pairplot\n",
        "\n",
        "plot03 = sns.catplot(kind='count', x = \"type_stay\", col = \"health_conditions\", \n",
        "                     col_wrap = 5, data=df_categ, \n",
        "                     ) # Instanciamos pairplot\n",
        "\n",
        "#Esto lo he realizado de a pares y observando todas las variables.\n",
        "#Lamentablemente no hay una categoría que permita determinar una correlación en términos\n",
        "#estadísticos, siempre hay que tener en cuenta que el nivel de proporción en el target\n",
        "#es ligeramente desproporcionada, dando casi 65% a la internación de más de 8 días."
      ],
      "metadata": {
        "colab": {
          "base_uri": "https://localhost:8080/",
          "height": 639
        },
        "id": "TmH4gUYvmjgT",
        "outputId": "074f2eb2-6552-4b1b-ae86-5691dbef99f8"
      },
      "execution_count": 8,
      "outputs": [
        {
          "output_type": "stream",
          "name": "stdout",
          "text": [
            "categorical_features:     ['Department', 'Ward_Facility_Code', 'doctor_name', 'Age', 'gender', 'Type of Admission', 'Severity of Illness', 'health_conditions', 'Insurance']\n"
          ]
        },
        {
          "output_type": "display_data",
          "data": {
            "text/plain": [
              "<Figure size 1800x360 with 3 Axes>"
            ],
            "image/png": "[encoded data removed]"
          },
          "metadata": {
            "needs_background": "light"
          }
        },
        {
          "output_type": "display_data",
          "data": {
            "text/plain": [
              "<Figure size 1800x720 with 6 Axes>"
            ],
            "image/png": "[encoded data removed]"
          },
          "metadata": {
            "needs_background": "light"
          }
        }
      ]
    },
    {
      "cell_type": "code",
      "source": [],
      "metadata": {
        "id": "uZCnRZZwm7yC"
      },
      "execution_count": 8,
      "outputs": []
    },
    {
      "cell_type": "code",
      "source": [
        "#Como vamos a aplicar modelos de clasificación debemos usar metodos acordes a ello\n",
        "from sklearn.feature_selection import chi2\n",
        "from sklearn.preprocessing\timport OrdinalEncoder\n",
        "\n",
        "enc = OrdinalEncoder()\n",
        "df_categ.columns"
      ],
      "metadata": {
        "colab": {
          "base_uri": "https://localhost:8080/"
        },
        "id": "arB0bX96SAiY",
        "outputId": "4504b835-574f-4e58-fb8d-02d88e54704d"
      },
      "execution_count": 9,
      "outputs": [
        {
          "output_type": "execute_result",
          "data": {
            "text/plain": [
              "Index(['Department', 'Ward_Facility_Code', 'doctor_name', 'Age', 'gender',\n",
              "       'Type of Admission', 'Severity of Illness', 'health_conditions',\n",
              "       'Insurance', 'type_stay'],\n",
              "      dtype='object')"
            ]
          },
          "metadata": {},
          "execution_count": 9
        }
      ]
    },
    {
      "cell_type": "code",
      "source": [
        "enc.fit(df_categ[['Department', 'Ward_Facility_Code', 'doctor_name', 'Age', 'gender',\n",
        "       'Type of Admission', 'Severity of Illness', 'health_conditions',\n",
        "       'Insurance', 'type_stay']])"
      ],
      "metadata": {
        "colab": {
          "base_uri": "https://localhost:8080/"
        },
        "id": "A5YrTsFP8w13",
        "outputId": "ab990d3f-5875-4d0e-e98e-a14e66e7cb28"
      },
      "execution_count": 10,
      "outputs": [
        {
          "output_type": "execute_result",
          "data": {
            "text/plain": [
              "OrdinalEncoder()"
            ]
          },
          "metadata": {},
          "execution_count": 10
        }
      ]
    },
    {
      "cell_type": "code",
      "source": [
        "df_categ[['Department', 'Ward_Facility_Code', 'doctor_name', 'Age', 'gender',\n",
        "       'Type of Admission', 'Severity of Illness', 'health_conditions',\n",
        "       'Insurance', 'type_stay']] = enc.transform(df_categ[['Department', 'Ward_Facility_Code', 'doctor_name', 'Age', 'gender',\n",
        "       'Type of Admission', 'Severity of Illness', 'health_conditions',\n",
        "       'Insurance', 'type_stay']])"
      ],
      "metadata": {
        "colab": {
          "base_uri": "https://localhost:8080/"
        },
        "id": "jek-ShLS9Qb_",
        "outputId": "379ff09a-1709-4c51-d27f-f6fff2252901"
      },
      "execution_count": 11,
      "outputs": [
        {
          "output_type": "stream",
          "name": "stderr",
          "text": [
            "/usr/local/lib/python3.8/dist-packages/pandas/core/frame.py:3678: SettingWithCopyWarning: \n",
            "A value is trying to be set on a copy of a slice from a DataFrame.\n",
            "Try using .loc[row_indexer,col_indexer] = value instead\n",
            "\n",
            "See the caveats in the documentation: https://pandas.pydata.org/pandas-docs/stable/user_guide/indexing.html#returning-a-view-versus-a-copy\n",
            "  self[col] = igetitem(value, i)\n"
          ]
        }
      ]
    },
    {
      "cell_type": "code",
      "source": [
        "df_categ.head()"
      ],
      "metadata": {
        "colab": {
          "base_uri": "https://localhost:8080/",
          "height": 305
        },
        "id": "Xmf9EgKI921X",
        "outputId": "71ee30fb-f2f0-4722-ef98-b774e0ebdc28"
      },
      "execution_count": 12,
      "outputs": [
        {
          "output_type": "execute_result",
          "data": {
            "text/plain": [
              "   Department  Ward_Facility_Code  doctor_name  Age  gender  \\\n",
              "0         2.0                 3.0          8.0  4.0     0.0   \n",
              "1         2.0                 1.0          8.0  3.0     0.0   \n",
              "2         2.0                 1.0          8.0  2.0     0.0   \n",
              "3         2.0                 3.0          4.0  3.0     0.0   \n",
              "4         1.0                 4.0          2.0  7.0     1.0   \n",
              "\n",
              "   Type of Admission  Severity of Illness  health_conditions  Insurance  \\\n",
              "0                1.0                  0.0                1.0        1.0   \n",
              "1                1.0                  1.0                2.0        0.0   \n",
              "2                1.0                  0.0                1.0        1.0   \n",
              "3                2.0                  2.0                4.0        0.0   \n",
              "4                1.0                  2.0                1.0        0.0   \n",
              "\n",
              "   type_stay  \n",
              "0        0.0  \n",
              "1        1.0  \n",
              "2        0.0  \n",
              "3        0.0  \n",
              "4        1.0  "
            ],
            "text/html": [
              "\n",
              "  <div id=\"df-b6f6db69-5db9-4a47-8726-a1f790ba0490\">\n",
              "    <div class=\"colab-df-container\">\n",
              "      <div>\n",
              "<style scoped>\n",
              "    .dataframe tbody tr th:only-of-type {\n",
              "        vertical-align: middle;\n",
              "    }\n",
              "\n",
              "    .dataframe tbody tr th {\n",
              "        vertical-align: top;\n",
              "    }\n",
              "\n",
              "    .dataframe thead th {\n",
              "        text-align: right;\n",
              "    }\n",
              "</style>\n",
              "<table border=\"1\" class=\"dataframe\">\n",
              "  <thead>\n",
              "    <tr style=\"text-align: right;\">\n",
              "      <th></th>\n",
              "      <th>Department</th>\n",
              "      <th>Ward_Facility_Code</th>\n",
              "      <th>doctor_name</th>\n",
              "      <th>Age</th>\n",
              "      <th>gender</th>\n",
              "      <th>Type of Admission</th>\n",
              "      <th>Severity of Illness</th>\n",
              "      <th>health_conditions</th>\n",
              "      <th>Insurance</th>\n",
              "      <th>type_stay</th>\n",
              "    </tr>\n",
              "  </thead>\n",
              "  <tbody>\n",
              "    <tr>\n",
              "      <th>0</th>\n",
              "      <td>2.0</td>\n",
              "      <td>3.0</td>\n",
              "      <td>8.0</td>\n",
              "      <td>4.0</td>\n",
              "      <td>0.0</td>\n",
              "      <td>1.0</td>\n",
              "      <td>0.0</td>\n",
              "      <td>1.0</td>\n",
              "      <td>1.0</td>\n",
              "      <td>0.0</td>\n",
              "    </tr>\n",
              "    <tr>\n",
              "      <th>1</th>\n",
              "      <td>2.0</td>\n",
              "      <td>1.0</td>\n",
              "      <td>8.0</td>\n",
              "      <td>3.0</td>\n",
              "      <td>0.0</td>\n",
              "      <td>1.0</td>\n",
              "      <td>1.0</td>\n",
              "      <td>2.0</td>\n",
              "      <td>0.0</td>\n",
              "      <td>1.0</td>\n",
              "    </tr>\n",
              "    <tr>\n",
              "      <th>2</th>\n",
              "      <td>2.0</td>\n",
              "      <td>1.0</td>\n",
              "      <td>8.0</td>\n",
              "      <td>2.0</td>\n",
              "      <td>0.0</td>\n",
              "      <td>1.0</td>\n",
              "      <td>0.0</td>\n",
              "      <td>1.0</td>\n",
              "      <td>1.0</td>\n",
              "      <td>0.0</td>\n",
              "    </tr>\n",
              "    <tr>\n",
              "      <th>3</th>\n",
              "      <td>2.0</td>\n",
              "      <td>3.0</td>\n",
              "      <td>4.0</td>\n",
              "      <td>3.0</td>\n",
              "      <td>0.0</td>\n",
              "      <td>2.0</td>\n",
              "      <td>2.0</td>\n",
              "      <td>4.0</td>\n",
              "      <td>0.0</td>\n",
              "      <td>0.0</td>\n",
              "    </tr>\n",
              "    <tr>\n",
              "      <th>4</th>\n",
              "      <td>1.0</td>\n",
              "      <td>4.0</td>\n",
              "      <td>2.0</td>\n",
              "      <td>7.0</td>\n",
              "      <td>1.0</td>\n",
              "      <td>1.0</td>\n",
              "      <td>2.0</td>\n",
              "      <td>1.0</td>\n",
              "      <td>0.0</td>\n",
              "      <td>1.0</td>\n",
              "    </tr>\n",
              "  </tbody>\n",
              "</table>\n",
              "</div>\n",
              "      <button class=\"colab-df-convert\" onclick=\"convertToInteractive('df-b6f6db69-5db9-4a47-8726-a1f790ba0490')\"\n",
              "              title=\"Convert this dataframe to an interactive table.\"\n",
              "              style=\"display:none;\">\n",
              "        \n",
              "  <svg xmlns=\"http://www.w3.org/2000/svg\" height=\"24px\"viewBox=\"0 0 24 24\"\n",
              "       width=\"24px\">\n",
              "    <path d=\"M0 0h24v24H0V0z\" fill=\"none\"/>\n",
              "    <path d=\"M18.56 5.44l.94 2.06.94-2.06 2.06-.94-2.06-.94-.94-2.06-.94 2.06-2.06.94zm-11 1L8.5 8.5l.94-2.06 2.06-.94-2.06-.94L8.5 2.5l-.94 2.06-2.06.94zm10 10l.94 2.06.94-2.06 2.06-.94-2.06-.94-.94-2.06-.94 2.06-2.06.94z\"/><path d=\"M17.41 7.96l-1.37-1.37c-.4-.4-.92-.59-1.43-.59-.52 0-1.04.2-1.43.59L10.3 9.45l-7.72 7.72c-.78.78-.78 2.05 0 2.83L4 21.41c.39.39.9.59 1.41.59.51 0 1.02-.2 1.41-.59l7.78-7.78 2.81-2.81c.8-.78.8-2.07 0-2.86zM5.41 20L4 18.59l7.72-7.72 1.47 1.35L5.41 20z\"/>\n",
              "  </svg>\n",
              "      </button>\n",
              "      \n",
              "  <style>\n",
              "    .colab-df-container {\n",
              "      display:flex;\n",
              "      flex-wrap:wrap;\n",
              "      gap: 12px;\n",
              "    }\n",
              "\n",
              "    .colab-df-convert {\n",
              "      background-color: #E8F0FE;\n",
              "      border: none;\n",
              "      border-radius: 50%;\n",
              "      cursor: pointer;\n",
              "      display: none;\n",
              "      fill: #1967D2;\n",
              "      height: 32px;\n",
              "      padding: 0 0 0 0;\n",
              "      width: 32px;\n",
              "    }\n",
              "\n",
              "    .colab-df-convert:hover {\n",
              "      background-color: #E2EBFA;\n",
              "      box-shadow: 0px 1px 2px rgba(60, 64, 67, 0.3), 0px 1px 3px 1px rgba(60, 64, 67, 0.15);\n",
              "      fill: #174EA6;\n",
              "    }\n",
              "\n",
              "    [theme=dark] .colab-df-convert {\n",
              "      background-color: #3B4455;\n",
              "      fill: #D2E3FC;\n",
              "    }\n",
              "\n",
              "    [theme=dark] .colab-df-convert:hover {\n",
              "      background-color: #434B5C;\n",
              "      box-shadow: 0px 1px 3px 1px rgba(0, 0, 0, 0.15);\n",
              "      filter: drop-shadow(0px 1px 2px rgba(0, 0, 0, 0.3));\n",
              "      fill: #FFFFFF;\n",
              "    }\n",
              "  </style>\n",
              "\n",
              "      <script>\n",
              "        const buttonEl =\n",
              "          document.querySelector('#df-b6f6db69-5db9-4a47-8726-a1f790ba0490 button.colab-df-convert');\n",
              "        buttonEl.style.display =\n",
              "          google.colab.kernel.accessAllowed ? 'block' : 'none';\n",
              "\n",
              "        async function convertToInteractive(key) {\n",
              "          const element = document.querySelector('#df-b6f6db69-5db9-4a47-8726-a1f790ba0490');\n",
              "          const dataTable =\n",
              "            await google.colab.kernel.invokeFunction('convertToInteractive',\n",
              "                                                     [key], {});\n",
              "          if (!dataTable) return;\n",
              "\n",
              "          const docLinkHtml = 'Like what you see? Visit the ' +\n",
              "            '<a target=\"_blank\" href=https://colab.research.google.com/notebooks/data_table.ipynb>data table notebook</a>'\n",
              "            + ' to learn more about interactive tables.';\n",
              "          element.innerHTML = '';\n",
              "          dataTable['output_type'] = 'display_data';\n",
              "          await google.colab.output.renderOutput(dataTable, element);\n",
              "          const docLink = document.createElement('div');\n",
              "          docLink.innerHTML = docLinkHtml;\n",
              "          element.appendChild(docLink);\n",
              "        }\n",
              "      </script>\n",
              "    </div>\n",
              "  </div>\n",
              "  "
            ]
          },
          "metadata": {},
          "execution_count": 12
        }
      ]
    },
    {
      "cell_type": "code",
      "source": [
        "df_categ.nunique()"
      ],
      "metadata": {
        "colab": {
          "base_uri": "https://localhost:8080/"
        },
        "id": "9YlEhwqz_M0b",
        "outputId": "fa0f1067-4da4-479a-e193-5967f942a144"
      },
      "execution_count": 13,
      "outputs": [
        {
          "output_type": "execute_result",
          "data": {
            "text/plain": [
              "Department              5\n",
              "Ward_Facility_Code      6\n",
              "doctor_name             9\n",
              "Age                    10\n",
              "gender                  3\n",
              "Type of Admission       3\n",
              "Severity of Illness     3\n",
              "health_conditions       6\n",
              "Insurance               2\n",
              "type_stay               2\n",
              "dtype: int64"
            ]
          },
          "metadata": {},
          "execution_count": 13
        }
      ]
    },
    {
      "cell_type": "code",
      "source": [
        "X = df_categ.iloc[:,:9]\n",
        "y = df_categ.iloc[:,-1]\n",
        "y.head()"
      ],
      "metadata": {
        "colab": {
          "base_uri": "https://localhost:8080/"
        },
        "id": "yQskF87M_W8D",
        "outputId": "05de3a53-ce4b-4925-d2b1-ea81a3b511fd"
      },
      "execution_count": 14,
      "outputs": [
        {
          "output_type": "execute_result",
          "data": {
            "text/plain": [
              "0    0.0\n",
              "1    1.0\n",
              "2    0.0\n",
              "3    0.0\n",
              "4    1.0\n",
              "Name: type_stay, dtype: float64"
            ]
          },
          "metadata": {},
          "execution_count": 14
        }
      ]
    },
    {
      "cell_type": "code",
      "source": [
        "df_train_test = pd.concat([df_categ.iloc[:,:9], df.select_dtypes(np.number)], axis = 1)"
      ],
      "metadata": {
        "id": "ZptJagW7-J3u"
      },
      "execution_count": 43,
      "outputs": []
    },
    {
      "cell_type": "code",
      "source": [],
      "metadata": {
        "id": "NKxt0I_DMS6u"
      },
      "execution_count": null,
      "outputs": []
    },
    {
      "cell_type": "markdown",
      "source": [
        "Modelo de regresión logística con todas las feature."
      ],
      "metadata": {
        "id": "CSEWkrBSZsv3"
      }
    },
    {
      "cell_type": "code",
      "source": [
        "#Voy a probar regresión logística con todas las feature a excepción de patientid y Stay(in days)\n",
        "df_regre_1 = df_train_test\n",
        "df_regre_1.drop([\"patientid\",\"Admission_Deposit\",\"Stay (in days)\",\"Admission_Deposit\"], axis = 1, inplace = True)"
      ],
      "metadata": {
        "id": "Z-K1DA2kZsN6"
      },
      "execution_count": 44,
      "outputs": []
    },
    {
      "cell_type": "code",
      "source": [
        "X = df_regre_1.iloc[:,:12]\n",
        "y = df_regre_1.iloc[:,-1]"
      ],
      "metadata": {
        "id": "tyL3KPhmbVXl"
      },
      "execution_count": 50,
      "outputs": []
    },
    {
      "cell_type": "code",
      "source": [
        "X_train, X_test, y_train, y_test = train_test_split(X,y, test_size = 0.3, random_state = 123)\n",
        "# Estandarizamos los datos para que la regularización sea correcta\n",
        "scaler = StandardScaler()\n",
        "X_train_std = pd.DataFrame(scaler.fit_transform(X_train), columns=X_train.columns)\n",
        "X_test_std = scaler.transform(X_test)"
      ],
      "metadata": {
        "id": "-RVjrU1AaTzj"
      },
      "execution_count": 53,
      "outputs": []
    },
    {
      "cell_type": "code",
      "source": [
        "pd.DataFrame(y_test).value_counts(normalize=True)"
      ],
      "metadata": {
        "colab": {
          "base_uri": "https://localhost:8080/"
        },
        "id": "3CvxXjuUck98",
        "outputId": "ce5a9da1-05d0-4cb1-b8d4-bbefccbd7eec"
      },
      "execution_count": 54,
      "outputs": [
        {
          "output_type": "execute_result",
          "data": {
            "text/plain": [
              "type_stay\n",
              "1            0.62278\n",
              "0            0.37722\n",
              "dtype: float64"
            ]
          },
          "metadata": {},
          "execution_count": 54
        }
      ]
    },
    {
      "cell_type": "code",
      "source": [
        "pd.DataFrame(y_train).value_counts(normalize=True)"
      ],
      "metadata": {
        "colab": {
          "base_uri": "https://localhost:8080/"
        },
        "id": "q3ouldyPZsHs",
        "outputId": "d2b2653e-174d-4ac0-e294-a9b1edec5852"
      },
      "execution_count": 55,
      "outputs": [
        {
          "output_type": "execute_result",
          "data": {
            "text/plain": [
              "type_stay\n",
              "1            0.623045\n",
              "0            0.376955\n",
              "dtype: float64"
            ]
          },
          "metadata": {},
          "execution_count": 55
        }
      ]
    },
    {
      "cell_type": "code",
      "source": [
        "# Aplicamos un .describe() a ambos para ver los resultados de la estandarizacion de variables\n",
        "X_train.describe().T"
      ],
      "metadata": {
        "colab": {
          "base_uri": "https://localhost:8080/",
          "height": 425
        },
        "id": "pC7-RcrrZsBA",
        "outputId": "5a79f902-6d68-4734-917d-0212eb3968a9"
      },
      "execution_count": 56,
      "outputs": [
        {
          "output_type": "execute_result",
          "data": {
            "text/plain": [
              "                                      count      mean       std  min  25%  \\\n",
              "Department                         287000.0  2.008958  0.692957  0.0  2.0   \n",
              "Ward_Facility_Code                 287000.0  2.947052  1.690068  0.0  1.0   \n",
              "doctor_name                        287000.0  4.422192  2.070179  0.0  3.0   \n",
              "Age                                287000.0  3.125979  1.628524  0.0  2.0   \n",
              "gender                             287000.0  0.313254  0.549715  0.0  0.0   \n",
              "Type of Admission                  287000.0  0.835923  0.592732  0.0  0.0   \n",
              "Severity of Illness                287000.0  1.389213  0.765288  0.0  1.0   \n",
              "health_conditions                  287000.0  3.011237  1.681518  0.0  1.0   \n",
              "Insurance                          287000.0  0.830516  0.375180  0.0  1.0   \n",
              "Available Extra Rooms in Hospital  287000.0  3.643073  2.709457  0.0  2.0   \n",
              "staff_available                    287000.0  5.020983  3.158618  0.0  2.0   \n",
              "Visitors with Patient              287000.0  3.551418  2.251395  0.0  2.0   \n",
              "\n",
              "                                   50%  75%   max  \n",
              "Department                         2.0  2.0   4.0  \n",
              "Ward_Facility_Code                 3.0  4.0   5.0  \n",
              "doctor_name                        4.0  6.0   8.0  \n",
              "Age                                3.0  4.0   9.0  \n",
              "gender                             0.0  1.0   2.0  \n",
              "Type of Admission                  1.0  1.0   2.0  \n",
              "Severity of Illness                2.0  2.0   2.0  \n",
              "health_conditions                  4.0  4.0   5.0  \n",
              "Insurance                          1.0  1.0   1.0  \n",
              "Available Extra Rooms in Hospital  3.0  4.0  24.0  \n",
              "staff_available                    5.0  8.0  10.0  \n",
              "Visitors with Patient              3.0  4.0  32.0  "
            ],
            "text/html": [
              "\n",
              "  <div id=\"df-ac9f3f85-1c63-4568-9efa-c03f20fb8e96\">\n",
              "    <div class=\"colab-df-container\">\n",
              "      <div>\n",
              "<style scoped>\n",
              "    .dataframe tbody tr th:only-of-type {\n",
              "        vertical-align: middle;\n",
              "    }\n",
              "\n",
              "    .dataframe tbody tr th {\n",
              "        vertical-align: top;\n",
              "    }\n",
              "\n",
              "    .dataframe thead th {\n",
              "        text-align: right;\n",
              "    }\n",
              "</style>\n",
              "<table border=\"1\" class=\"dataframe\">\n",
              "  <thead>\n",
              "    <tr style=\"text-align: right;\">\n",
              "      <th></th>\n",
              "      <th>count</th>\n",
              "      <th>mean</th>\n",
              "      <th>std</th>\n",
              "      <th>min</th>\n",
              "      <th>25%</th>\n",
              "      <th>50%</th>\n",
              "      <th>75%</th>\n",
              "      <th>max</th>\n",
              "    </tr>\n",
              "  </thead>\n",
              "  <tbody>\n",
              "    <tr>\n",
              "      <th>Department</th>\n",
              "      <td>287000.0</td>\n",
              "      <td>2.008958</td>\n",
              "      <td>0.692957</td>\n",
              "      <td>0.0</td>\n",
              "      <td>2.0</td>\n",
              "      <td>2.0</td>\n",
              "      <td>2.0</td>\n",
              "      <td>4.0</td>\n",
              "    </tr>\n",
              "    <tr>\n",
              "      <th>Ward_Facility_Code</th>\n",
              "      <td>287000.0</td>\n",
              "      <td>2.947052</td>\n",
              "      <td>1.690068</td>\n",
              "      <td>0.0</td>\n",
              "      <td>1.0</td>\n",
              "      <td>3.0</td>\n",
              "      <td>4.0</td>\n",
              "      <td>5.0</td>\n",
              "    </tr>\n",
              "    <tr>\n",
              "      <th>doctor_name</th>\n",
              "      <td>287000.0</td>\n",
              "      <td>4.422192</td>\n",
              "      <td>2.070179</td>\n",
              "      <td>0.0</td>\n",
              "      <td>3.0</td>\n",
              "      <td>4.0</td>\n",
              "      <td>6.0</td>\n",
              "      <td>8.0</td>\n",
              "    </tr>\n",
              "    <tr>\n",
              "      <th>Age</th>\n",
              "      <td>287000.0</td>\n",
              "      <td>3.125979</td>\n",
              "      <td>1.628524</td>\n",
              "      <td>0.0</td>\n",
              "      <td>2.0</td>\n",
              "      <td>3.0</td>\n",
              "      <td>4.0</td>\n",
              "      <td>9.0</td>\n",
              "    </tr>\n",
              "    <tr>\n",
              "      <th>gender</th>\n",
              "      <td>287000.0</td>\n",
              "      <td>0.313254</td>\n",
              "      <td>0.549715</td>\n",
              "      <td>0.0</td>\n",
              "      <td>0.0</td>\n",
              "      <td>0.0</td>\n",
              "      <td>1.0</td>\n",
              "      <td>2.0</td>\n",
              "    </tr>\n",
              "    <tr>\n",
              "      <th>Type of Admission</th>\n",
              "      <td>287000.0</td>\n",
              "      <td>0.835923</td>\n",
              "      <td>0.592732</td>\n",
              "      <td>0.0</td>\n",
              "      <td>0.0</td>\n",
              "      <td>1.0</td>\n",
              "      <td>1.0</td>\n",
              "      <td>2.0</td>\n",
              "    </tr>\n",
              "    <tr>\n",
              "      <th>Severity of Illness</th>\n",
              "      <td>287000.0</td>\n",
              "      <td>1.389213</td>\n",
              "      <td>0.765288</td>\n",
              "      <td>0.0</td>\n",
              "      <td>1.0</td>\n",
              "      <td>2.0</td>\n",
              "      <td>2.0</td>\n",
              "      <td>2.0</td>\n",
              "    </tr>\n",
              "    <tr>\n",
              "      <th>health_conditions</th>\n",
              "      <td>287000.0</td>\n",
              "      <td>3.011237</td>\n",
              "      <td>1.681518</td>\n",
              "      <td>0.0</td>\n",
              "      <td>1.0</td>\n",
              "      <td>4.0</td>\n",
              "      <td>4.0</td>\n",
              "      <td>5.0</td>\n",
              "    </tr>\n",
              "    <tr>\n",
              "      <th>Insurance</th>\n",
              "      <td>287000.0</td>\n",
              "      <td>0.830516</td>\n",
              "      <td>0.375180</td>\n",
              "      <td>0.0</td>\n",
              "      <td>1.0</td>\n",
              "      <td>1.0</td>\n",
              "      <td>1.0</td>\n",
              "      <td>1.0</td>\n",
              "    </tr>\n",
              "    <tr>\n",
              "      <th>Available Extra Rooms in Hospital</th>\n",
              "      <td>287000.0</td>\n",
              "      <td>3.643073</td>\n",
              "      <td>2.709457</td>\n",
              "      <td>0.0</td>\n",
              "      <td>2.0</td>\n",
              "      <td>3.0</td>\n",
              "      <td>4.0</td>\n",
              "      <td>24.0</td>\n",
              "    </tr>\n",
              "    <tr>\n",
              "      <th>staff_available</th>\n",
              "      <td>287000.0</td>\n",
              "      <td>5.020983</td>\n",
              "      <td>3.158618</td>\n",
              "      <td>0.0</td>\n",
              "      <td>2.0</td>\n",
              "      <td>5.0</td>\n",
              "      <td>8.0</td>\n",
              "      <td>10.0</td>\n",
              "    </tr>\n",
              "    <tr>\n",
              "      <th>Visitors with Patient</th>\n",
              "      <td>287000.0</td>\n",
              "      <td>3.551418</td>\n",
              "      <td>2.251395</td>\n",
              "      <td>0.0</td>\n",
              "      <td>2.0</td>\n",
              "      <td>3.0</td>\n",
              "      <td>4.0</td>\n",
              "      <td>32.0</td>\n",
              "    </tr>\n",
              "  </tbody>\n",
              "</table>\n",
              "</div>\n",
              "      <button class=\"colab-df-convert\" onclick=\"convertToInteractive('df-ac9f3f85-1c63-4568-9efa-c03f20fb8e96')\"\n",
              "              title=\"Convert this dataframe to an interactive table.\"\n",
              "              style=\"display:none;\">\n",
              "        \n",
              "  <svg xmlns=\"http://www.w3.org/2000/svg\" height=\"24px\"viewBox=\"0 0 24 24\"\n",
              "       width=\"24px\">\n",
              "    <path d=\"M0 0h24v24H0V0z\" fill=\"none\"/>\n",
              "    <path d=\"M18.56 5.44l.94 2.06.94-2.06 2.06-.94-2.06-.94-.94-2.06-.94 2.06-2.06.94zm-11 1L8.5 8.5l.94-2.06 2.06-.94-2.06-.94L8.5 2.5l-.94 2.06-2.06.94zm10 10l.94 2.06.94-2.06 2.06-.94-2.06-.94-.94-2.06-.94 2.06-2.06.94z\"/><path d=\"M17.41 7.96l-1.37-1.37c-.4-.4-.92-.59-1.43-.59-.52 0-1.04.2-1.43.59L10.3 9.45l-7.72 7.72c-.78.78-.78 2.05 0 2.83L4 21.41c.39.39.9.59 1.41.59.51 0 1.02-.2 1.41-.59l7.78-7.78 2.81-2.81c.8-.78.8-2.07 0-2.86zM5.41 20L4 18.59l7.72-7.72 1.47 1.35L5.41 20z\"/>\n",
              "  </svg>\n",
              "      </button>\n",
              "      \n",
              "  <style>\n",
              "    .colab-df-container {\n",
              "      display:flex;\n",
              "      flex-wrap:wrap;\n",
              "      gap: 12px;\n",
              "    }\n",
              "\n",
              "    .colab-df-convert {\n",
              "      background-color: #E8F0FE;\n",
              "      border: none;\n",
              "      border-radius: 50%;\n",
              "      cursor: pointer;\n",
              "      display: none;\n",
              "      fill: #1967D2;\n",
              "      height: 32px;\n",
              "      padding: 0 0 0 0;\n",
              "      width: 32px;\n",
              "    }\n",
              "\n",
              "    .colab-df-convert:hover {\n",
              "      background-color: #E2EBFA;\n",
              "      box-shadow: 0px 1px 2px rgba(60, 64, 67, 0.3), 0px 1px 3px 1px rgba(60, 64, 67, 0.15);\n",
              "      fill: #174EA6;\n",
              "    }\n",
              "\n",
              "    [theme=dark] .colab-df-convert {\n",
              "      background-color: #3B4455;\n",
              "      fill: #D2E3FC;\n",
              "    }\n",
              "\n",
              "    [theme=dark] .colab-df-convert:hover {\n",
              "      background-color: #434B5C;\n",
              "      box-shadow: 0px 1px 3px 1px rgba(0, 0, 0, 0.15);\n",
              "      filter: drop-shadow(0px 1px 2px rgba(0, 0, 0, 0.3));\n",
              "      fill: #FFFFFF;\n",
              "    }\n",
              "  </style>\n",
              "\n",
              "      <script>\n",
              "        const buttonEl =\n",
              "          document.querySelector('#df-ac9f3f85-1c63-4568-9efa-c03f20fb8e96 button.colab-df-convert');\n",
              "        buttonEl.style.display =\n",
              "          google.colab.kernel.accessAllowed ? 'block' : 'none';\n",
              "\n",
              "        async function convertToInteractive(key) {\n",
              "          const element = document.querySelector('#df-ac9f3f85-1c63-4568-9efa-c03f20fb8e96');\n",
              "          const dataTable =\n",
              "            await google.colab.kernel.invokeFunction('convertToInteractive',\n",
              "                                                     [key], {});\n",
              "          if (!dataTable) return;\n",
              "\n",
              "          const docLinkHtml = 'Like what you see? Visit the ' +\n",
              "            '<a target=\"_blank\" href=https://colab.research.google.com/notebooks/data_table.ipynb>data table notebook</a>'\n",
              "            + ' to learn more about interactive tables.';\n",
              "          element.innerHTML = '';\n",
              "          dataTable['output_type'] = 'display_data';\n",
              "          await google.colab.output.renderOutput(dataTable, element);\n",
              "          const docLink = document.createElement('div');\n",
              "          docLink.innerHTML = docLinkHtml;\n",
              "          element.appendChild(docLink);\n",
              "        }\n",
              "      </script>\n",
              "    </div>\n",
              "  </div>\n",
              "  "
            ]
          },
          "metadata": {},
          "execution_count": 56
        }
      ]
    },
    {
      "cell_type": "code",
      "source": [
        "#Instanciamos el modelo de Regresion logistica y lo entrenamos. Almacenamos las predicciones\n",
        "lr = LogisticRegression(penalty='l2', \n",
        "                        class_weight='balanced'\n",
        "                       )\n",
        "lr.fit(X_train_std, y_train)\n",
        "\n",
        "y_train_pred = lr.predict(X_train_std)"
      ],
      "metadata": {
        "id": "Nen2wjZMc_-S"
      },
      "execution_count": 57,
      "outputs": []
    },
    {
      "cell_type": "code",
      "source": [
        "# Imprimimos resumen de metricas y la matriz de confusion\n",
        "\n",
        "model_name = 'Reg. Logistica'\n",
        "\n",
        "sns.heatmap(confusion_matrix(y_train, y_train_pred), annot=True, cmap='PuBu', fmt='0.0f', linewidths=0.25, \n",
        "           annot_kws={'size':13} )\n",
        "plt.xlabel('Predichos')\n",
        "plt.ylabel('Reales')\n",
        "\n",
        "print('Accuracy del modelo de ' + model_name + ' :   ', accuracy_score(y_train, y_train_pred).round(3))\n",
        "print('Recall del modelo de ' + model_name + ' :     ', recall_score(y_train, y_train_pred).round(3))\n",
        "\n",
        "print('Rporte del modelo de ' + model_name + ' :   \\n', classification_report(y_train, y_train_pred))"
      ],
      "metadata": {
        "colab": {
          "base_uri": "https://localhost:8080/",
          "height": 498
        },
        "id": "8HcrvCQQdAp6",
        "outputId": "1e054e82-c1e9-466a-d231-5f3f40d3f764"
      },
      "execution_count": 58,
      "outputs": [
        {
          "output_type": "stream",
          "name": "stdout",
          "text": [
            "Accuracy del modelo de Reg. Logistica :    0.602\n",
            "Recall del modelo de Reg. Logistica :      0.499\n",
            "Rporte del modelo de Reg. Logistica :   \n",
            "               precision    recall  f1-score   support\n",
            "\n",
            "           0       0.48      0.77      0.59    108186\n",
            "           1       0.78      0.50      0.61    178814\n",
            "\n",
            "    accuracy                           0.60    287000\n",
            "   macro avg       0.63      0.64      0.60    287000\n",
            "weighted avg       0.67      0.60      0.60    287000\n",
            "\n"
          ]
        },
        {
          "output_type": "display_data",
          "data": {
            "text/plain": [
              "<Figure size 432x288 with 2 Axes>"
            ],
            "image/png": "[encoded data removed]"
          },
          "metadata": {
            "needs_background": "light"
          }
        }
      ]
    },
    {
      "cell_type": "markdown",
      "source": [
        "#Observamos que tenemos un recall de 0.50 y un recall de 0.60, procedo a eliminar más variable para ver si es posible mejorar el modelo.\n"
      ],
      "metadata": {
        "id": "JT5ti7YCdLHp"
      }
    },
    {
      "cell_type": "code",
      "source": [
        "df_regre_2 = df_train_test[[\"Age\",\"gender\",\"staff_available\", 'Severity of Illness','Available Extra Rooms in Hospital','Department','Ward_Facility_Code','doctor_name','type_stay']]"
      ],
      "metadata": {
        "id": "P5LO7N62dKkv"
      },
      "execution_count": 63,
      "outputs": []
    },
    {
      "cell_type": "code",
      "source": [
        "df_regre_2.head()"
      ],
      "metadata": {
        "colab": {
          "base_uri": "https://localhost:8080/",
          "height": 322
        },
        "id": "H3ENgk6Djp_r",
        "outputId": "f8886fb1-a390-4ae7-cab0-55621242661c"
      },
      "execution_count": 81,
      "outputs": [
        {
          "output_type": "execute_result",
          "data": {
            "text/plain": [
              "   Age  gender  staff_available  Severity of Illness  \\\n",
              "0  4.0     0.0                0                  0.0   \n",
              "1  3.0     0.0                2                  1.0   \n",
              "2  2.0     0.0                8                  0.0   \n",
              "3  3.0     0.0                7                  2.0   \n",
              "4  7.0     1.0               10                  2.0   \n",
              "\n",
              "   Available Extra Rooms in Hospital  Department  Ward_Facility_Code  \\\n",
              "0                                  4         2.0                 3.0   \n",
              "1                                  4         2.0                 1.0   \n",
              "2                                  2         2.0                 1.0   \n",
              "3                                  4         2.0                 3.0   \n",
              "4                                  2         1.0                 4.0   \n",
              "\n",
              "   doctor_name  type_stay  \n",
              "0          8.0          0  \n",
              "1          8.0          1  \n",
              "2          8.0          0  \n",
              "3          4.0          0  \n",
              "4          2.0          1  "
            ],
            "text/html": [
              "\n",
              "  <div id=\"df-d8f9e85d-c4c2-4c67-891f-2a5199e43b6e\">\n",
              "    <div class=\"colab-df-container\">\n",
              "      <div>\n",
              "<style scoped>\n",
              "    .dataframe tbody tr th:only-of-type {\n",
              "        vertical-align: middle;\n",
              "    }\n",
              "\n",
              "    .dataframe tbody tr th {\n",
              "        vertical-align: top;\n",
              "    }\n",
              "\n",
              "    .dataframe thead th {\n",
              "        text-align: right;\n",
              "    }\n",
              "</style>\n",
              "<table border=\"1\" class=\"dataframe\">\n",
              "  <thead>\n",
              "    <tr style=\"text-align: right;\">\n",
              "      <th></th>\n",
              "      <th>Age</th>\n",
              "      <th>gender</th>\n",
              "      <th>staff_available</th>\n",
              "      <th>Severity of Illness</th>\n",
              "      <th>Available Extra Rooms in Hospital</th>\n",
              "      <th>Department</th>\n",
              "      <th>Ward_Facility_Code</th>\n",
              "      <th>doctor_name</th>\n",
              "      <th>type_stay</th>\n",
              "    </tr>\n",
              "  </thead>\n",
              "  <tbody>\n",
              "    <tr>\n",
              "      <th>0</th>\n",
              "      <td>4.0</td>\n",
              "      <td>0.0</td>\n",
              "      <td>0</td>\n",
              "      <td>0.0</td>\n",
              "      <td>4</td>\n",
              "      <td>2.0</td>\n",
              "      <td>3.0</td>\n",
              "      <td>8.0</td>\n",
              "      <td>0</td>\n",
              "    </tr>\n",
              "    <tr>\n",
              "      <th>1</th>\n",
              "      <td>3.0</td>\n",
              "      <td>0.0</td>\n",
              "      <td>2</td>\n",
              "      <td>1.0</td>\n",
              "      <td>4</td>\n",
              "      <td>2.0</td>\n",
              "      <td>1.0</td>\n",
              "      <td>8.0</td>\n",
              "      <td>1</td>\n",
              "    </tr>\n",
              "    <tr>\n",
              "      <th>2</th>\n",
              "      <td>2.0</td>\n",
              "      <td>0.0</td>\n",
              "      <td>8</td>\n",
              "      <td>0.0</td>\n",
              "      <td>2</td>\n",
              "      <td>2.0</td>\n",
              "      <td>1.0</td>\n",
              "      <td>8.0</td>\n",
              "      <td>0</td>\n",
              "    </tr>\n",
              "    <tr>\n",
              "      <th>3</th>\n",
              "      <td>3.0</td>\n",
              "      <td>0.0</td>\n",
              "      <td>7</td>\n",
              "      <td>2.0</td>\n",
              "      <td>4</td>\n",
              "      <td>2.0</td>\n",
              "      <td>3.0</td>\n",
              "      <td>4.0</td>\n",
              "      <td>0</td>\n",
              "    </tr>\n",
              "    <tr>\n",
              "      <th>4</th>\n",
              "      <td>7.0</td>\n",
              "      <td>1.0</td>\n",
              "      <td>10</td>\n",
              "      <td>2.0</td>\n",
              "      <td>2</td>\n",
              "      <td>1.0</td>\n",
              "      <td>4.0</td>\n",
              "      <td>2.0</td>\n",
              "      <td>1</td>\n",
              "    </tr>\n",
              "  </tbody>\n",
              "</table>\n",
              "</div>\n",
              "      <button class=\"colab-df-convert\" onclick=\"convertToInteractive('df-d8f9e85d-c4c2-4c67-891f-2a5199e43b6e')\"\n",
              "              title=\"Convert this dataframe to an interactive table.\"\n",
              "              style=\"display:none;\">\n",
              "        \n",
              "  <svg xmlns=\"http://www.w3.org/2000/svg\" height=\"24px\"viewBox=\"0 0 24 24\"\n",
              "       width=\"24px\">\n",
              "    <path d=\"M0 0h24v24H0V0z\" fill=\"none\"/>\n",
              "    <path d=\"M18.56 5.44l.94 2.06.94-2.06 2.06-.94-2.06-.94-.94-2.06-.94 2.06-2.06.94zm-11 1L8.5 8.5l.94-2.06 2.06-.94-2.06-.94L8.5 2.5l-.94 2.06-2.06.94zm10 10l.94 2.06.94-2.06 2.06-.94-2.06-.94-.94-2.06-.94 2.06-2.06.94z\"/><path d=\"M17.41 7.96l-1.37-1.37c-.4-.4-.92-.59-1.43-.59-.52 0-1.04.2-1.43.59L10.3 9.45l-7.72 7.72c-.78.78-.78 2.05 0 2.83L4 21.41c.39.39.9.59 1.41.59.51 0 1.02-.2 1.41-.59l7.78-7.78 2.81-2.81c.8-.78.8-2.07 0-2.86zM5.41 20L4 18.59l7.72-7.72 1.47 1.35L5.41 20z\"/>\n",
              "  </svg>\n",
              "      </button>\n",
              "      \n",
              "  <style>\n",
              "    .colab-df-container {\n",
              "      display:flex;\n",
              "      flex-wrap:wrap;\n",
              "      gap: 12px;\n",
              "    }\n",
              "\n",
              "    .colab-df-convert {\n",
              "      background-color: #E8F0FE;\n",
              "      border: none;\n",
              "      border-radius: 50%;\n",
              "      cursor: pointer;\n",
              "      display: none;\n",
              "      fill: #1967D2;\n",
              "      height: 32px;\n",
              "      padding: 0 0 0 0;\n",
              "      width: 32px;\n",
              "    }\n",
              "\n",
              "    .colab-df-convert:hover {\n",
              "      background-color: #E2EBFA;\n",
              "      box-shadow: 0px 1px 2px rgba(60, 64, 67, 0.3), 0px 1px 3px 1px rgba(60, 64, 67, 0.15);\n",
              "      fill: #174EA6;\n",
              "    }\n",
              "\n",
              "    [theme=dark] .colab-df-convert {\n",
              "      background-color: #3B4455;\n",
              "      fill: #D2E3FC;\n",
              "    }\n",
              "\n",
              "    [theme=dark] .colab-df-convert:hover {\n",
              "      background-color: #434B5C;\n",
              "      box-shadow: 0px 1px 3px 1px rgba(0, 0, 0, 0.15);\n",
              "      filter: drop-shadow(0px 1px 2px rgba(0, 0, 0, 0.3));\n",
              "      fill: #FFFFFF;\n",
              "    }\n",
              "  </style>\n",
              "\n",
              "      <script>\n",
              "        const buttonEl =\n",
              "          document.querySelector('#df-d8f9e85d-c4c2-4c67-891f-2a5199e43b6e button.colab-df-convert');\n",
              "        buttonEl.style.display =\n",
              "          google.colab.kernel.accessAllowed ? 'block' : 'none';\n",
              "\n",
              "        async function convertToInteractive(key) {\n",
              "          const element = document.querySelector('#df-d8f9e85d-c4c2-4c67-891f-2a5199e43b6e');\n",
              "          const dataTable =\n",
              "            await google.colab.kernel.invokeFunction('convertToInteractive',\n",
              "                                                     [key], {});\n",
              "          if (!dataTable) return;\n",
              "\n",
              "          const docLinkHtml = 'Like what you see? Visit the ' +\n",
              "            '<a target=\"_blank\" href=https://colab.research.google.com/notebooks/data_table.ipynb>data table notebook</a>'\n",
              "            + ' to learn more about interactive tables.';\n",
              "          element.innerHTML = '';\n",
              "          dataTable['output_type'] = 'display_data';\n",
              "          await google.colab.output.renderOutput(dataTable, element);\n",
              "          const docLink = document.createElement('div');\n",
              "          docLink.innerHTML = docLinkHtml;\n",
              "          element.appendChild(docLink);\n",
              "        }\n",
              "      </script>\n",
              "    </div>\n",
              "  </div>\n",
              "  "
            ]
          },
          "metadata": {},
          "execution_count": 81
        }
      ]
    },
    {
      "cell_type": "code",
      "source": [
        "#Repetimos el proceso con el dataset más depurado"
      ],
      "metadata": {
        "id": "0lj3Q2TtjuIM"
      },
      "execution_count": null,
      "outputs": []
    },
    {
      "cell_type": "code",
      "source": [
        "X = df_regre_2.iloc[:,:8]\n",
        "y = df_regre_2.iloc[:,-1]"
      ],
      "metadata": {
        "id": "qT96RKVhjuBb"
      },
      "execution_count": 82,
      "outputs": []
    },
    {
      "cell_type": "code",
      "source": [
        "X.head()"
      ],
      "metadata": {
        "colab": {
          "base_uri": "https://localhost:8080/",
          "height": 285
        },
        "id": "7O1iyLKgk-L3",
        "outputId": "c5246b18-9930-4d45-f9d4-30ab780d1b00"
      },
      "execution_count": 83,
      "outputs": [
        {
          "output_type": "execute_result",
          "data": {
            "text/plain": [
              "   Age  gender  staff_available  Severity of Illness  \\\n",
              "0  4.0     0.0                0                  0.0   \n",
              "1  3.0     0.0                2                  1.0   \n",
              "2  2.0     0.0                8                  0.0   \n",
              "3  3.0     0.0                7                  2.0   \n",
              "4  7.0     1.0               10                  2.0   \n",
              "\n",
              "   Available Extra Rooms in Hospital  Department  Ward_Facility_Code  \\\n",
              "0                                  4         2.0                 3.0   \n",
              "1                                  4         2.0                 1.0   \n",
              "2                                  2         2.0                 1.0   \n",
              "3                                  4         2.0                 3.0   \n",
              "4                                  2         1.0                 4.0   \n",
              "\n",
              "   doctor_name  \n",
              "0          8.0  \n",
              "1          8.0  \n",
              "2          8.0  \n",
              "3          4.0  \n",
              "4          2.0  "
            ],
            "text/html": [
              "\n",
              "  <div id=\"df-bf1a7230-ac6d-4f75-8134-e9d9c1712df1\">\n",
              "    <div class=\"colab-df-container\">\n",
              "      <div>\n",
              "<style scoped>\n",
              "    .dataframe tbody tr th:only-of-type {\n",
              "        vertical-align: middle;\n",
              "    }\n",
              "\n",
              "    .dataframe tbody tr th {\n",
              "        vertical-align: top;\n",
              "    }\n",
              "\n",
              "    .dataframe thead th {\n",
              "        text-align: right;\n",
              "    }\n",
              "</style>\n",
              "<table border=\"1\" class=\"dataframe\">\n",
              "  <thead>\n",
              "    <tr style=\"text-align: right;\">\n",
              "      <th></th>\n",
              "      <th>Age</th>\n",
              "      <th>gender</th>\n",
              "      <th>staff_available</th>\n",
              "      <th>Severity of Illness</th>\n",
              "      <th>Available Extra Rooms in Hospital</th>\n",
              "      <th>Department</th>\n",
              "      <th>Ward_Facility_Code</th>\n",
              "      <th>doctor_name</th>\n",
              "    </tr>\n",
              "  </thead>\n",
              "  <tbody>\n",
              "    <tr>\n",
              "      <th>0</th>\n",
              "      <td>4.0</td>\n",
              "      <td>0.0</td>\n",
              "      <td>0</td>\n",
              "      <td>0.0</td>\n",
              "      <td>4</td>\n",
              "      <td>2.0</td>\n",
              "      <td>3.0</td>\n",
              "      <td>8.0</td>\n",
              "    </tr>\n",
              "    <tr>\n",
              "      <th>1</th>\n",
              "      <td>3.0</td>\n",
              "      <td>0.0</td>\n",
              "      <td>2</td>\n",
              "      <td>1.0</td>\n",
              "      <td>4</td>\n",
              "      <td>2.0</td>\n",
              "      <td>1.0</td>\n",
              "      <td>8.0</td>\n",
              "    </tr>\n",
              "    <tr>\n",
              "      <th>2</th>\n",
              "      <td>2.0</td>\n",
              "      <td>0.0</td>\n",
              "      <td>8</td>\n",
              "      <td>0.0</td>\n",
              "      <td>2</td>\n",
              "      <td>2.0</td>\n",
              "      <td>1.0</td>\n",
              "      <td>8.0</td>\n",
              "    </tr>\n",
              "    <tr>\n",
              "      <th>3</th>\n",
              "      <td>3.0</td>\n",
              "      <td>0.0</td>\n",
              "      <td>7</td>\n",
              "      <td>2.0</td>\n",
              "      <td>4</td>\n",
              "      <td>2.0</td>\n",
              "      <td>3.0</td>\n",
              "      <td>4.0</td>\n",
              "    </tr>\n",
              "    <tr>\n",
              "      <th>4</th>\n",
              "      <td>7.0</td>\n",
              "      <td>1.0</td>\n",
              "      <td>10</td>\n",
              "      <td>2.0</td>\n",
              "      <td>2</td>\n",
              "      <td>1.0</td>\n",
              "      <td>4.0</td>\n",
              "      <td>2.0</td>\n",
              "    </tr>\n",
              "  </tbody>\n",
              "</table>\n",
              "</div>\n",
              "      <button class=\"colab-df-convert\" onclick=\"convertToInteractive('df-bf1a7230-ac6d-4f75-8134-e9d9c1712df1')\"\n",
              "              title=\"Convert this dataframe to an interactive table.\"\n",
              "              style=\"display:none;\">\n",
              "        \n",
              "  <svg xmlns=\"http://www.w3.org/2000/svg\" height=\"24px\"viewBox=\"0 0 24 24\"\n",
              "       width=\"24px\">\n",
              "    <path d=\"M0 0h24v24H0V0z\" fill=\"none\"/>\n",
              "    <path d=\"M18.56 5.44l.94 2.06.94-2.06 2.06-.94-2.06-.94-.94-2.06-.94 2.06-2.06.94zm-11 1L8.5 8.5l.94-2.06 2.06-.94-2.06-.94L8.5 2.5l-.94 2.06-2.06.94zm10 10l.94 2.06.94-2.06 2.06-.94-2.06-.94-.94-2.06-.94 2.06-2.06.94z\"/><path d=\"M17.41 7.96l-1.37-1.37c-.4-.4-.92-.59-1.43-.59-.52 0-1.04.2-1.43.59L10.3 9.45l-7.72 7.72c-.78.78-.78 2.05 0 2.83L4 21.41c.39.39.9.59 1.41.59.51 0 1.02-.2 1.41-.59l7.78-7.78 2.81-2.81c.8-.78.8-2.07 0-2.86zM5.41 20L4 18.59l7.72-7.72 1.47 1.35L5.41 20z\"/>\n",
              "  </svg>\n",
              "      </button>\n",
              "      \n",
              "  <style>\n",
              "    .colab-df-container {\n",
              "      display:flex;\n",
              "      flex-wrap:wrap;\n",
              "      gap: 12px;\n",
              "    }\n",
              "\n",
              "    .colab-df-convert {\n",
              "      background-color: #E8F0FE;\n",
              "      border: none;\n",
              "      border-radius: 50%;\n",
              "      cursor: pointer;\n",
              "      display: none;\n",
              "      fill: #1967D2;\n",
              "      height: 32px;\n",
              "      padding: 0 0 0 0;\n",
              "      width: 32px;\n",
              "    }\n",
              "\n",
              "    .colab-df-convert:hover {\n",
              "      background-color: #E2EBFA;\n",
              "      box-shadow: 0px 1px 2px rgba(60, 64, 67, 0.3), 0px 1px 3px 1px rgba(60, 64, 67, 0.15);\n",
              "      fill: #174EA6;\n",
              "    }\n",
              "\n",
              "    [theme=dark] .colab-df-convert {\n",
              "      background-color: #3B4455;\n",
              "      fill: #D2E3FC;\n",
              "    }\n",
              "\n",
              "    [theme=dark] .colab-df-convert:hover {\n",
              "      background-color: #434B5C;\n",
              "      box-shadow: 0px 1px 3px 1px rgba(0, 0, 0, 0.15);\n",
              "      filter: drop-shadow(0px 1px 2px rgba(0, 0, 0, 0.3));\n",
              "      fill: #FFFFFF;\n",
              "    }\n",
              "  </style>\n",
              "\n",
              "      <script>\n",
              "        const buttonEl =\n",
              "          document.querySelector('#df-bf1a7230-ac6d-4f75-8134-e9d9c1712df1 button.colab-df-convert');\n",
              "        buttonEl.style.display =\n",
              "          google.colab.kernel.accessAllowed ? 'block' : 'none';\n",
              "\n",
              "        async function convertToInteractive(key) {\n",
              "          const element = document.querySelector('#df-bf1a7230-ac6d-4f75-8134-e9d9c1712df1');\n",
              "          const dataTable =\n",
              "            await google.colab.kernel.invokeFunction('convertToInteractive',\n",
              "                                                     [key], {});\n",
              "          if (!dataTable) return;\n",
              "\n",
              "          const docLinkHtml = 'Like what you see? Visit the ' +\n",
              "            '<a target=\"_blank\" href=https://colab.research.google.com/notebooks/data_table.ipynb>data table notebook</a>'\n",
              "            + ' to learn more about interactive tables.';\n",
              "          element.innerHTML = '';\n",
              "          dataTable['output_type'] = 'display_data';\n",
              "          await google.colab.output.renderOutput(dataTable, element);\n",
              "          const docLink = document.createElement('div');\n",
              "          docLink.innerHTML = docLinkHtml;\n",
              "          element.appendChild(docLink);\n",
              "        }\n",
              "      </script>\n",
              "    </div>\n",
              "  </div>\n",
              "  "
            ]
          },
          "metadata": {},
          "execution_count": 83
        }
      ]
    },
    {
      "cell_type": "code",
      "source": [
        "X_train, X_test, y_train, y_test = train_test_split(X,y, test_size = 0.3, random_state = 123)\n",
        "# Estandarizamos los datos para que la regularización sea correcta\n",
        "scaler = StandardScaler()\n",
        "X_train_std = pd.DataFrame(scaler.fit_transform(X_train), columns=X_train.columns)\n",
        "X_test_std = scaler.transform(X_test)"
      ],
      "metadata": {
        "id": "0W7aYhBPj4JF"
      },
      "execution_count": 84,
      "outputs": []
    },
    {
      "cell_type": "code",
      "source": [
        "X_train.head()"
      ],
      "metadata": {
        "colab": {
          "base_uri": "https://localhost:8080/",
          "height": 285
        },
        "id": "8ZfnK9x7k6Ev",
        "outputId": "46ed98e4-12e2-4713-ca78-9ad2ed2ce16b"
      },
      "execution_count": 85,
      "outputs": [
        {
          "output_type": "execute_result",
          "data": {
            "text/plain": [
              "        Age  gender  staff_available  Severity of Illness  \\\n",
              "397558  3.0     0.0                5                  2.0   \n",
              "146299  7.0     0.0                9                  2.0   \n",
              "249328  3.0     0.0                7                  2.0   \n",
              "38476   5.0     1.0                0                  2.0   \n",
              "401702  2.0     0.0               10                  1.0   \n",
              "\n",
              "        Available Extra Rooms in Hospital  Department  Ward_Facility_Code  \\\n",
              "397558                                 21         2.0                 3.0   \n",
              "146299                                  4         3.0                 4.0   \n",
              "249328                                  3         2.0                 1.0   \n",
              "38476                                   2         3.0                 0.0   \n",
              "401702                                  4         2.0                 5.0   \n",
              "\n",
              "        doctor_name  \n",
              "397558          8.0  \n",
              "146299          1.0  \n",
              "249328          6.0  \n",
              "38476           5.0  \n",
              "401702          3.0  "
            ],
            "text/html": [
              "\n",
              "  <div id=\"df-50717ca5-c6b9-4501-bbe9-f79340b4ce38\">\n",
              "    <div class=\"colab-df-container\">\n",
              "      <div>\n",
              "<style scoped>\n",
              "    .dataframe tbody tr th:only-of-type {\n",
              "        vertical-align: middle;\n",
              "    }\n",
              "\n",
              "    .dataframe tbody tr th {\n",
              "        vertical-align: top;\n",
              "    }\n",
              "\n",
              "    .dataframe thead th {\n",
              "        text-align: right;\n",
              "    }\n",
              "</style>\n",
              "<table border=\"1\" class=\"dataframe\">\n",
              "  <thead>\n",
              "    <tr style=\"text-align: right;\">\n",
              "      <th></th>\n",
              "      <th>Age</th>\n",
              "      <th>gender</th>\n",
              "      <th>staff_available</th>\n",
              "      <th>Severity of Illness</th>\n",
              "      <th>Available Extra Rooms in Hospital</th>\n",
              "      <th>Department</th>\n",
              "      <th>Ward_Facility_Code</th>\n",
              "      <th>doctor_name</th>\n",
              "    </tr>\n",
              "  </thead>\n",
              "  <tbody>\n",
              "    <tr>\n",
              "      <th>397558</th>\n",
              "      <td>3.0</td>\n",
              "      <td>0.0</td>\n",
              "      <td>5</td>\n",
              "      <td>2.0</td>\n",
              "      <td>21</td>\n",
              "      <td>2.0</td>\n",
              "      <td>3.0</td>\n",
              "      <td>8.0</td>\n",
              "    </tr>\n",
              "    <tr>\n",
              "      <th>146299</th>\n",
              "      <td>7.0</td>\n",
              "      <td>0.0</td>\n",
              "      <td>9</td>\n",
              "      <td>2.0</td>\n",
              "      <td>4</td>\n",
              "      <td>3.0</td>\n",
              "      <td>4.0</td>\n",
              "      <td>1.0</td>\n",
              "    </tr>\n",
              "    <tr>\n",
              "      <th>249328</th>\n",
              "      <td>3.0</td>\n",
              "      <td>0.0</td>\n",
              "      <td>7</td>\n",
              "      <td>2.0</td>\n",
              "      <td>3</td>\n",
              "      <td>2.0</td>\n",
              "      <td>1.0</td>\n",
              "      <td>6.0</td>\n",
              "    </tr>\n",
              "    <tr>\n",
              "      <th>38476</th>\n",
              "      <td>5.0</td>\n",
              "      <td>1.0</td>\n",
              "      <td>0</td>\n",
              "      <td>2.0</td>\n",
              "      <td>2</td>\n",
              "      <td>3.0</td>\n",
              "      <td>0.0</td>\n",
              "      <td>5.0</td>\n",
              "    </tr>\n",
              "    <tr>\n",
              "      <th>401702</th>\n",
              "      <td>2.0</td>\n",
              "      <td>0.0</td>\n",
              "      <td>10</td>\n",
              "      <td>1.0</td>\n",
              "      <td>4</td>\n",
              "      <td>2.0</td>\n",
              "      <td>5.0</td>\n",
              "      <td>3.0</td>\n",
              "    </tr>\n",
              "  </tbody>\n",
              "</table>\n",
              "</div>\n",
              "      <button class=\"colab-df-convert\" onclick=\"convertToInteractive('df-50717ca5-c6b9-4501-bbe9-f79340b4ce38')\"\n",
              "              title=\"Convert this dataframe to an interactive table.\"\n",
              "              style=\"display:none;\">\n",
              "        \n",
              "  <svg xmlns=\"http://www.w3.org/2000/svg\" height=\"24px\"viewBox=\"0 0 24 24\"\n",
              "       width=\"24px\">\n",
              "    <path d=\"M0 0h24v24H0V0z\" fill=\"none\"/>\n",
              "    <path d=\"M18.56 5.44l.94 2.06.94-2.06 2.06-.94-2.06-.94-.94-2.06-.94 2.06-2.06.94zm-11 1L8.5 8.5l.94-2.06 2.06-.94-2.06-.94L8.5 2.5l-.94 2.06-2.06.94zm10 10l.94 2.06.94-2.06 2.06-.94-2.06-.94-.94-2.06-.94 2.06-2.06.94z\"/><path d=\"M17.41 7.96l-1.37-1.37c-.4-.4-.92-.59-1.43-.59-.52 0-1.04.2-1.43.59L10.3 9.45l-7.72 7.72c-.78.78-.78 2.05 0 2.83L4 21.41c.39.39.9.59 1.41.59.51 0 1.02-.2 1.41-.59l7.78-7.78 2.81-2.81c.8-.78.8-2.07 0-2.86zM5.41 20L4 18.59l7.72-7.72 1.47 1.35L5.41 20z\"/>\n",
              "  </svg>\n",
              "      </button>\n",
              "      \n",
              "  <style>\n",
              "    .colab-df-container {\n",
              "      display:flex;\n",
              "      flex-wrap:wrap;\n",
              "      gap: 12px;\n",
              "    }\n",
              "\n",
              "    .colab-df-convert {\n",
              "      background-color: #E8F0FE;\n",
              "      border: none;\n",
              "      border-radius: 50%;\n",
              "      cursor: pointer;\n",
              "      display: none;\n",
              "      fill: #1967D2;\n",
              "      height: 32px;\n",
              "      padding: 0 0 0 0;\n",
              "      width: 32px;\n",
              "    }\n",
              "\n",
              "    .colab-df-convert:hover {\n",
              "      background-color: #E2EBFA;\n",
              "      box-shadow: 0px 1px 2px rgba(60, 64, 67, 0.3), 0px 1px 3px 1px rgba(60, 64, 67, 0.15);\n",
              "      fill: #174EA6;\n",
              "    }\n",
              "\n",
              "    [theme=dark] .colab-df-convert {\n",
              "      background-color: #3B4455;\n",
              "      fill: #D2E3FC;\n",
              "    }\n",
              "\n",
              "    [theme=dark] .colab-df-convert:hover {\n",
              "      background-color: #434B5C;\n",
              "      box-shadow: 0px 1px 3px 1px rgba(0, 0, 0, 0.15);\n",
              "      filter: drop-shadow(0px 1px 2px rgba(0, 0, 0, 0.3));\n",
              "      fill: #FFFFFF;\n",
              "    }\n",
              "  </style>\n",
              "\n",
              "      <script>\n",
              "        const buttonEl =\n",
              "          document.querySelector('#df-50717ca5-c6b9-4501-bbe9-f79340b4ce38 button.colab-df-convert');\n",
              "        buttonEl.style.display =\n",
              "          google.colab.kernel.accessAllowed ? 'block' : 'none';\n",
              "\n",
              "        async function convertToInteractive(key) {\n",
              "          const element = document.querySelector('#df-50717ca5-c6b9-4501-bbe9-f79340b4ce38');\n",
              "          const dataTable =\n",
              "            await google.colab.kernel.invokeFunction('convertToInteractive',\n",
              "                                                     [key], {});\n",
              "          if (!dataTable) return;\n",
              "\n",
              "          const docLinkHtml = 'Like what you see? Visit the ' +\n",
              "            '<a target=\"_blank\" href=https://colab.research.google.com/notebooks/data_table.ipynb>data table notebook</a>'\n",
              "            + ' to learn more about interactive tables.';\n",
              "          element.innerHTML = '';\n",
              "          dataTable['output_type'] = 'display_data';\n",
              "          await google.colab.output.renderOutput(dataTable, element);\n",
              "          const docLink = document.createElement('div');\n",
              "          docLink.innerHTML = docLinkHtml;\n",
              "          element.appendChild(docLink);\n",
              "        }\n",
              "      </script>\n",
              "    </div>\n",
              "  </div>\n",
              "  "
            ]
          },
          "metadata": {},
          "execution_count": 85
        }
      ]
    },
    {
      "cell_type": "code",
      "source": [
        "#Instanciamos el modelo de Regresion logistica y lo entrenamos. Almacenamos las predicciones\n",
        "lr = LogisticRegression(penalty='l2', \n",
        "                        class_weight='balanced'\n",
        "                       )\n",
        "lr.fit(X_train_std, y_train)\n",
        "\n",
        "y_train_pred = lr.predict(X_train_std)"
      ],
      "metadata": {
        "id": "y-kb-ZgHkYpG"
      },
      "execution_count": 87,
      "outputs": []
    },
    {
      "cell_type": "code",
      "source": [
        "# Imprimimos resumen de metricas y la matriz de confusion\n",
        "\n",
        "model_name = 'Reg. Logistica'\n",
        "\n",
        "sns.heatmap(confusion_matrix(y_train, y_train_pred), annot=True, cmap='PuBu', fmt='0.0f', linewidths=0.25, \n",
        "           annot_kws={'size':13} )\n",
        "plt.xlabel('Predichos')\n",
        "plt.ylabel('Reales')\n",
        "\n",
        "print('Accuracy del modelo de ' + model_name + ' :   ', accuracy_score(y_train, y_train_pred).round(3))\n",
        "print('Recall del modelo de ' + model_name + ' :     ', recall_score(y_train, y_train_pred).round(3))\n",
        "\n",
        "print('Rporte del modelo de ' + model_name + ' :   \\n', classification_report(y_train, y_train_pred))"
      ],
      "metadata": {
        "colab": {
          "base_uri": "https://localhost:8080/",
          "height": 498
        },
        "id": "m6fZhdvSjt9b",
        "outputId": "e343126b-f5d1-4c5e-b375-4cbf2855532a"
      },
      "execution_count": 88,
      "outputs": [
        {
          "output_type": "stream",
          "name": "stdout",
          "text": [
            "Accuracy del modelo de Reg. Logistica :    0.602\n",
            "Recall del modelo de Reg. Logistica :      0.5\n",
            "Rporte del modelo de Reg. Logistica :   \n",
            "               precision    recall  f1-score   support\n",
            "\n",
            "           0       0.48      0.77      0.59    108186\n",
            "           1       0.78      0.50      0.61    178814\n",
            "\n",
            "    accuracy                           0.60    287000\n",
            "   macro avg       0.63      0.64      0.60    287000\n",
            "weighted avg       0.67      0.60      0.60    287000\n",
            "\n"
          ]
        },
        {
          "output_type": "display_data",
          "data": {
            "text/plain": [
              "<Figure size 432x288 with 2 Axes>"
            ],
            "image/png": "[encoded data removed]"
          },
          "metadata": {
            "needs_background": "light"
          }
        }
      ]
    },
    {
      "cell_type": "markdown",
      "source": [
        "Sin resultados satisfactorios, procedo a probar Ada Boost\n"
      ],
      "metadata": {
        "id": "pU5Ud5JRl_Ki"
      }
    },
    {
      "cell_type": "code",
      "source": [
        "dtc = DecisionTreeClassifier(max_depth = 2, \n",
        "                             min_samples_split = 6)\n",
        "\n",
        "ada = AdaBoostClassifier(base_estimator = dtc, \n",
        "                         n_estimators = 650,\n",
        "                         learning_rate = 0.7)"
      ],
      "metadata": {
        "id": "QyFw8cd4l-iw"
      },
      "execution_count": 89,
      "outputs": []
    },
    {
      "cell_type": "code",
      "source": [
        "ada.fit(X_train, y_train)\n",
        "\n",
        "y_train_pred_ada = ada.predict(X_train)"
      ],
      "metadata": {
        "id": "krZ3Vp3nmMEi"
      },
      "execution_count": 90,
      "outputs": []
    },
    {
      "cell_type": "code",
      "source": [
        "# Histograma de probabilidades\n",
        "fig, ax01 = plt.subplots(1,1 , figsize=(13,5))\n",
        "sns.histplot(data = ada.predict_proba(X_train[y_train==0])[:,1], stat = 'density', ax=ax01)\n",
        "sns.histplot(data = ada.predict_proba(X_train[y_train==1])[:,1], stat = 'density', color = 'orange', ax=ax01)\n",
        "ylim = plt.ylim()\n",
        "plt.vlines(0.2, ylim[0], ylim[1])\n",
        "plt.ylim(ylim)\n",
        "plt.legend(['Umbral', 'type_stay = 0', 'type_stay = 1'])"
      ],
      "metadata": {
        "colab": {
          "base_uri": "https://localhost:8080/",
          "height": 338
        },
        "id": "hrJRHfEmmodl",
        "outputId": "e3315e31-c855-47df-a258-f61834dbf1e7"
      },
      "execution_count": 91,
      "outputs": [
        {
          "output_type": "execute_result",
          "data": {
            "text/plain": [
              "<matplotlib.legend.Legend at 0x7fa0040eaee0>"
            ]
          },
          "metadata": {},
          "execution_count": 91
        },
        {
          "output_type": "display_data",
          "data": {
            "text/plain": [
              "<Figure size 936x360 with 1 Axes>"
            ],
            "image/png": "[encoded data removed]"
          },
          "metadata": {
            "needs_background": "light"
          }
        }
      ]
    },
    {
      "cell_type": "code",
      "source": [
        "umbral = 0.5\n",
        "probs = ada.predict_proba(X_train)[:,1]\n",
        "y_pred_train_ada_umbral = probs > umbral"
      ],
      "metadata": {
        "id": "vSuhk8UInshi"
      },
      "execution_count": 92,
      "outputs": []
    },
    {
      "cell_type": "code",
      "source": [
        "sns.heatmap(confusion_matrix(y_train, y_pred_train_ada_umbral), annot=True, cmap='PuBu', fmt='0.0f', linewidths=0.25, \n",
        "           annot_kws={'size':13} )\n",
        "plt.xlabel('Predichos')\n",
        "plt.ylabel('Reales')\n",
        "\n",
        "print('Accuracy del modelo de AdaBoost:    ', accuracy_score(y_train, y_pred_train_ada_umbral).round(3))\n",
        "print('Recall del modelo de AdaBoost:    ', recall_score(y_train, y_pred_train_ada_umbral).round(3))"
      ],
      "metadata": {
        "colab": {
          "base_uri": "https://localhost:8080/",
          "height": 316
        },
        "id": "EeNb4aA4jt4o",
        "outputId": "a536517a-4554-415d-9e46-0f9c9072b6bb"
      },
      "execution_count": 93,
      "outputs": [
        {
          "output_type": "stream",
          "name": "stdout",
          "text": [
            "Accuracy del modelo de AdaBoost:     0.699\n",
            "Recall del modelo de AdaBoost:     0.861\n"
          ]
        },
        {
          "output_type": "display_data",
          "data": {
            "text/plain": [
              "<Figure size 432x288 with 2 Axes>"
            ],
            "image/png": "[encoded data removed]"
          },
          "metadata": {
            "needs_background": "light"
          }
        }
      ]
    },
    {
      "cell_type": "markdown",
      "source": [
        "Observemos el comportamiento en testeo\n"
      ],
      "metadata": {
        "id": "JZqPwdmyoEIf"
      }
    },
    {
      "cell_type": "code",
      "source": [
        "probs = ada.predict_proba(X_test)[:,1]\n",
        "y_pred_test_ada_umbral = probs > umbral"
      ],
      "metadata": {
        "id": "aERpk2Fojtxu"
      },
      "execution_count": 94,
      "outputs": []
    },
    {
      "cell_type": "code",
      "source": [
        "sns.heatmap(confusion_matrix(y_test, y_pred_test_ada_umbral), annot=True, cmap='PuBu', fmt='0.0f', linewidths=0.25, \n",
        "           annot_kws={'size':13} )\n",
        "plt.xlabel('Predichos')\n",
        "plt.ylabel('Reales')\n",
        "\n",
        "print('Accuracy del modelo de AdaBoost (Testeo):    ', accuracy_score(y_test, y_pred_test_ada_umbral).round(3))\n",
        "print('Recall del modelo de AdaBoost (Testeo):    ', recall_score(y_test, y_pred_test_ada_umbral).round(3))"
      ],
      "metadata": {
        "colab": {
          "base_uri": "https://localhost:8080/",
          "height": 316
        },
        "id": "yYXC2QfOoJeM",
        "outputId": "23ad242d-4aca-4640-f6e7-b4eb55ec9fa2"
      },
      "execution_count": 95,
      "outputs": [
        {
          "output_type": "stream",
          "name": "stdout",
          "text": [
            "Accuracy del modelo de AdaBoost (Testeo):     0.697\n",
            "Recall del modelo de AdaBoost (Testeo):     0.86\n"
          ]
        },
        {
          "output_type": "display_data",
          "data": {
            "text/plain": [
              "<Figure size 432x288 with 2 Axes>"
            ],
            "image/png": "[encoded data removed]"
          },
          "metadata": {
            "needs_background": "light"
          }
        }
      ]
    },
    {
      "cell_type": "markdown",
      "source": [
        "Tenemos un nivel de Accuracy y Recall mejor que en el modelo de regresión lineal, por lo tanto intentaré mejorar los parametros para obtener mejores resultados."
      ],
      "metadata": {
        "id": "YxJ7xsvZoWGl"
      }
    },
    {
      "cell_type": "markdown",
      "source": [
        "# Optimización de hiperparámetros"
      ],
      "metadata": {
        "id": "-RoG-ZIeojW1"
      }
    },
    {
      "cell_type": "code",
      "source": [
        "dtc = DecisionTreeClassifier(max_depth = 6, \n",
        "                             min_samples_split = 6)\n",
        "\n",
        "#lrc = LogisticRegression(penalty='l2', C=1.0, class_weight='balanced', solver='saga', tol=0.001, max_iter=1500)\n",
        "\n",
        "ada = AdaBoostClassifier(base_estimator = dtc, \n",
        "                         n_estimators = 650,\n",
        "                         learning_rate = 0.7)"
      ],
      "metadata": {
        "id": "OuQhZn6eoTlv"
      },
      "execution_count": 96,
      "outputs": []
    },
    {
      "cell_type": "code",
      "source": [
        "param_grid = {'base_estimator__max_depth': [2, 3, 5],\n",
        "              'base_estimator__min_samples_split': [6, 24, 96],\n",
        "              'base_estimator__max_features': [None, 10, 6],\n",
        "              'base_estimator__class_weight': [None, 'balanced'],\n",
        "              'base_estimator__splitter': [\"best\", \"random\"],\n",
        "              'n_estimators': [10, 30, 100],\n",
        "              'learning_rate': [0.3, 0.5, 0.7]\n",
        "             }"
      ],
      "metadata": {
        "id": "idUPMzTYo_aB"
      },
      "execution_count": 97,
      "outputs": []
    },
    {
      "cell_type": "code",
      "source": [
        "#scorer = make_scorer(fbeta_score, beta=4)\n",
        "\n",
        "grid_obj = GridSearchCV(ada, param_grid, scoring = 'recall', n_jobs=-1, verbose=1, cv=3)"
      ],
      "metadata": {
        "id": "4x_4p-u1pDnn"
      },
      "execution_count": 98,
      "outputs": []
    },
    {
      "cell_type": "code",
      "source": [
        "grid_fit = grid_obj.fit(X_train, y_train)"
      ],
      "metadata": {
        "colab": {
          "base_uri": "https://localhost:8080/"
        },
        "id": "qDTOLmnjpU-Y",
        "outputId": "6631b3c4-f242-4f62-e63a-61738185eafc"
      },
      "execution_count": 99,
      "outputs": [
        {
          "output_type": "stream",
          "name": "stderr",
          "text": [
            "/usr/local/lib/python3.8/dist-packages/sklearn/model_selection/_validation.py:372: FitFailedWarning: \n",
            "972 fits failed out of a total of 2916.\n",
            "The score on these train-test partitions for these parameters will be set to nan.\n",
            "If these failures are not expected, you can try to debug them by setting error_score='raise'.\n",
            "\n",
            "Below are more details about the failures:\n",
            "--------------------------------------------------------------------------------\n",
            "972 fits failed with the following error:\n",
            "Traceback (most recent call last):\n",
            "  File \"/usr/local/lib/python3.8/dist-packages/sklearn/model_selection/_validation.py\", line 680, in _fit_and_score\n",
            "    estimator.fit(X_train, y_train, **fit_params)\n",
            "  File \"/usr/local/lib/python3.8/dist-packages/sklearn/ensemble/_weight_boosting.py\", line 486, in fit\n",
            "    return super().fit(X, y, sample_weight)\n",
            "  File \"/usr/local/lib/python3.8/dist-packages/sklearn/ensemble/_weight_boosting.py\", line 145, in fit\n",
            "    sample_weight, estimator_weight, estimator_error = self._boost(\n",
            "  File \"/usr/local/lib/python3.8/dist-packages/sklearn/ensemble/_weight_boosting.py\", line 548, in _boost\n",
            "    return self._boost_real(iboost, X, y, sample_weight, random_state)\n",
            "  File \"/usr/local/lib/python3.8/dist-packages/sklearn/ensemble/_weight_boosting.py\", line 557, in _boost_real\n",
            "    estimator.fit(X, y, sample_weight=sample_weight)\n",
            "  File \"/usr/local/lib/python3.8/dist-packages/sklearn/tree/_classes.py\", line 937, in fit\n",
            "    super().fit(\n",
            "  File \"/usr/local/lib/python3.8/dist-packages/sklearn/tree/_classes.py\", line 308, in fit\n",
            "    raise ValueError(\"max_features must be in (0, n_features]\")\n",
            "ValueError: max_features must be in (0, n_features]\n",
            "\n",
            "  warnings.warn(some_fits_failed_message, FitFailedWarning)\n",
            "/usr/local/lib/python3.8/dist-packages/sklearn/model_selection/_search.py:969: UserWarning: One or more of the test scores are non-finite: [0.99998882 0.93021798 0.90539887 0.96616048 0.91776924 0.88782755\n",
            " 0.93253311 0.90133874 0.87986952 0.96080286 0.96158012 0.91557151\n",
            " 0.98568909 0.92524082 0.89967225 0.90016999 0.86959604 0.89564567\n",
            " 0.99998882 0.93021798 0.90539887 0.96616048 0.91776924 0.88782755\n",
            " 0.93253311 0.90133874 0.87986952 0.96333046 0.97716071 0.91646626\n",
            " 0.93322618 0.90443715 0.90307798 0.94082707 0.88266599 0.89669151\n",
            " 0.99998882 0.93021798 0.90539887 0.96616048 0.91776924 0.88782755\n",
            " 0.93253311 0.90133874 0.87986952 0.9880491  0.95912528 0.91124288\n",
            " 0.86003349 0.94719661 0.90996784 0.88554038 0.90796582 0.8867482\n",
            "        nan        nan        nan        nan        nan        nan\n",
            "        nan        nan        nan        nan        nan        nan\n",
            "        nan        nan        nan        nan        nan        nan\n",
            "        nan        nan        nan        nan        nan        nan\n",
            "        nan        nan        nan        nan        nan        nan\n",
            "        nan        nan        nan        nan        nan        nan\n",
            "        nan        nan        nan        nan        nan        nan\n",
            "        nan        nan        nan        nan        nan        nan\n",
            "        nan        nan        nan        nan        nan        nan\n",
            " 0.99998882 0.94229757 0.90252438 0.99365814 0.90457121 0.88878948\n",
            " 0.95294541 0.8986879  0.87833162 0.95764861 0.96926424 0.92766792\n",
            " 0.9503619  0.92615768 0.90186445 0.94732507 0.92433483 0.88746409\n",
            " 0.99998882 0.94283992 0.90593574 0.9863153  0.9162761  0.89067966\n",
            " 0.92214242 0.89824062 0.88141306 0.98448114 0.95447773 0.92151057\n",
            " 0.95725718 0.93580446 0.9068249  0.92051002 0.91748965 0.89134509\n",
            " 0.99998882 0.94111192 0.90266976 0.98724939 0.91770773 0.88567447\n",
            " 0.94658134 0.90329052 0.88470138 0.98817213 0.94768887 0.92362446\n",
            " 0.86480379 0.92311568 0.9027705  0.88645767 0.8967415  0.89900679\n",
            " 0.95641271 0.91392728 0.88082025 0.92614102 0.8910152  0.86583822\n",
            " 0.90521987 0.87481967 0.86507208 0.99253978 0.94854429 0.89796657\n",
            " 0.98346883 0.90985043 0.88051271 0.88702772 0.90019237 0.87303563\n",
            " 0.95641271 0.91392728 0.88082025 0.92614102 0.8910152  0.8669567\n",
            " 0.90521987 0.87481967 0.86633036 0.99991052 0.95076441 0.89241887\n",
            " 0.96817912 0.92014043 0.88260425 0.92021853 0.90003572 0.87859449\n",
            " 0.95641271 0.91372595 0.88100482 0.92614102 0.8911606  0.86588855\n",
            " 0.90521987 0.8724205  0.86531255 0.99355197 0.95835879 0.89600364\n",
            " 0.97902281 0.91817192 0.88064131 0.94886867 0.90837405 0.87824218\n",
            "        nan        nan        nan        nan        nan        nan\n",
            "        nan        nan        nan        nan        nan        nan\n",
            "        nan        nan        nan        nan        nan        nan\n",
            "        nan        nan        nan        nan        nan        nan\n",
            "        nan        nan        nan        nan        nan        nan\n",
            "        nan        nan        nan        nan        nan        nan\n",
            "        nan        nan        nan        nan        nan        nan\n",
            "        nan        nan        nan        nan        nan        nan\n",
            "        nan        nan        nan        nan        nan        nan\n",
            " 0.97829587 0.91016921 0.87648616 0.93225926 0.90057268 0.86779557\n",
            " 0.91636556 0.87461264 0.86836042 0.97453789 0.94840451 0.90387214\n",
            " 0.92479324 0.91491155 0.88258189 0.93322106 0.90483398 0.88052946\n",
            " 0.99562669 0.90798821 0.88254833 0.93345597 0.89150174 0.86813116\n",
            " 0.90914019 0.88119498 0.86643103 0.97949819 0.96752484 0.90049993\n",
            " 0.96202188 0.92968102 0.88122291 0.9408044  0.90549965 0.8759325\n",
            " 0.96023793 0.91227189 0.87663157 0.92940145 0.88566328 0.87138589\n",
            " 0.92225431 0.87955643 0.86630798 0.96382854 0.95719005 0.89955482\n",
            " 0.958029   0.91659491 0.88787227 0.93518966 0.89818471 0.87751518\n",
            " 0.91566092 0.87146977 0.85747761 0.89160241 0.86709652 0.85593969\n",
            " 0.87351101 0.86182289 0.85046471 0.96857065 0.89235737 0.86829329\n",
            " 0.94437241 0.87550186 0.85979284 0.89321294 0.8726945  0.85406063\n",
            " 0.91567769 0.87550746 0.86190677 0.89164715 0.86900914 0.85727627\n",
            " 0.8735166  0.86058695 0.8514378  0.96775419 0.89476212 0.86777878\n",
            " 0.92512324 0.87716282 0.86395359 0.91199233 0.86581028 0.85600119\n",
            " 0.9181831  0.877202   0.86319303 0.8874193  0.86542437 0.85564325\n",
            " 0.87313631 0.86220319 0.85044798 0.94844361 0.89735703 0.86823177\n",
            " 0.92869117 0.87548515 0.85997179 0.89969465 0.87338236 0.85720356\n",
            "        nan        nan        nan        nan        nan        nan\n",
            "        nan        nan        nan        nan        nan        nan\n",
            "        nan        nan        nan        nan        nan        nan\n",
            "        nan        nan        nan        nan        nan        nan\n",
            "        nan        nan        nan        nan        nan        nan\n",
            "        nan        nan        nan        nan        nan        nan\n",
            "        nan        nan        nan        nan        nan        nan\n",
            "        nan        nan        nan        nan        nan        nan\n",
            "        nan        nan        nan        nan        nan        nan\n",
            " 0.91073962 0.87789544 0.85970337 0.88038962 0.86767251 0.85502252\n",
            " 0.86973609 0.86225352 0.85404383 0.98119268 0.91024189 0.87027858\n",
            " 0.934306   0.88272169 0.86392003 0.9117127  0.87116222 0.85900993\n",
            " 0.91875913 0.87770531 0.86272326 0.88072522 0.86554181 0.85575515\n",
            " 0.87340476 0.86184525 0.85404384 0.96824628 0.90630496 0.86905385\n",
            " 0.92182383 0.88361088 0.86632475 0.92936228 0.87723557 0.85779078\n",
            " 0.91354703 0.8735166  0.86244924 0.87710134 0.86911538 0.85794175\n",
            " 0.87108387 0.86181171 0.85236053 0.97555564 0.90791554 0.87396956\n",
            " 0.917965   0.88372836 0.86331604 0.91821099 0.87790665 0.8602682\n",
            " 0.42104085 0.42543648 0.43704633 0.42411109 0.43034103 0.43905958\n",
            " 0.42390416 0.4328632  0.44176071 0.42247812 0.41818879 0.42925051\n",
            " 0.39355993 0.42516242 0.43460802 0.40360925 0.41645513 0.44167122\n",
            " 0.42104085 0.42543648 0.43704633 0.42411109 0.43034103 0.43905958\n",
            " 0.42390416 0.4328632  0.44176071 0.41448663 0.42456965 0.42952453\n",
            " 0.40919065 0.42661091 0.43617389 0.41182443 0.42794746 0.43779573\n",
            " 0.42104085 0.42543648 0.43704633 0.42411109 0.43034103 0.43905958\n",
            " 0.42390416 0.4328632  0.44176071 0.39929192 0.42133164 0.42930084\n",
            " 0.39427557 0.42114138 0.43490445 0.40771415 0.42982092 0.43383071\n",
            "        nan        nan        nan        nan        nan        nan\n",
            "        nan        nan        nan        nan        nan        nan\n",
            "        nan        nan        nan        nan        nan        nan\n",
            "        nan        nan        nan        nan        nan        nan\n",
            "        nan        nan        nan        nan        nan        nan\n",
            "        nan        nan        nan        nan        nan        nan\n",
            "        nan        nan        nan        nan        nan        nan\n",
            "        nan        nan        nan        nan        nan        nan\n",
            "        nan        nan        nan        nan        nan        nan\n",
            " 0.41795384 0.42597335 0.43539656 0.42479338 0.42913307 0.4386793\n",
            " 0.42665005 0.43459126 0.44300223 0.37679385 0.42651583 0.42822709\n",
            " 0.40406787 0.42392093 0.43331616 0.37899722 0.41819428 0.43643111\n",
            " 0.4230653  0.42385383 0.43324348 0.42602928 0.43112955 0.44211306\n",
            " 0.4260125  0.43419418 0.44300223 0.40590231 0.41400009 0.42143237\n",
            " 0.39104875 0.43095065 0.42939031 0.39711647 0.4301341  0.43214178\n",
            " 0.42123657 0.42540293 0.4352232  0.42293669 0.42943507 0.44039058\n",
            " 0.42649904 0.43505544 0.44453456 0.38873911 0.4060532  0.4282942\n",
            " 0.39262548 0.41590135 0.43151543 0.37737545 0.42213138 0.43897012\n",
            " 0.42398246 0.43374119 0.45135167 0.42984891 0.4418558  0.46493561\n",
            " 0.43756644 0.44770542 0.46647353 0.41022525 0.42799222 0.44207391\n",
            " 0.41345203 0.43149868 0.45167607 0.42529104 0.44031223 0.45731319\n",
            " 0.42398246 0.43374119 0.45082599 0.42984891 0.4418558  0.46323553\n",
            " 0.43756644 0.44770542 0.46632253 0.4252799  0.42778529 0.43796347\n",
            " 0.42115267 0.43242136 0.44790677 0.42749447 0.43103447 0.45344321\n",
            " 0.42398246 0.43374678 0.45078684 0.42984891 0.44184462 0.46411354\n",
            " 0.43756644 0.44884629 0.47237352 0.42468153 0.42637041 0.43893654\n",
            " 0.42434596 0.43138121 0.44875121 0.42548685 0.43675549 0.45302942\n",
            "        nan        nan        nan        nan        nan        nan\n",
            "        nan        nan        nan        nan        nan        nan\n",
            "        nan        nan        nan        nan        nan        nan\n",
            "        nan        nan        nan        nan        nan        nan\n",
            "        nan        nan        nan        nan        nan        nan\n",
            "        nan        nan        nan        nan        nan        nan\n",
            "        nan        nan        nan        nan        nan        nan\n",
            "        nan        nan        nan        nan        nan        nan\n",
            "        nan        nan        nan        nan        nan        nan\n",
            " 0.4221817  0.43414386 0.44907556 0.42690169 0.44295191 0.45955572\n",
            " 0.42881429 0.44833737 0.46833022 0.41169584 0.42723722 0.43981457\n",
            " 0.42662208 0.42811524 0.44843802 0.42942954 0.43904279 0.44766632\n",
            " 0.42286397 0.43323789 0.44976346 0.42536378 0.44445627 0.46545013\n",
            " 0.42982095 0.45315805 0.46871609 0.39706612 0.42493876 0.43825426\n",
            " 0.41391617 0.4308611  0.4427338  0.41044894 0.4340824  0.45047368\n",
            " 0.42285279 0.43519522 0.45243102 0.42583355 0.44020603 0.4598074\n",
            " 0.43122465 0.44657581 0.46660774 0.41551549 0.42423972 0.4367779\n",
            " 0.4157785  0.42742738 0.44457927 0.41847963 0.43621864 0.45245338\n",
            " 0.43760556 0.45965078 0.47549405 0.4507645  0.46976747 0.48387712\n",
            " 0.47142842 0.47963248 0.48963728 0.42562102 0.44865054 0.46715579\n",
            " 0.43376363 0.45567459 0.47436442 0.43918824 0.45588713 0.48047134\n",
            " 0.43762234 0.45893496 0.47513056 0.4509826  0.4665686  0.48114801\n",
            " 0.47145079 0.4812375  0.49149956 0.42703592 0.44363417 0.46779893\n",
            " 0.42951892 0.45500353 0.47490129 0.44565861 0.46557315 0.47633852\n",
            " 0.43853391 0.46028832 0.47503548 0.45071977 0.46888385 0.4826915\n",
            " 0.46895655 0.48061674 0.48876487 0.42645989 0.44550761 0.46830226\n",
            " 0.42940708 0.44976338 0.47395617 0.43917707 0.45874482 0.47884392\n",
            "        nan        nan        nan        nan        nan        nan\n",
            "        nan        nan        nan        nan        nan        nan\n",
            "        nan        nan        nan        nan        nan        nan\n",
            "        nan        nan        nan        nan        nan        nan\n",
            "        nan        nan        nan        nan        nan        nan\n",
            "        nan        nan        nan        nan        nan        nan\n",
            "        nan        nan        nan        nan        nan        nan\n",
            "        nan        nan        nan        nan        nan        nan\n",
            "        nan        nan        nan        nan        nan        nan\n",
            " 0.43110721 0.45985773 0.4742973  0.44791796 0.46970033 0.48284251\n",
            " 0.4680842  0.47379401 0.48780856 0.42559305 0.43117991 0.46337535\n",
            " 0.42790831 0.44861701 0.47137807 0.4277797  0.45877282 0.47587437\n",
            " 0.43401525 0.45996399 0.47491246 0.44908681 0.46808413 0.48328428\n",
            " 0.45884546 0.47605891 0.48877046 0.42747211 0.44230319 0.46262036\n",
            " 0.42935675 0.45122304 0.47421901 0.43483734 0.46335295 0.47850279\n",
            " 0.43587193 0.45665328 0.47363181 0.44863936 0.47023723 0.4830662\n",
            " 0.45731319 0.48063908 0.48706478 0.42572169 0.43470312 0.46100976\n",
            " 0.43449619 0.4503898  0.47522565 0.42818797 0.45960048 0.47563948]\n",
            "  warnings.warn(\n"
          ]
        }
      ]
    },
    {
      "cell_type": "code",
      "source": [
        "best_ada = grid_fit.best_estimator_\n",
        "print(grid_fit.best_params_)\n",
        "print(grid_fit.best_score_)\n",
        "y_train_pred_ada_opt = best_ada.predict(X_train)\n",
        "y_test_pred_ada_opt = best_ada.predict(X_test)"
      ],
      "metadata": {
        "colab": {
          "base_uri": "https://localhost:8080/"
        },
        "id": "pGCIKYhRp5tY",
        "outputId": "5a1735f6-abde-4744-d56f-c5af5fc7828a"
      },
      "execution_count": 100,
      "outputs": [
        {
          "output_type": "stream",
          "name": "stdout",
          "text": [
            "{'base_estimator__class_weight': None, 'base_estimator__max_depth': 2, 'base_estimator__max_features': None, 'base_estimator__min_samples_split': 6, 'base_estimator__splitter': 'best', 'learning_rate': 0.3, 'n_estimators': 10}\n",
            "0.9999888152559908\n"
          ]
        }
      ]
    },
    {
      "cell_type": "code",
      "source": [
        "sns.heatmap(confusion_matrix(y_train, y_train_pred_ada_opt), annot=True, cmap='PuBu', fmt='0.0f', linewidths=0.25, \n",
        "           annot_kws={'size':13} )\n",
        "plt.xlabel('Predichos')\n",
        "plt.ylabel('Reales')\n",
        "\n",
        "print('Accuracy del modelo de AdaBoost optimizado:    ', accuracy_score(y_train, y_train_pred_ada_opt).round(3))\n",
        "print('Recall del modelo de AdaBoost optimizado:    ', recall_score(y_train, y_train_pred_ada_opt).round(3))"
      ],
      "metadata": {
        "colab": {
          "base_uri": "https://localhost:8080/",
          "height": 316
        },
        "id": "-apo4a6vqIVg",
        "outputId": "aa13aace-0fde-4f44-91d8-3a2f1e48e219"
      },
      "execution_count": 101,
      "outputs": [
        {
          "output_type": "stream",
          "name": "stdout",
          "text": [
            "Accuracy del modelo de AdaBoost optimizado:     0.688\n",
            "Recall del modelo de AdaBoost optimizado:     1.0\n"
          ]
        },
        {
          "output_type": "display_data",
          "data": {
            "text/plain": [
              "<Figure size 432x288 with 2 Axes>"
            ],
            "image/png": "[encoded data removed]"
          },
          "metadata": {
            "needs_background": "light"
          }
        }
      ]
    },
    {
      "cell_type": "code",
      "source": [
        "sns.heatmap(confusion_matrix(y_test, y_test_pred_ada_opt), annot=True, cmap='PuBu', fmt='0.0f', linewidths=0.25, \n",
        "           annot_kws={'size':13} )\n",
        "plt.xlabel('Predichos')\n",
        "plt.ylabel('Reales')\n",
        "\n",
        "print('Accuracy del modelo de AdaBoost optimizado (Testeo):    ', accuracy_score(y_test, y_test_pred_ada_opt).round(3))\n",
        "print('Recall del modelo de AdaBoost optimizado (Testeo):      ', recall_score(y_test, y_test_pred_ada_opt).round(3))"
      ],
      "metadata": {
        "colab": {
          "base_uri": "https://localhost:8080/",
          "height": 316
        },
        "id": "Kda80yMGqJLI",
        "outputId": "1c21fc0c-705a-44b8-bfd7-5f333203fd99"
      },
      "execution_count": 102,
      "outputs": [
        {
          "output_type": "stream",
          "name": "stdout",
          "text": [
            "Accuracy del modelo de AdaBoost optimizado (Testeo):     0.688\n",
            "Recall del modelo de AdaBoost optimizado (Testeo):       1.0\n"
          ]
        },
        {
          "output_type": "display_data",
          "data": {
            "text/plain": [
              "<Figure size 432x288 with 2 Axes>"
            ],
            "image/png": "[encoded data removed]"
          },
          "metadata": {
            "needs_background": "light"
          }
        }
      ]
    },
    {
      "cell_type": "code",
      "source": [
        "#Pasamos el modelo entrenado al dataset 2\n",
        "#Convertimos las variables categ del set 2 a números para que lo lea el predictor.\n",
        "\n",
        "categorical_features2 = list(df_1.select_dtypes(object).columns) # Creo lista de atributos categoricos\n",
        "df_categ2 = df_1[categorical_features2] # Creo un dataframe con las columnas deseadas y la variable target\n",
        "\n",
        "\n"
      ],
      "metadata": {
        "id": "F-lruKxgp6Ej"
      },
      "execution_count": 109,
      "outputs": []
    },
    {
      "cell_type": "code",
      "source": [
        "enc = OrdinalEncoder()\n",
        "df_categ2.columns\n"
      ],
      "metadata": {
        "colab": {
          "base_uri": "https://localhost:8080/"
        },
        "id": "pug4i-xup6Yg",
        "outputId": "cba2946f-58b9-4b06-c614-973833b6bd13"
      },
      "execution_count": 110,
      "outputs": [
        {
          "output_type": "execute_result",
          "data": {
            "text/plain": [
              "Index(['Department', 'Ward_Facility_Code', 'doctor_name', 'Age', 'gender',\n",
              "       'Type of Admission', 'Severity of Illness', 'health_conditions',\n",
              "       'Insurance'],\n",
              "      dtype='object')"
            ]
          },
          "metadata": {},
          "execution_count": 110
        }
      ]
    },
    {
      "cell_type": "code",
      "source": [
        "enc.fit(df_categ2[['Department', 'Ward_Facility_Code', 'doctor_name', 'Age', 'gender',\n",
        "       'Type of Admission', 'Severity of Illness', 'health_conditions',\n",
        "       'Insurance']])"
      ],
      "metadata": {
        "colab": {
          "base_uri": "https://localhost:8080/"
        },
        "id": "xoFkOfJhWemO",
        "outputId": "e06a8b18-dfd3-4eca-c266-0b4a325bf09d"
      },
      "execution_count": 112,
      "outputs": [
        {
          "output_type": "execute_result",
          "data": {
            "text/plain": [
              "OrdinalEncoder()"
            ]
          },
          "metadata": {},
          "execution_count": 112
        }
      ]
    },
    {
      "cell_type": "code",
      "source": [
        "df_categ2[['Department', 'Ward_Facility_Code', 'doctor_name', 'Age', 'gender',\n",
        "       'Type of Admission', 'Severity of Illness', 'health_conditions',\n",
        "       'Insurance']] = enc.transform(df_categ2[['Department', 'Ward_Facility_Code', 'doctor_name', 'Age', 'gender',\n",
        "       'Type of Admission', 'Severity of Illness', 'health_conditions',\n",
        "       'Insurance']])"
      ],
      "metadata": {
        "colab": {
          "base_uri": "https://localhost:8080/"
        },
        "id": "qysFRVWdW9BR",
        "outputId": "654e1c13-f8d1-4402-db40-e52a92fc1f93"
      },
      "execution_count": 114,
      "outputs": [
        {
          "output_type": "stream",
          "name": "stderr",
          "text": [
            "/usr/local/lib/python3.8/dist-packages/pandas/core/frame.py:3678: SettingWithCopyWarning: \n",
            "A value is trying to be set on a copy of a slice from a DataFrame.\n",
            "Try using .loc[row_indexer,col_indexer] = value instead\n",
            "\n",
            "See the caveats in the documentation: https://pandas.pydata.org/pandas-docs/stable/user_guide/indexing.html#returning-a-view-versus-a-copy\n",
            "  self[col] = igetitem(value, i)\n"
          ]
        }
      ]
    },
    {
      "cell_type": "code",
      "source": [
        "df_categ2.head()"
      ],
      "metadata": {
        "colab": {
          "base_uri": "https://localhost:8080/",
          "height": 305
        },
        "id": "t46QjAUDXTJu",
        "outputId": "a364c0d6-3acf-4ea7-9883-2465b0b180a4"
      },
      "execution_count": 115,
      "outputs": [
        {
          "output_type": "execute_result",
          "data": {
            "text/plain": [
              "   Department  Ward_Facility_Code  doctor_name  Age  gender  \\\n",
              "0         2.0                 5.0          4.0  2.0     0.0   \n",
              "1         0.0                 4.0          1.0  5.0     0.0   \n",
              "2         3.0                 4.0          1.0  5.0     2.0   \n",
              "3         2.0                 5.0          4.0  2.0     0.0   \n",
              "4         1.0                 0.0          1.0  5.0     0.0   \n",
              "\n",
              "   Type of Admission  Severity of Illness  health_conditions  Insurance  \n",
              "0                1.0                  2.0                5.0        0.0  \n",
              "1                1.0                  2.0                0.0        1.0  \n",
              "2                1.0                  2.0                4.0        0.0  \n",
              "3                1.0                  2.0                4.0        1.0  \n",
              "4                1.0                  0.0                1.0        0.0  "
            ],
            "text/html": [
              "\n",
              "  <div id=\"df-adf3030f-fe04-4724-83e5-5ab5d82c958e\">\n",
              "    <div class=\"colab-df-container\">\n",
              "      <div>\n",
              "<style scoped>\n",
              "    .dataframe tbody tr th:only-of-type {\n",
              "        vertical-align: middle;\n",
              "    }\n",
              "\n",
              "    .dataframe tbody tr th {\n",
              "        vertical-align: top;\n",
              "    }\n",
              "\n",
              "    .dataframe thead th {\n",
              "        text-align: right;\n",
              "    }\n",
              "</style>\n",
              "<table border=\"1\" class=\"dataframe\">\n",
              "  <thead>\n",
              "    <tr style=\"text-align: right;\">\n",
              "      <th></th>\n",
              "      <th>Department</th>\n",
              "      <th>Ward_Facility_Code</th>\n",
              "      <th>doctor_name</th>\n",
              "      <th>Age</th>\n",
              "      <th>gender</th>\n",
              "      <th>Type of Admission</th>\n",
              "      <th>Severity of Illness</th>\n",
              "      <th>health_conditions</th>\n",
              "      <th>Insurance</th>\n",
              "    </tr>\n",
              "  </thead>\n",
              "  <tbody>\n",
              "    <tr>\n",
              "      <th>0</th>\n",
              "      <td>2.0</td>\n",
              "      <td>5.0</td>\n",
              "      <td>4.0</td>\n",
              "      <td>2.0</td>\n",
              "      <td>0.0</td>\n",
              "      <td>1.0</td>\n",
              "      <td>2.0</td>\n",
              "      <td>5.0</td>\n",
              "      <td>0.0</td>\n",
              "    </tr>\n",
              "    <tr>\n",
              "      <th>1</th>\n",
              "      <td>0.0</td>\n",
              "      <td>4.0</td>\n",
              "      <td>1.0</td>\n",
              "      <td>5.0</td>\n",
              "      <td>0.0</td>\n",
              "      <td>1.0</td>\n",
              "      <td>2.0</td>\n",
              "      <td>0.0</td>\n",
              "      <td>1.0</td>\n",
              "    </tr>\n",
              "    <tr>\n",
              "      <th>2</th>\n",
              "      <td>3.0</td>\n",
              "      <td>4.0</td>\n",
              "      <td>1.0</td>\n",
              "      <td>5.0</td>\n",
              "      <td>2.0</td>\n",
              "      <td>1.0</td>\n",
              "      <td>2.0</td>\n",
              "      <td>4.0</td>\n",
              "      <td>0.0</td>\n",
              "    </tr>\n",
              "    <tr>\n",
              "      <th>3</th>\n",
              "      <td>2.0</td>\n",
              "      <td>5.0</td>\n",
              "      <td>4.0</td>\n",
              "      <td>2.0</td>\n",
              "      <td>0.0</td>\n",
              "      <td>1.0</td>\n",
              "      <td>2.0</td>\n",
              "      <td>4.0</td>\n",
              "      <td>1.0</td>\n",
              "    </tr>\n",
              "    <tr>\n",
              "      <th>4</th>\n",
              "      <td>1.0</td>\n",
              "      <td>0.0</td>\n",
              "      <td>1.0</td>\n",
              "      <td>5.0</td>\n",
              "      <td>0.0</td>\n",
              "      <td>1.0</td>\n",
              "      <td>0.0</td>\n",
              "      <td>1.0</td>\n",
              "      <td>0.0</td>\n",
              "    </tr>\n",
              "  </tbody>\n",
              "</table>\n",
              "</div>\n",
              "      <button class=\"colab-df-convert\" onclick=\"convertToInteractive('df-adf3030f-fe04-4724-83e5-5ab5d82c958e')\"\n",
              "              title=\"Convert this dataframe to an interactive table.\"\n",
              "              style=\"display:none;\">\n",
              "        \n",
              "  <svg xmlns=\"http://www.w3.org/2000/svg\" height=\"24px\"viewBox=\"0 0 24 24\"\n",
              "       width=\"24px\">\n",
              "    <path d=\"M0 0h24v24H0V0z\" fill=\"none\"/>\n",
              "    <path d=\"M18.56 5.44l.94 2.06.94-2.06 2.06-.94-2.06-.94-.94-2.06-.94 2.06-2.06.94zm-11 1L8.5 8.5l.94-2.06 2.06-.94-2.06-.94L8.5 2.5l-.94 2.06-2.06.94zm10 10l.94 2.06.94-2.06 2.06-.94-2.06-.94-.94-2.06-.94 2.06-2.06.94z\"/><path d=\"M17.41 7.96l-1.37-1.37c-.4-.4-.92-.59-1.43-.59-.52 0-1.04.2-1.43.59L10.3 9.45l-7.72 7.72c-.78.78-.78 2.05 0 2.83L4 21.41c.39.39.9.59 1.41.59.51 0 1.02-.2 1.41-.59l7.78-7.78 2.81-2.81c.8-.78.8-2.07 0-2.86zM5.41 20L4 18.59l7.72-7.72 1.47 1.35L5.41 20z\"/>\n",
              "  </svg>\n",
              "      </button>\n",
              "      \n",
              "  <style>\n",
              "    .colab-df-container {\n",
              "      display:flex;\n",
              "      flex-wrap:wrap;\n",
              "      gap: 12px;\n",
              "    }\n",
              "\n",
              "    .colab-df-convert {\n",
              "      background-color: #E8F0FE;\n",
              "      border: none;\n",
              "      border-radius: 50%;\n",
              "      cursor: pointer;\n",
              "      display: none;\n",
              "      fill: #1967D2;\n",
              "      height: 32px;\n",
              "      padding: 0 0 0 0;\n",
              "      width: 32px;\n",
              "    }\n",
              "\n",
              "    .colab-df-convert:hover {\n",
              "      background-color: #E2EBFA;\n",
              "      box-shadow: 0px 1px 2px rgba(60, 64, 67, 0.3), 0px 1px 3px 1px rgba(60, 64, 67, 0.15);\n",
              "      fill: #174EA6;\n",
              "    }\n",
              "\n",
              "    [theme=dark] .colab-df-convert {\n",
              "      background-color: #3B4455;\n",
              "      fill: #D2E3FC;\n",
              "    }\n",
              "\n",
              "    [theme=dark] .colab-df-convert:hover {\n",
              "      background-color: #434B5C;\n",
              "      box-shadow: 0px 1px 3px 1px rgba(0, 0, 0, 0.15);\n",
              "      filter: drop-shadow(0px 1px 2px rgba(0, 0, 0, 0.3));\n",
              "      fill: #FFFFFF;\n",
              "    }\n",
              "  </style>\n",
              "\n",
              "      <script>\n",
              "        const buttonEl =\n",
              "          document.querySelector('#df-adf3030f-fe04-4724-83e5-5ab5d82c958e button.colab-df-convert');\n",
              "        buttonEl.style.display =\n",
              "          google.colab.kernel.accessAllowed ? 'block' : 'none';\n",
              "\n",
              "        async function convertToInteractive(key) {\n",
              "          const element = document.querySelector('#df-adf3030f-fe04-4724-83e5-5ab5d82c958e');\n",
              "          const dataTable =\n",
              "            await google.colab.kernel.invokeFunction('convertToInteractive',\n",
              "                                                     [key], {});\n",
              "          if (!dataTable) return;\n",
              "\n",
              "          const docLinkHtml = 'Like what you see? Visit the ' +\n",
              "            '<a target=\"_blank\" href=https://colab.research.google.com/notebooks/data_table.ipynb>data table notebook</a>'\n",
              "            + ' to learn more about interactive tables.';\n",
              "          element.innerHTML = '';\n",
              "          dataTable['output_type'] = 'display_data';\n",
              "          await google.colab.output.renderOutput(dataTable, element);\n",
              "          const docLink = document.createElement('div');\n",
              "          docLink.innerHTML = docLinkHtml;\n",
              "          element.appendChild(docLink);\n",
              "        }\n",
              "      </script>\n",
              "    </div>\n",
              "  </div>\n",
              "  "
            ]
          },
          "metadata": {},
          "execution_count": 115
        }
      ]
    },
    {
      "cell_type": "code",
      "source": [
        "df_concatenado2 = pd.concat([df_categ2, df_1.select_dtypes(np.number)], axis = 1)"
      ],
      "metadata": {
        "id": "UcCi5qvQWl3f"
      },
      "execution_count": 116,
      "outputs": []
    },
    {
      "cell_type": "code",
      "source": [
        "df_concatenado2.head()"
      ],
      "metadata": {
        "colab": {
          "base_uri": "https://localhost:8080/",
          "height": 322
        },
        "id": "dqaLINLOX3O7",
        "outputId": "e7046292-581b-479f-a745-c3d942c09213"
      },
      "execution_count": 117,
      "outputs": [
        {
          "output_type": "execute_result",
          "data": {
            "text/plain": [
              "   Department  Ward_Facility_Code  doctor_name  Age  gender  \\\n",
              "0         2.0                 5.0          4.0  2.0     0.0   \n",
              "1         0.0                 4.0          1.0  5.0     0.0   \n",
              "2         3.0                 4.0          1.0  5.0     2.0   \n",
              "3         2.0                 5.0          4.0  2.0     0.0   \n",
              "4         1.0                 0.0          1.0  5.0     0.0   \n",
              "\n",
              "   Type of Admission  Severity of Illness  health_conditions  Insurance  \\\n",
              "0                1.0                  2.0                5.0        0.0   \n",
              "1                1.0                  2.0                0.0        1.0   \n",
              "2                1.0                  2.0                4.0        0.0   \n",
              "3                1.0                  2.0                4.0        1.0   \n",
              "4                1.0                  0.0                1.0        0.0   \n",
              "\n",
              "   Available Extra Rooms in Hospital  staff_available  patientid  \\\n",
              "0                                  3               10       2858   \n",
              "1                                  2                4      65657   \n",
              "2                                  2                7      45598   \n",
              "3                                  2                1      31132   \n",
              "4                                  2                7     125021   \n",
              "\n",
              "   Visitors with Patient  Admission_Deposit  \n",
              "0                      2        4749.640225  \n",
              "1                      2        4122.261324  \n",
              "2                      3        5459.067882  \n",
              "3                      2        3987.033318  \n",
              "4                      2        4770.789695  "
            ],
            "text/html": [
              "\n",
              "  <div id=\"df-aa1294ab-396d-43e9-863a-9433ce9cc754\">\n",
              "    <div class=\"colab-df-container\">\n",
              "      <div>\n",
              "<style scoped>\n",
              "    .dataframe tbody tr th:only-of-type {\n",
              "        vertical-align: middle;\n",
              "    }\n",
              "\n",
              "    .dataframe tbody tr th {\n",
              "        vertical-align: top;\n",
              "    }\n",
              "\n",
              "    .dataframe thead th {\n",
              "        text-align: right;\n",
              "    }\n",
              "</style>\n",
              "<table border=\"1\" class=\"dataframe\">\n",
              "  <thead>\n",
              "    <tr style=\"text-align: right;\">\n",
              "      <th></th>\n",
              "      <th>Department</th>\n",
              "      <th>Ward_Facility_Code</th>\n",
              "      <th>doctor_name</th>\n",
              "      <th>Age</th>\n",
              "      <th>gender</th>\n",
              "      <th>Type of Admission</th>\n",
              "      <th>Severity of Illness</th>\n",
              "      <th>health_conditions</th>\n",
              "      <th>Insurance</th>\n",
              "      <th>Available Extra Rooms in Hospital</th>\n",
              "      <th>staff_available</th>\n",
              "      <th>patientid</th>\n",
              "      <th>Visitors with Patient</th>\n",
              "      <th>Admission_Deposit</th>\n",
              "    </tr>\n",
              "  </thead>\n",
              "  <tbody>\n",
              "    <tr>\n",
              "      <th>0</th>\n",
              "      <td>2.0</td>\n",
              "      <td>5.0</td>\n",
              "      <td>4.0</td>\n",
              "      <td>2.0</td>\n",
              "      <td>0.0</td>\n",
              "      <td>1.0</td>\n",
              "      <td>2.0</td>\n",
              "      <td>5.0</td>\n",
              "      <td>0.0</td>\n",
              "      <td>3</td>\n",
              "      <td>10</td>\n",
              "      <td>2858</td>\n",
              "      <td>2</td>\n",
              "      <td>4749.640225</td>\n",
              "    </tr>\n",
              "    <tr>\n",
              "      <th>1</th>\n",
              "      <td>0.0</td>\n",
              "      <td>4.0</td>\n",
              "      <td>1.0</td>\n",
              "      <td>5.0</td>\n",
              "      <td>0.0</td>\n",
              "      <td>1.0</td>\n",
              "      <td>2.0</td>\n",
              "      <td>0.0</td>\n",
              "      <td>1.0</td>\n",
              "      <td>2</td>\n",
              "      <td>4</td>\n",
              "      <td>65657</td>\n",
              "      <td>2</td>\n",
              "      <td>4122.261324</td>\n",
              "    </tr>\n",
              "    <tr>\n",
              "      <th>2</th>\n",
              "      <td>3.0</td>\n",
              "      <td>4.0</td>\n",
              "      <td>1.0</td>\n",
              "      <td>5.0</td>\n",
              "      <td>2.0</td>\n",
              "      <td>1.0</td>\n",
              "      <td>2.0</td>\n",
              "      <td>4.0</td>\n",
              "      <td>0.0</td>\n",
              "      <td>2</td>\n",
              "      <td>7</td>\n",
              "      <td>45598</td>\n",
              "      <td>3</td>\n",
              "      <td>5459.067882</td>\n",
              "    </tr>\n",
              "    <tr>\n",
              "      <th>3</th>\n",
              "      <td>2.0</td>\n",
              "      <td>5.0</td>\n",
              "      <td>4.0</td>\n",
              "      <td>2.0</td>\n",
              "      <td>0.0</td>\n",
              "      <td>1.0</td>\n",
              "      <td>2.0</td>\n",
              "      <td>4.0</td>\n",
              "      <td>1.0</td>\n",
              "      <td>2</td>\n",
              "      <td>1</td>\n",
              "      <td>31132</td>\n",
              "      <td>2</td>\n",
              "      <td>3987.033318</td>\n",
              "    </tr>\n",
              "    <tr>\n",
              "      <th>4</th>\n",
              "      <td>1.0</td>\n",
              "      <td>0.0</td>\n",
              "      <td>1.0</td>\n",
              "      <td>5.0</td>\n",
              "      <td>0.0</td>\n",
              "      <td>1.0</td>\n",
              "      <td>0.0</td>\n",
              "      <td>1.0</td>\n",
              "      <td>0.0</td>\n",
              "      <td>2</td>\n",
              "      <td>7</td>\n",
              "      <td>125021</td>\n",
              "      <td>2</td>\n",
              "      <td>4770.789695</td>\n",
              "    </tr>\n",
              "  </tbody>\n",
              "</table>\n",
              "</div>\n",
              "      <button class=\"colab-df-convert\" onclick=\"convertToInteractive('df-aa1294ab-396d-43e9-863a-9433ce9cc754')\"\n",
              "              title=\"Convert this dataframe to an interactive table.\"\n",
              "              style=\"display:none;\">\n",
              "        \n",
              "  <svg xmlns=\"http://www.w3.org/2000/svg\" height=\"24px\"viewBox=\"0 0 24 24\"\n",
              "       width=\"24px\">\n",
              "    <path d=\"M0 0h24v24H0V0z\" fill=\"none\"/>\n",
              "    <path d=\"M18.56 5.44l.94 2.06.94-2.06 2.06-.94-2.06-.94-.94-2.06-.94 2.06-2.06.94zm-11 1L8.5 8.5l.94-2.06 2.06-.94-2.06-.94L8.5 2.5l-.94 2.06-2.06.94zm10 10l.94 2.06.94-2.06 2.06-.94-2.06-.94-.94-2.06-.94 2.06-2.06.94z\"/><path d=\"M17.41 7.96l-1.37-1.37c-.4-.4-.92-.59-1.43-.59-.52 0-1.04.2-1.43.59L10.3 9.45l-7.72 7.72c-.78.78-.78 2.05 0 2.83L4 21.41c.39.39.9.59 1.41.59.51 0 1.02-.2 1.41-.59l7.78-7.78 2.81-2.81c.8-.78.8-2.07 0-2.86zM5.41 20L4 18.59l7.72-7.72 1.47 1.35L5.41 20z\"/>\n",
              "  </svg>\n",
              "      </button>\n",
              "      \n",
              "  <style>\n",
              "    .colab-df-container {\n",
              "      display:flex;\n",
              "      flex-wrap:wrap;\n",
              "      gap: 12px;\n",
              "    }\n",
              "\n",
              "    .colab-df-convert {\n",
              "      background-color: #E8F0FE;\n",
              "      border: none;\n",
              "      border-radius: 50%;\n",
              "      cursor: pointer;\n",
              "      display: none;\n",
              "      fill: #1967D2;\n",
              "      height: 32px;\n",
              "      padding: 0 0 0 0;\n",
              "      width: 32px;\n",
              "    }\n",
              "\n",
              "    .colab-df-convert:hover {\n",
              "      background-color: #E2EBFA;\n",
              "      box-shadow: 0px 1px 2px rgba(60, 64, 67, 0.3), 0px 1px 3px 1px rgba(60, 64, 67, 0.15);\n",
              "      fill: #174EA6;\n",
              "    }\n",
              "\n",
              "    [theme=dark] .colab-df-convert {\n",
              "      background-color: #3B4455;\n",
              "      fill: #D2E3FC;\n",
              "    }\n",
              "\n",
              "    [theme=dark] .colab-df-convert:hover {\n",
              "      background-color: #434B5C;\n",
              "      box-shadow: 0px 1px 3px 1px rgba(0, 0, 0, 0.15);\n",
              "      filter: drop-shadow(0px 1px 2px rgba(0, 0, 0, 0.3));\n",
              "      fill: #FFFFFF;\n",
              "    }\n",
              "  </style>\n",
              "\n",
              "      <script>\n",
              "        const buttonEl =\n",
              "          document.querySelector('#df-aa1294ab-396d-43e9-863a-9433ce9cc754 button.colab-df-convert');\n",
              "        buttonEl.style.display =\n",
              "          google.colab.kernel.accessAllowed ? 'block' : 'none';\n",
              "\n",
              "        async function convertToInteractive(key) {\n",
              "          const element = document.querySelector('#df-aa1294ab-396d-43e9-863a-9433ce9cc754');\n",
              "          const dataTable =\n",
              "            await google.colab.kernel.invokeFunction('convertToInteractive',\n",
              "                                                     [key], {});\n",
              "          if (!dataTable) return;\n",
              "\n",
              "          const docLinkHtml = 'Like what you see? Visit the ' +\n",
              "            '<a target=\"_blank\" href=https://colab.research.google.com/notebooks/data_table.ipynb>data table notebook</a>'\n",
              "            + ' to learn more about interactive tables.';\n",
              "          element.innerHTML = '';\n",
              "          dataTable['output_type'] = 'display_data';\n",
              "          await google.colab.output.renderOutput(dataTable, element);\n",
              "          const docLink = document.createElement('div');\n",
              "          docLink.innerHTML = docLinkHtml;\n",
              "          element.appendChild(docLink);\n",
              "        }\n",
              "      </script>\n",
              "    </div>\n",
              "  </div>\n",
              "  "
            ]
          },
          "metadata": {},
          "execution_count": 117
        }
      ]
    },
    {
      "cell_type": "code",
      "source": [
        "#Creo la variable x_testeo_final \n",
        "\n",
        "x_testeo_final = df_concatenado2[[\"Age\",\"gender\",\"staff_available\", 'Severity of Illness','Available Extra Rooms in Hospital','Department','Ward_Facility_Code','doctor_name']]"
      ],
      "metadata": {
        "id": "mzl0HqEBWlpb"
      },
      "execution_count": 118,
      "outputs": []
    },
    {
      "cell_type": "code",
      "source": [
        "#Usamos el predictor que creé sobre el dataset de testeo\n",
        "prediccion_df2 = best_ada.predict(x_testeo_final)"
      ],
      "metadata": {
        "id": "UivxSVgWYQop"
      },
      "execution_count": 119,
      "outputs": []
    },
    {
      "cell_type": "code",
      "source": [
        "print(prediccion_df2)"
      ],
      "metadata": {
        "colab": {
          "base_uri": "https://localhost:8080/"
        },
        "id": "2Dt8Q_V4Wlmt",
        "outputId": "149d50ac-a646-4af3-8307-9493fb756402"
      },
      "execution_count": 123,
      "outputs": [
        {
          "output_type": "stream",
          "name": "stdout",
          "text": [
            "[1 1 1 ... 1 1 1]\n"
          ]
        }
      ]
    },
    {
      "cell_type": "code",
      "source": [
        "resultado = pd.DataFrame(prediccion_df2)\n",
        "resultado.set_axis([\"pred\"], axis = 1,inplace = True)"
      ],
      "metadata": {
        "id": "3y-Jcx1EWljm"
      },
      "execution_count": 136,
      "outputs": []
    },
    {
      "cell_type": "code",
      "source": [
        "resultado.to_csv(\"Leito2022.csv\", index = False)"
      ],
      "metadata": {
        "id": "qkD4dj5dawTC"
      },
      "execution_count": 137,
      "outputs": []
    },
    {
      "cell_type": "markdown",
      "source": [],
      "metadata": {
        "id": "KwHf8bXVWlRI"
      }
    },
    {
      "cell_type": "code",
      "source": [],
      "metadata": {
        "id": "LBtIgraZp6r-"
      },
      "execution_count": null,
      "outputs": []
    },
    {
      "cell_type": "code",
      "source": [
        "df_train_test.drop([\"patientid\",\"Admission_Deposit\",\"Stay (in days)\",\"Admission_Deposit\"], axis = 1)\n"
      ],
      "metadata": {
        "colab": {
          "base_uri": "https://localhost:8080/",
          "height": 539
        },
        "id": "r92HiFvM-OSy",
        "outputId": "0974a509-1340-472b-8fbf-384a9341cd16"
      },
      "execution_count": 16,
      "outputs": [
        {
          "output_type": "execute_result",
          "data": {
            "text/plain": [
              "        Department  Ward_Facility_Code  doctor_name  Age  gender  \\\n",
              "0              2.0                 3.0          8.0  4.0     0.0   \n",
              "1              2.0                 1.0          8.0  3.0     0.0   \n",
              "2              2.0                 1.0          8.0  2.0     0.0   \n",
              "3              2.0                 3.0          4.0  3.0     0.0   \n",
              "4              1.0                 4.0          2.0  7.0     1.0   \n",
              "...            ...                 ...          ...  ...     ...   \n",
              "409995         2.0                 3.0          6.0  3.0     0.0   \n",
              "409996         2.0                 3.0          3.0  2.0     0.0   \n",
              "409997         2.0                 3.0          6.0  2.0     0.0   \n",
              "409998         2.0                 3.0          4.0  2.0     0.0   \n",
              "409999         2.0                 5.0          3.0  4.0     0.0   \n",
              "\n",
              "        Type of Admission  Severity of Illness  health_conditions  Insurance  \\\n",
              "0                     1.0                  0.0                1.0        1.0   \n",
              "1                     1.0                  1.0                2.0        0.0   \n",
              "2                     1.0                  0.0                1.0        1.0   \n",
              "3                     2.0                  2.0                4.0        0.0   \n",
              "4                     1.0                  2.0                1.0        0.0   \n",
              "...                   ...                  ...                ...        ...   \n",
              "409995                1.0                  1.0                0.0        1.0   \n",
              "409996                1.0                  0.0                5.0        0.0   \n",
              "409997                0.0                  1.0                0.0        1.0   \n",
              "409998                1.0                  2.0                5.0        1.0   \n",
              "409999                1.0                  1.0                5.0        1.0   \n",
              "\n",
              "        type_stay  Available Extra Rooms in Hospital  staff_available  \\\n",
              "0             0.0                                  4                0   \n",
              "1             1.0                                  4                2   \n",
              "2             0.0                                  2                8   \n",
              "3             0.0                                  4                7   \n",
              "4             1.0                                  2               10   \n",
              "...           ...                                ...              ...   \n",
              "409995        0.0                                  1                1   \n",
              "409996        1.0                                  5                5   \n",
              "409997        1.0                                  4                9   \n",
              "409998        1.0                                 10               10   \n",
              "409999        0.0                                  3                0   \n",
              "\n",
              "        Visitors with Patient  type_stay  \n",
              "0                           4          0  \n",
              "1                           2          1  \n",
              "2                           2          0  \n",
              "3                           4          0  \n",
              "4                           2          1  \n",
              "...                       ...        ...  \n",
              "409995                      3          0  \n",
              "409996                      4          1  \n",
              "409997                      4          1  \n",
              "409998                      2          1  \n",
              "409999                      8          0  \n",
              "\n",
              "[410000 rows x 14 columns]"
            ],
            "text/html": [
              "\n",
              "  <div id=\"df-9dabbf99-f0f0-4205-afd1-5d2c7ff073f1\">\n",
              "    <div class=\"colab-df-container\">\n",
              "      <div>\n",
              "<style scoped>\n",
              "    .dataframe tbody tr th:only-of-type {\n",
              "        vertical-align: middle;\n",
              "    }\n",
              "\n",
              "    .dataframe tbody tr th {\n",
              "        vertical-align: top;\n",
              "    }\n",
              "\n",
              "    .dataframe thead th {\n",
              "        text-align: right;\n",
              "    }\n",
              "</style>\n",
              "<table border=\"1\" class=\"dataframe\">\n",
              "  <thead>\n",
              "    <tr style=\"text-align: right;\">\n",
              "      <th></th>\n",
              "      <th>Department</th>\n",
              "      <th>Ward_Facility_Code</th>\n",
              "      <th>doctor_name</th>\n",
              "      <th>Age</th>\n",
              "      <th>gender</th>\n",
              "      <th>Type of Admission</th>\n",
              "      <th>Severity of Illness</th>\n",
              "      <th>health_conditions</th>\n",
              "      <th>Insurance</th>\n",
              "      <th>type_stay</th>\n",
              "      <th>Available Extra Rooms in Hospital</th>\n",
              "      <th>staff_available</th>\n",
              "      <th>Visitors with Patient</th>\n",
              "      <th>type_stay</th>\n",
              "    </tr>\n",
              "  </thead>\n",
              "  <tbody>\n",
              "    <tr>\n",
              "      <th>0</th>\n",
              "      <td>2.0</td>\n",
              "      <td>3.0</td>\n",
              "      <td>8.0</td>\n",
              "      <td>4.0</td>\n",
              "      <td>0.0</td>\n",
              "      <td>1.0</td>\n",
              "      <td>0.0</td>\n",
              "      <td>1.0</td>\n",
              "      <td>1.0</td>\n",
              "      <td>0.0</td>\n",
              "      <td>4</td>\n",
              "      <td>0</td>\n",
              "      <td>4</td>\n",
              "      <td>0</td>\n",
              "    </tr>\n",
              "    <tr>\n",
              "      <th>1</th>\n",
              "      <td>2.0</td>\n",
              "      <td>1.0</td>\n",
              "      <td>8.0</td>\n",
              "      <td>3.0</td>\n",
              "      <td>0.0</td>\n",
              "      <td>1.0</td>\n",
              "      <td>1.0</td>\n",
              "      <td>2.0</td>\n",
              "      <td>0.0</td>\n",
              "      <td>1.0</td>\n",
              "      <td>4</td>\n",
              "      <td>2</td>\n",
              "      <td>2</td>\n",
              "      <td>1</td>\n",
              "    </tr>\n",
              "    <tr>\n",
              "      <th>2</th>\n",
              "      <td>2.0</td>\n",
              "      <td>1.0</td>\n",
              "      <td>8.0</td>\n",
              "      <td>2.0</td>\n",
              "      <td>0.0</td>\n",
              "      <td>1.0</td>\n",
              "      <td>0.0</td>\n",
              "      <td>1.0</td>\n",
              "      <td>1.0</td>\n",
              "      <td>0.0</td>\n",
              "      <td>2</td>\n",
              "      <td>8</td>\n",
              "      <td>2</td>\n",
              "      <td>0</td>\n",
              "    </tr>\n",
              "    <tr>\n",
              "      <th>3</th>\n",
              "      <td>2.0</td>\n",
              "      <td>3.0</td>\n",
              "      <td>4.0</td>\n",
              "      <td>3.0</td>\n",
              "      <td>0.0</td>\n",
              "      <td>2.0</td>\n",
              "      <td>2.0</td>\n",
              "      <td>4.0</td>\n",
              "      <td>0.0</td>\n",
              "      <td>0.0</td>\n",
              "      <td>4</td>\n",
              "      <td>7</td>\n",
              "      <td>4</td>\n",
              "      <td>0</td>\n",
              "    </tr>\n",
              "    <tr>\n",
              "      <th>4</th>\n",
              "      <td>1.0</td>\n",
              "      <td>4.0</td>\n",
              "      <td>2.0</td>\n",
              "      <td>7.0</td>\n",
              "      <td>1.0</td>\n",
              "      <td>1.0</td>\n",
              "      <td>2.0</td>\n",
              "      <td>1.0</td>\n",
              "      <td>0.0</td>\n",
              "      <td>1.0</td>\n",
              "      <td>2</td>\n",
              "      <td>10</td>\n",
              "      <td>2</td>\n",
              "      <td>1</td>\n",
              "    </tr>\n",
              "    <tr>\n",
              "      <th>...</th>\n",
              "      <td>...</td>\n",
              "      <td>...</td>\n",
              "      <td>...</td>\n",
              "      <td>...</td>\n",
              "      <td>...</td>\n",
              "      <td>...</td>\n",
              "      <td>...</td>\n",
              "      <td>...</td>\n",
              "      <td>...</td>\n",
              "      <td>...</td>\n",
              "      <td>...</td>\n",
              "      <td>...</td>\n",
              "      <td>...</td>\n",
              "      <td>...</td>\n",
              "    </tr>\n",
              "    <tr>\n",
              "      <th>409995</th>\n",
              "      <td>2.0</td>\n",
              "      <td>3.0</td>\n",
              "      <td>6.0</td>\n",
              "      <td>3.0</td>\n",
              "      <td>0.0</td>\n",
              "      <td>1.0</td>\n",
              "      <td>1.0</td>\n",
              "      <td>0.0</td>\n",
              "      <td>1.0</td>\n",
              "      <td>0.0</td>\n",
              "      <td>1</td>\n",
              "      <td>1</td>\n",
              "      <td>3</td>\n",
              "      <td>0</td>\n",
              "    </tr>\n",
              "    <tr>\n",
              "      <th>409996</th>\n",
              "      <td>2.0</td>\n",
              "      <td>3.0</td>\n",
              "      <td>3.0</td>\n",
              "      <td>2.0</td>\n",
              "      <td>0.0</td>\n",
              "      <td>1.0</td>\n",
              "      <td>0.0</td>\n",
              "      <td>5.0</td>\n",
              "      <td>0.0</td>\n",
              "      <td>1.0</td>\n",
              "      <td>5</td>\n",
              "      <td>5</td>\n",
              "      <td>4</td>\n",
              "      <td>1</td>\n",
              "    </tr>\n",
              "    <tr>\n",
              "      <th>409997</th>\n",
              "      <td>2.0</td>\n",
              "      <td>3.0</td>\n",
              "      <td>6.0</td>\n",
              "      <td>2.0</td>\n",
              "      <td>0.0</td>\n",
              "      <td>0.0</td>\n",
              "      <td>1.0</td>\n",
              "      <td>0.0</td>\n",
              "      <td>1.0</td>\n",
              "      <td>1.0</td>\n",
              "      <td>4</td>\n",
              "      <td>9</td>\n",
              "      <td>4</td>\n",
              "      <td>1</td>\n",
              "    </tr>\n",
              "    <tr>\n",
              "      <th>409998</th>\n",
              "      <td>2.0</td>\n",
              "      <td>3.0</td>\n",
              "      <td>4.0</td>\n",
              "      <td>2.0</td>\n",
              "      <td>0.0</td>\n",
              "      <td>1.0</td>\n",
              "      <td>2.0</td>\n",
              "      <td>5.0</td>\n",
              "      <td>1.0</td>\n",
              "      <td>1.0</td>\n",
              "      <td>10</td>\n",
              "      <td>10</td>\n",
              "      <td>2</td>\n",
              "      <td>1</td>\n",
              "    </tr>\n",
              "    <tr>\n",
              "      <th>409999</th>\n",
              "      <td>2.0</td>\n",
              "      <td>5.0</td>\n",
              "      <td>3.0</td>\n",
              "      <td>4.0</td>\n",
              "      <td>0.0</td>\n",
              "      <td>1.0</td>\n",
              "      <td>1.0</td>\n",
              "      <td>5.0</td>\n",
              "      <td>1.0</td>\n",
              "      <td>0.0</td>\n",
              "      <td>3</td>\n",
              "      <td>0</td>\n",
              "      <td>8</td>\n",
              "      <td>0</td>\n",
              "    </tr>\n",
              "  </tbody>\n",
              "</table>\n",
              "<p>410000 rows × 14 columns</p>\n",
              "</div>\n",
              "      <button class=\"colab-df-convert\" onclick=\"convertToInteractive('df-9dabbf99-f0f0-4205-afd1-5d2c7ff073f1')\"\n",
              "              title=\"Convert this dataframe to an interactive table.\"\n",
              "              style=\"display:none;\">\n",
              "        \n",
              "  <svg xmlns=\"http://www.w3.org/2000/svg\" height=\"24px\"viewBox=\"0 0 24 24\"\n",
              "       width=\"24px\">\n",
              "    <path d=\"M0 0h24v24H0V0z\" fill=\"none\"/>\n",
              "    <path d=\"M18.56 5.44l.94 2.06.94-2.06 2.06-.94-2.06-.94-.94-2.06-.94 2.06-2.06.94zm-11 1L8.5 8.5l.94-2.06 2.06-.94-2.06-.94L8.5 2.5l-.94 2.06-2.06.94zm10 10l.94 2.06.94-2.06 2.06-.94-2.06-.94-.94-2.06-.94 2.06-2.06.94z\"/><path d=\"M17.41 7.96l-1.37-1.37c-.4-.4-.92-.59-1.43-.59-.52 0-1.04.2-1.43.59L10.3 9.45l-7.72 7.72c-.78.78-.78 2.05 0 2.83L4 21.41c.39.39.9.59 1.41.59.51 0 1.02-.2 1.41-.59l7.78-7.78 2.81-2.81c.8-.78.8-2.07 0-2.86zM5.41 20L4 18.59l7.72-7.72 1.47 1.35L5.41 20z\"/>\n",
              "  </svg>\n",
              "      </button>\n",
              "      \n",
              "  <style>\n",
              "    .colab-df-container {\n",
              "      display:flex;\n",
              "      flex-wrap:wrap;\n",
              "      gap: 12px;\n",
              "    }\n",
              "\n",
              "    .colab-df-convert {\n",
              "      background-color: #E8F0FE;\n",
              "      border: none;\n",
              "      border-radius: 50%;\n",
              "      cursor: pointer;\n",
              "      display: none;\n",
              "      fill: #1967D2;\n",
              "      height: 32px;\n",
              "      padding: 0 0 0 0;\n",
              "      width: 32px;\n",
              "    }\n",
              "\n",
              "    .colab-df-convert:hover {\n",
              "      background-color: #E2EBFA;\n",
              "      box-shadow: 0px 1px 2px rgba(60, 64, 67, 0.3), 0px 1px 3px 1px rgba(60, 64, 67, 0.15);\n",
              "      fill: #174EA6;\n",
              "    }\n",
              "\n",
              "    [theme=dark] .colab-df-convert {\n",
              "      background-color: #3B4455;\n",
              "      fill: #D2E3FC;\n",
              "    }\n",
              "\n",
              "    [theme=dark] .colab-df-convert:hover {\n",
              "      background-color: #434B5C;\n",
              "      box-shadow: 0px 1px 3px 1px rgba(0, 0, 0, 0.15);\n",
              "      filter: drop-shadow(0px 1px 2px rgba(0, 0, 0, 0.3));\n",
              "      fill: #FFFFFF;\n",
              "    }\n",
              "  </style>\n",
              "\n",
              "      <script>\n",
              "        const buttonEl =\n",
              "          document.querySelector('#df-9dabbf99-f0f0-4205-afd1-5d2c7ff073f1 button.colab-df-convert');\n",
              "        buttonEl.style.display =\n",
              "          google.colab.kernel.accessAllowed ? 'block' : 'none';\n",
              "\n",
              "        async function convertToInteractive(key) {\n",
              "          const element = document.querySelector('#df-9dabbf99-f0f0-4205-afd1-5d2c7ff073f1');\n",
              "          const dataTable =\n",
              "            await google.colab.kernel.invokeFunction('convertToInteractive',\n",
              "                                                     [key], {});\n",
              "          if (!dataTable) return;\n",
              "\n",
              "          const docLinkHtml = 'Like what you see? Visit the ' +\n",
              "            '<a target=\"_blank\" href=https://colab.research.google.com/notebooks/data_table.ipynb>data table notebook</a>'\n",
              "            + ' to learn more about interactive tables.';\n",
              "          element.innerHTML = '';\n",
              "          dataTable['output_type'] = 'display_data';\n",
              "          await google.colab.output.renderOutput(dataTable, element);\n",
              "          const docLink = document.createElement('div');\n",
              "          docLink.innerHTML = docLinkHtml;\n",
              "          element.appendChild(docLink);\n",
              "        }\n",
              "      </script>\n",
              "    </div>\n",
              "  </div>\n",
              "  "
            ]
          },
          "metadata": {},
          "execution_count": 16
        }
      ]
    },
    {
      "cell_type": "markdown",
      "source": [
        "Depuramos una tabla con las features seleccionadas."
      ],
      "metadata": {
        "id": "ZFGcX_Wy-WsJ"
      }
    },
    {
      "cell_type": "code",
      "source": [
        "df_train_test.head()"
      ],
      "metadata": {
        "colab": {
          "base_uri": "https://localhost:8080/",
          "height": 322
        },
        "id": "b99teH2Fu85i",
        "outputId": "71a42f05-37e2-459f-979d-1eff0fb73847"
      },
      "execution_count": 17,
      "outputs": [
        {
          "output_type": "execute_result",
          "data": {
            "text/plain": [
              "   Department  Ward_Facility_Code  doctor_name  Age  gender  \\\n",
              "0         2.0                 3.0          8.0  4.0     0.0   \n",
              "1         2.0                 1.0          8.0  3.0     0.0   \n",
              "2         2.0                 1.0          8.0  2.0     0.0   \n",
              "3         2.0                 3.0          4.0  3.0     0.0   \n",
              "4         1.0                 4.0          2.0  7.0     1.0   \n",
              "\n",
              "   Type of Admission  Severity of Illness  health_conditions  Insurance  \\\n",
              "0                1.0                  0.0                1.0        1.0   \n",
              "1                1.0                  1.0                2.0        0.0   \n",
              "2                1.0                  0.0                1.0        1.0   \n",
              "3                2.0                  2.0                4.0        0.0   \n",
              "4                1.0                  2.0                1.0        0.0   \n",
              "\n",
              "   type_stay  Available Extra Rooms in Hospital  staff_available  patientid  \\\n",
              "0        0.0                                  4                0      33070   \n",
              "1        1.0                                  4                2      34808   \n",
              "2        0.0                                  2                8      44577   \n",
              "3        0.0                                  4                7       3695   \n",
              "4        1.0                                  2               10     108956   \n",
              "\n",
              "   Visitors with Patient  Admission_Deposit  Stay (in days)  type_stay  \n",
              "0                      4        2966.408696               8          0  \n",
              "1                      2        3554.835677               9          1  \n",
              "2                      2        5624.733654               7          0  \n",
              "3                      4        4814.149231               8          0  \n",
              "4                      2        5169.269637              34          1  "
            ],
            "text/html": [
              "\n",
              "  <div id=\"df-88252f9d-0c45-49a5-8c52-cecfd37af715\">\n",
              "    <div class=\"colab-df-container\">\n",
              "      <div>\n",
              "<style scoped>\n",
              "    .dataframe tbody tr th:only-of-type {\n",
              "        vertical-align: middle;\n",
              "    }\n",
              "\n",
              "    .dataframe tbody tr th {\n",
              "        vertical-align: top;\n",
              "    }\n",
              "\n",
              "    .dataframe thead th {\n",
              "        text-align: right;\n",
              "    }\n",
              "</style>\n",
              "<table border=\"1\" class=\"dataframe\">\n",
              "  <thead>\n",
              "    <tr style=\"text-align: right;\">\n",
              "      <th></th>\n",
              "      <th>Department</th>\n",
              "      <th>Ward_Facility_Code</th>\n",
              "      <th>doctor_name</th>\n",
              "      <th>Age</th>\n",
              "      <th>gender</th>\n",
              "      <th>Type of Admission</th>\n",
              "      <th>Severity of Illness</th>\n",
              "      <th>health_conditions</th>\n",
              "      <th>Insurance</th>\n",
              "      <th>type_stay</th>\n",
              "      <th>Available Extra Rooms in Hospital</th>\n",
              "      <th>staff_available</th>\n",
              "      <th>patientid</th>\n",
              "      <th>Visitors with Patient</th>\n",
              "      <th>Admission_Deposit</th>\n",
              "      <th>Stay (in days)</th>\n",
              "      <th>type_stay</th>\n",
              "    </tr>\n",
              "  </thead>\n",
              "  <tbody>\n",
              "    <tr>\n",
              "      <th>0</th>\n",
              "      <td>2.0</td>\n",
              "      <td>3.0</td>\n",
              "      <td>8.0</td>\n",
              "      <td>4.0</td>\n",
              "      <td>0.0</td>\n",
              "      <td>1.0</td>\n",
              "      <td>0.0</td>\n",
              "      <td>1.0</td>\n",
              "      <td>1.0</td>\n",
              "      <td>0.0</td>\n",
              "      <td>4</td>\n",
              "      <td>0</td>\n",
              "      <td>33070</td>\n",
              "      <td>4</td>\n",
              "      <td>2966.408696</td>\n",
              "      <td>8</td>\n",
              "      <td>0</td>\n",
              "    </tr>\n",
              "    <tr>\n",
              "      <th>1</th>\n",
              "      <td>2.0</td>\n",
              "      <td>1.0</td>\n",
              "      <td>8.0</td>\n",
              "      <td>3.0</td>\n",
              "      <td>0.0</td>\n",
              "      <td>1.0</td>\n",
              "      <td>1.0</td>\n",
              "      <td>2.0</td>\n",
              "      <td>0.0</td>\n",
              "      <td>1.0</td>\n",
              "      <td>4</td>\n",
              "      <td>2</td>\n",
              "      <td>34808</td>\n",
              "      <td>2</td>\n",
              "      <td>3554.835677</td>\n",
              "      <td>9</td>\n",
              "      <td>1</td>\n",
              "    </tr>\n",
              "    <tr>\n",
              "      <th>2</th>\n",
              "      <td>2.0</td>\n",
              "      <td>1.0</td>\n",
              "      <td>8.0</td>\n",
              "      <td>2.0</td>\n",
              "      <td>0.0</td>\n",
              "      <td>1.0</td>\n",
              "      <td>0.0</td>\n",
              "      <td>1.0</td>\n",
              "      <td>1.0</td>\n",
              "      <td>0.0</td>\n",
              "      <td>2</td>\n",
              "      <td>8</td>\n",
              "      <td>44577</td>\n",
              "      <td>2</td>\n",
              "      <td>5624.733654</td>\n",
              "      <td>7</td>\n",
              "      <td>0</td>\n",
              "    </tr>\n",
              "    <tr>\n",
              "      <th>3</th>\n",
              "      <td>2.0</td>\n",
              "      <td>3.0</td>\n",
              "      <td>4.0</td>\n",
              "      <td>3.0</td>\n",
              "      <td>0.0</td>\n",
              "      <td>2.0</td>\n",
              "      <td>2.0</td>\n",
              "      <td>4.0</td>\n",
              "      <td>0.0</td>\n",
              "      <td>0.0</td>\n",
              "      <td>4</td>\n",
              "      <td>7</td>\n",
              "      <td>3695</td>\n",
              "      <td>4</td>\n",
              "      <td>4814.149231</td>\n",
              "      <td>8</td>\n",
              "      <td>0</td>\n",
              "    </tr>\n",
              "    <tr>\n",
              "      <th>4</th>\n",
              "      <td>1.0</td>\n",
              "      <td>4.0</td>\n",
              "      <td>2.0</td>\n",
              "      <td>7.0</td>\n",
              "      <td>1.0</td>\n",
              "      <td>1.0</td>\n",
              "      <td>2.0</td>\n",
              "      <td>1.0</td>\n",
              "      <td>0.0</td>\n",
              "      <td>1.0</td>\n",
              "      <td>2</td>\n",
              "      <td>10</td>\n",
              "      <td>108956</td>\n",
              "      <td>2</td>\n",
              "      <td>5169.269637</td>\n",
              "      <td>34</td>\n",
              "      <td>1</td>\n",
              "    </tr>\n",
              "  </tbody>\n",
              "</table>\n",
              "</div>\n",
              "      <button class=\"colab-df-convert\" onclick=\"convertToInteractive('df-88252f9d-0c45-49a5-8c52-cecfd37af715')\"\n",
              "              title=\"Convert this dataframe to an interactive table.\"\n",
              "              style=\"display:none;\">\n",
              "        \n",
              "  <svg xmlns=\"http://www.w3.org/2000/svg\" height=\"24px\"viewBox=\"0 0 24 24\"\n",
              "       width=\"24px\">\n",
              "    <path d=\"M0 0h24v24H0V0z\" fill=\"none\"/>\n",
              "    <path d=\"M18.56 5.44l.94 2.06.94-2.06 2.06-.94-2.06-.94-.94-2.06-.94 2.06-2.06.94zm-11 1L8.5 8.5l.94-2.06 2.06-.94-2.06-.94L8.5 2.5l-.94 2.06-2.06.94zm10 10l.94 2.06.94-2.06 2.06-.94-2.06-.94-.94-2.06-.94 2.06-2.06.94z\"/><path d=\"M17.41 7.96l-1.37-1.37c-.4-.4-.92-.59-1.43-.59-.52 0-1.04.2-1.43.59L10.3 9.45l-7.72 7.72c-.78.78-.78 2.05 0 2.83L4 21.41c.39.39.9.59 1.41.59.51 0 1.02-.2 1.41-.59l7.78-7.78 2.81-2.81c.8-.78.8-2.07 0-2.86zM5.41 20L4 18.59l7.72-7.72 1.47 1.35L5.41 20z\"/>\n",
              "  </svg>\n",
              "      </button>\n",
              "      \n",
              "  <style>\n",
              "    .colab-df-container {\n",
              "      display:flex;\n",
              "      flex-wrap:wrap;\n",
              "      gap: 12px;\n",
              "    }\n",
              "\n",
              "    .colab-df-convert {\n",
              "      background-color: #E8F0FE;\n",
              "      border: none;\n",
              "      border-radius: 50%;\n",
              "      cursor: pointer;\n",
              "      display: none;\n",
              "      fill: #1967D2;\n",
              "      height: 32px;\n",
              "      padding: 0 0 0 0;\n",
              "      width: 32px;\n",
              "    }\n",
              "\n",
              "    .colab-df-convert:hover {\n",
              "      background-color: #E2EBFA;\n",
              "      box-shadow: 0px 1px 2px rgba(60, 64, 67, 0.3), 0px 1px 3px 1px rgba(60, 64, 67, 0.15);\n",
              "      fill: #174EA6;\n",
              "    }\n",
              "\n",
              "    [theme=dark] .colab-df-convert {\n",
              "      background-color: #3B4455;\n",
              "      fill: #D2E3FC;\n",
              "    }\n",
              "\n",
              "    [theme=dark] .colab-df-convert:hover {\n",
              "      background-color: #434B5C;\n",
              "      box-shadow: 0px 1px 3px 1px rgba(0, 0, 0, 0.15);\n",
              "      filter: drop-shadow(0px 1px 2px rgba(0, 0, 0, 0.3));\n",
              "      fill: #FFFFFF;\n",
              "    }\n",
              "  </style>\n",
              "\n",
              "      <script>\n",
              "        const buttonEl =\n",
              "          document.querySelector('#df-88252f9d-0c45-49a5-8c52-cecfd37af715 button.colab-df-convert');\n",
              "        buttonEl.style.display =\n",
              "          google.colab.kernel.accessAllowed ? 'block' : 'none';\n",
              "\n",
              "        async function convertToInteractive(key) {\n",
              "          const element = document.querySelector('#df-88252f9d-0c45-49a5-8c52-cecfd37af715');\n",
              "          const dataTable =\n",
              "            await google.colab.kernel.invokeFunction('convertToInteractive',\n",
              "                                                     [key], {});\n",
              "          if (!dataTable) return;\n",
              "\n",
              "          const docLinkHtml = 'Like what you see? Visit the ' +\n",
              "            '<a target=\"_blank\" href=https://colab.research.google.com/notebooks/data_table.ipynb>data table notebook</a>'\n",
              "            + ' to learn more about interactive tables.';\n",
              "          element.innerHTML = '';\n",
              "          dataTable['output_type'] = 'display_data';\n",
              "          await google.colab.output.renderOutput(dataTable, element);\n",
              "          const docLink = document.createElement('div');\n",
              "          docLink.innerHTML = docLinkHtml;\n",
              "          element.appendChild(docLink);\n",
              "        }\n",
              "      </script>\n",
              "    </div>\n",
              "  </div>\n",
              "  "
            ]
          },
          "metadata": {},
          "execution_count": 17
        }
      ]
    },
    {
      "cell_type": "code",
      "source": [
        "X_train, X_test, y_train, y_test = train_test_split(X,y, test_size = 0.3, random_state = 123)"
      ],
      "metadata": {
        "id": "7RtwCv9__02_"
      },
      "execution_count": 18,
      "outputs": []
    },
    {
      "cell_type": "code",
      "source": [
        "f_score = chi2(X_train, y_train)"
      ],
      "metadata": {
        "id": "kl508cn9zCPA"
      },
      "execution_count": 19,
      "outputs": []
    },
    {
      "cell_type": "code",
      "source": [
        "f_score"
      ],
      "metadata": {
        "colab": {
          "base_uri": "https://localhost:8080/"
        },
        "id": "MkT3xSe5zPfG",
        "outputId": "8daa91bc-1f31-4728-bdaa-cf080e996480"
      },
      "execution_count": 20,
      "outputs": [
        {
          "output_type": "execute_result",
          "data": {
            "text/plain": [
              "(array([2.03933258e+03, 1.56258888e+03, 8.17567621e+03, 1.29578211e+04,\n",
              "        1.04182830e+04, 4.87687764e+00, 3.77185632e+01, 1.76373362e+00,\n",
              "        2.31462330e-01]),\n",
              " array([0.00000000e+00, 0.00000000e+00, 0.00000000e+00, 0.00000000e+00,\n",
              "        0.00000000e+00, 2.72188133e-02, 8.17231621e-10, 1.84159497e-01,\n",
              "        6.30441646e-01]))"
            ]
          },
          "metadata": {},
          "execution_count": 20
        }
      ]
    },
    {
      "cell_type": "code",
      "source": [
        "p_values = pd.Series(f_score[1])\n",
        "p_values.index = X_train.columns\n",
        "p_values"
      ],
      "metadata": {
        "colab": {
          "base_uri": "https://localhost:8080/"
        },
        "id": "_z79SRF8zZsR",
        "outputId": "c28c0796-feb0-4e28-804a-e20d4e124f9c"
      },
      "execution_count": 21,
      "outputs": [
        {
          "output_type": "execute_result",
          "data": {
            "text/plain": [
              "Department             0.000000e+00\n",
              "Ward_Facility_Code     0.000000e+00\n",
              "doctor_name            0.000000e+00\n",
              "Age                    0.000000e+00\n",
              "gender                 0.000000e+00\n",
              "Type of Admission      2.721881e-02\n",
              "Severity of Illness    8.172316e-10\n",
              "health_conditions      1.841595e-01\n",
              "Insurance              6.304416e-01\n",
              "dtype: float64"
            ]
          },
          "metadata": {},
          "execution_count": 21
        }
      ]
    },
    {
      "cell_type": "code",
      "source": [
        "# De lo observado, vemos que resulta dificil realizar la selección de características mediante\n",
        "# correlación de Pearson o incluso con chi2, por lo que vamos a tomar las siguientes variables.\n",
        "# healt_conditions"
      ],
      "metadata": {
        "id": "mc3Rkb-U2O2b"
      },
      "execution_count": 22,
      "outputs": []
    },
    {
      "cell_type": "markdown",
      "source": [],
      "metadata": {
        "id": "e4Db1bJN_P0X"
      }
    },
    {
      "cell_type": "markdown",
      "source": [
        "# Regresión Logística"
      ],
      "metadata": {
        "id": "OUHXIctt7_Zg"
      }
    },
    {
      "cell_type": "code",
      "source": [
        "# Preparamos la matriz de features y el vector objetivo\n",
        "X = df.drop(columns=['type_stay'])\n",
        "y = df['type_stay']\n",
        "\n",
        "# Separamos un set de testeo para evaluar el modelo\n",
        "X_train, X_test, y_train, y_test = train_test_split(X, y, stratify=y, random_state = 0)\n",
        "\n",
        "# Estandarizamos los datos para que la regularización sea correcta\n",
        "scaler = StandardScaler()\n",
        "#X_train_std = pd.DataFrame(scaler.fit_transform(X_train), columns=X_train.columns)\n",
        "#X_test_std = scaler.transform(X_test)"
      ],
      "metadata": {
        "colab": {
          "base_uri": "https://localhost:8080/",
          "height": 396
        },
        "id": "EZB-miuC8FCy",
        "outputId": "97cb0435-23ac-494d-d358-84dd74df6491"
      },
      "execution_count": 23,
      "outputs": [
        {
          "output_type": "error",
          "ename": "KeyError",
          "evalue": "ignored",
          "traceback": [
            "\u001b[0;31m---------------------------------------------------------------------------\u001b[0m",
            "\u001b[0;31mKeyError\u001b[0m                                  Traceback (most recent call last)",
            "\u001b[0;32m<ipython-input-23-aa5b367db421>\u001b[0m in \u001b[0;36m<module>\u001b[0;34m\u001b[0m\n\u001b[1;32m      1\u001b[0m \u001b[0;31m# Preparamos la matriz de features y el vector objetivo\u001b[0m\u001b[0;34m\u001b[0m\u001b[0;34m\u001b[0m\u001b[0;34m\u001b[0m\u001b[0m\n\u001b[0;32m----> 2\u001b[0;31m \u001b[0mX\u001b[0m \u001b[0;34m=\u001b[0m \u001b[0mdf\u001b[0m\u001b[0;34m.\u001b[0m\u001b[0mdrop\u001b[0m\u001b[0;34m(\u001b[0m\u001b[0mcolumns\u001b[0m\u001b[0;34m=\u001b[0m\u001b[0;34m[\u001b[0m\u001b[0;34m'type_stay'\u001b[0m\u001b[0;34m,\u001b[0m\u001b[0;34m\"\"\u001b[0m\u001b[0;34m]\u001b[0m\u001b[0;34m)\u001b[0m\u001b[0;34m\u001b[0m\u001b[0;34m\u001b[0m\u001b[0m\n\u001b[0m\u001b[1;32m      3\u001b[0m \u001b[0my\u001b[0m \u001b[0;34m=\u001b[0m \u001b[0mdf\u001b[0m\u001b[0;34m[\u001b[0m\u001b[0;34m'type_stay'\u001b[0m\u001b[0;34m]\u001b[0m\u001b[0;34m\u001b[0m\u001b[0;34m\u001b[0m\u001b[0m\n\u001b[1;32m      4\u001b[0m \u001b[0;34m\u001b[0m\u001b[0m\n\u001b[1;32m      5\u001b[0m \u001b[0;31m# Separamos un set de testeo para evaluar el modelo\u001b[0m\u001b[0;34m\u001b[0m\u001b[0;34m\u001b[0m\u001b[0;34m\u001b[0m\u001b[0m\n",
            "\u001b[0;32m/usr/local/lib/python3.8/dist-packages/pandas/util/_decorators.py\u001b[0m in \u001b[0;36mwrapper\u001b[0;34m(*args, **kwargs)\u001b[0m\n\u001b[1;32m    309\u001b[0m                     \u001b[0mstacklevel\u001b[0m\u001b[0;34m=\u001b[0m\u001b[0mstacklevel\u001b[0m\u001b[0;34m,\u001b[0m\u001b[0;34m\u001b[0m\u001b[0;34m\u001b[0m\u001b[0m\n\u001b[1;32m    310\u001b[0m                 )\n\u001b[0;32m--> 311\u001b[0;31m             \u001b[0;32mreturn\u001b[0m \u001b[0mfunc\u001b[0m\u001b[0;34m(\u001b[0m\u001b[0;34m*\u001b[0m\u001b[0margs\u001b[0m\u001b[0;34m,\u001b[0m \u001b[0;34m**\u001b[0m\u001b[0mkwargs\u001b[0m\u001b[0;34m)\u001b[0m\u001b[0;34m\u001b[0m\u001b[0;34m\u001b[0m\u001b[0m\n\u001b[0m\u001b[1;32m    312\u001b[0m \u001b[0;34m\u001b[0m\u001b[0m\n\u001b[1;32m    313\u001b[0m         \u001b[0;32mreturn\u001b[0m \u001b[0mwrapper\u001b[0m\u001b[0;34m\u001b[0m\u001b[0;34m\u001b[0m\u001b[0m\n",
            "\u001b[0;32m/usr/local/lib/python3.8/dist-packages/pandas/core/frame.py\u001b[0m in \u001b[0;36mdrop\u001b[0;34m(self, labels, axis, index, columns, level, inplace, errors)\u001b[0m\n\u001b[1;32m   4904\u001b[0m                 \u001b[0mweight\u001b[0m  \u001b[0;36m1.0\u001b[0m     \u001b[0;36m0.8\u001b[0m\u001b[0;34m\u001b[0m\u001b[0;34m\u001b[0m\u001b[0m\n\u001b[1;32m   4905\u001b[0m         \"\"\"\n\u001b[0;32m-> 4906\u001b[0;31m         return super().drop(\n\u001b[0m\u001b[1;32m   4907\u001b[0m             \u001b[0mlabels\u001b[0m\u001b[0;34m=\u001b[0m\u001b[0mlabels\u001b[0m\u001b[0;34m,\u001b[0m\u001b[0;34m\u001b[0m\u001b[0;34m\u001b[0m\u001b[0m\n\u001b[1;32m   4908\u001b[0m             \u001b[0maxis\u001b[0m\u001b[0;34m=\u001b[0m\u001b[0maxis\u001b[0m\u001b[0;34m,\u001b[0m\u001b[0;34m\u001b[0m\u001b[0;34m\u001b[0m\u001b[0m\n",
            "\u001b[0;32m/usr/local/lib/python3.8/dist-packages/pandas/core/generic.py\u001b[0m in \u001b[0;36mdrop\u001b[0;34m(self, labels, axis, index, columns, level, inplace, errors)\u001b[0m\n\u001b[1;32m   4148\u001b[0m         \u001b[0;32mfor\u001b[0m \u001b[0maxis\u001b[0m\u001b[0;34m,\u001b[0m \u001b[0mlabels\u001b[0m \u001b[0;32min\u001b[0m \u001b[0maxes\u001b[0m\u001b[0;34m.\u001b[0m\u001b[0mitems\u001b[0m\u001b[0;34m(\u001b[0m\u001b[0;34m)\u001b[0m\u001b[0;34m:\u001b[0m\u001b[0;34m\u001b[0m\u001b[0;34m\u001b[0m\u001b[0m\n\u001b[1;32m   4149\u001b[0m             \u001b[0;32mif\u001b[0m \u001b[0mlabels\u001b[0m \u001b[0;32mis\u001b[0m \u001b[0;32mnot\u001b[0m \u001b[0;32mNone\u001b[0m\u001b[0;34m:\u001b[0m\u001b[0;34m\u001b[0m\u001b[0;34m\u001b[0m\u001b[0m\n\u001b[0;32m-> 4150\u001b[0;31m                 \u001b[0mobj\u001b[0m \u001b[0;34m=\u001b[0m \u001b[0mobj\u001b[0m\u001b[0;34m.\u001b[0m\u001b[0m_drop_axis\u001b[0m\u001b[0;34m(\u001b[0m\u001b[0mlabels\u001b[0m\u001b[0;34m,\u001b[0m \u001b[0maxis\u001b[0m\u001b[0;34m,\u001b[0m \u001b[0mlevel\u001b[0m\u001b[0;34m=\u001b[0m\u001b[0mlevel\u001b[0m\u001b[0;34m,\u001b[0m \u001b[0merrors\u001b[0m\u001b[0;34m=\u001b[0m\u001b[0merrors\u001b[0m\u001b[0;34m)\u001b[0m\u001b[0;34m\u001b[0m\u001b[0;34m\u001b[0m\u001b[0m\n\u001b[0m\u001b[1;32m   4151\u001b[0m \u001b[0;34m\u001b[0m\u001b[0m\n\u001b[1;32m   4152\u001b[0m         \u001b[0;32mif\u001b[0m \u001b[0minplace\u001b[0m\u001b[0;34m:\u001b[0m\u001b[0;34m\u001b[0m\u001b[0;34m\u001b[0m\u001b[0m\n",
            "\u001b[0;32m/usr/local/lib/python3.8/dist-packages/pandas/core/generic.py\u001b[0m in \u001b[0;36m_drop_axis\u001b[0;34m(self, labels, axis, level, errors)\u001b[0m\n\u001b[1;32m   4183\u001b[0m                 \u001b[0mnew_axis\u001b[0m \u001b[0;34m=\u001b[0m \u001b[0maxis\u001b[0m\u001b[0;34m.\u001b[0m\u001b[0mdrop\u001b[0m\u001b[0;34m(\u001b[0m\u001b[0mlabels\u001b[0m\u001b[0;34m,\u001b[0m \u001b[0mlevel\u001b[0m\u001b[0;34m=\u001b[0m\u001b[0mlevel\u001b[0m\u001b[0;34m,\u001b[0m \u001b[0merrors\u001b[0m\u001b[0;34m=\u001b[0m\u001b[0merrors\u001b[0m\u001b[0;34m)\u001b[0m\u001b[0;34m\u001b[0m\u001b[0;34m\u001b[0m\u001b[0m\n\u001b[1;32m   4184\u001b[0m             \u001b[0;32melse\u001b[0m\u001b[0;34m:\u001b[0m\u001b[0;34m\u001b[0m\u001b[0;34m\u001b[0m\u001b[0m\n\u001b[0;32m-> 4185\u001b[0;31m                 \u001b[0mnew_axis\u001b[0m \u001b[0;34m=\u001b[0m \u001b[0maxis\u001b[0m\u001b[0;34m.\u001b[0m\u001b[0mdrop\u001b[0m\u001b[0;34m(\u001b[0m\u001b[0mlabels\u001b[0m\u001b[0;34m,\u001b[0m \u001b[0merrors\u001b[0m\u001b[0;34m=\u001b[0m\u001b[0merrors\u001b[0m\u001b[0;34m)\u001b[0m\u001b[0;34m\u001b[0m\u001b[0;34m\u001b[0m\u001b[0m\n\u001b[0m\u001b[1;32m   4186\u001b[0m             \u001b[0mresult\u001b[0m \u001b[0;34m=\u001b[0m \u001b[0mself\u001b[0m\u001b[0;34m.\u001b[0m\u001b[0mreindex\u001b[0m\u001b[0;34m(\u001b[0m\u001b[0;34m**\u001b[0m\u001b[0;34m{\u001b[0m\u001b[0maxis_name\u001b[0m\u001b[0;34m:\u001b[0m \u001b[0mnew_axis\u001b[0m\u001b[0;34m}\u001b[0m\u001b[0;34m)\u001b[0m\u001b[0;34m\u001b[0m\u001b[0;34m\u001b[0m\u001b[0m\n\u001b[1;32m   4187\u001b[0m \u001b[0;34m\u001b[0m\u001b[0m\n",
            "\u001b[0;32m/usr/local/lib/python3.8/dist-packages/pandas/core/indexes/base.py\u001b[0m in \u001b[0;36mdrop\u001b[0;34m(self, labels, errors)\u001b[0m\n\u001b[1;32m   6015\u001b[0m         \u001b[0;32mif\u001b[0m \u001b[0mmask\u001b[0m\u001b[0;34m.\u001b[0m\u001b[0many\u001b[0m\u001b[0;34m(\u001b[0m\u001b[0;34m)\u001b[0m\u001b[0;34m:\u001b[0m\u001b[0;34m\u001b[0m\u001b[0;34m\u001b[0m\u001b[0m\n\u001b[1;32m   6016\u001b[0m             \u001b[0;32mif\u001b[0m \u001b[0merrors\u001b[0m \u001b[0;34m!=\u001b[0m \u001b[0;34m\"ignore\"\u001b[0m\u001b[0;34m:\u001b[0m\u001b[0;34m\u001b[0m\u001b[0;34m\u001b[0m\u001b[0m\n\u001b[0;32m-> 6017\u001b[0;31m                 \u001b[0;32mraise\u001b[0m \u001b[0mKeyError\u001b[0m\u001b[0;34m(\u001b[0m\u001b[0;34mf\"{labels[mask]} not found in axis\"\u001b[0m\u001b[0;34m)\u001b[0m\u001b[0;34m\u001b[0m\u001b[0;34m\u001b[0m\u001b[0m\n\u001b[0m\u001b[1;32m   6018\u001b[0m             \u001b[0mindexer\u001b[0m \u001b[0;34m=\u001b[0m \u001b[0mindexer\u001b[0m\u001b[0;34m[\u001b[0m\u001b[0;34m~\u001b[0m\u001b[0mmask\u001b[0m\u001b[0;34m]\u001b[0m\u001b[0;34m\u001b[0m\u001b[0;34m\u001b[0m\u001b[0m\n\u001b[1;32m   6019\u001b[0m         \u001b[0;32mreturn\u001b[0m \u001b[0mself\u001b[0m\u001b[0;34m.\u001b[0m\u001b[0mdelete\u001b[0m\u001b[0;34m(\u001b[0m\u001b[0mindexer\u001b[0m\u001b[0;34m)\u001b[0m\u001b[0;34m\u001b[0m\u001b[0;34m\u001b[0m\u001b[0m\n",
            "\u001b[0;31mKeyError\u001b[0m: \"[''] not found in axis\""
          ]
        }
      ]
    },
    {
      "cell_type": "code",
      "source": [],
      "metadata": {
        "id": "X3g2N1G68EzH"
      },
      "execution_count": null,
      "outputs": []
    },
    {
      "cell_type": "code",
      "source": [
        "#Instanciamos el modelo de Regresion logistica y lo entrenamos. Almacenamos las predicciones\n",
        "lr = LogisticRegression(penalty='l2', \n",
        "                        class_weight='balanced'\n",
        "                       )\n",
        "lr.fit(X_train, y_train)\n",
        "\n",
        "y_train_pred = lr.predict(X_train)"
      ],
      "metadata": {
        "id": "mVWxjJyY7_Ke"
      },
      "execution_count": null,
      "outputs": []
    },
    {
      "cell_type": "code",
      "source": [],
      "metadata": {
        "id": "j0Dmyl2CZdzk"
      },
      "execution_count": null,
      "outputs": []
    },
    {
      "cell_type": "code",
      "source": [],
      "metadata": {
        "id": "D97ZXuzLjg19"
      },
      "execution_count": null,
      "outputs": []
    }
  ]
}