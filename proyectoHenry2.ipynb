{
  "nbformat": 4,
  "nbformat_minor": 0,
  "metadata": {
    "colab": {
      "provenance": [],
      "collapsed_sections": [
        "1Bml1GkOgn_O",
        "Eoc1zfr_JpiD"
      ],
      "toc_visible": true,
      "authorship_tag": "ABX9TyNhFf2b0wUEjlJX73yFYg0C",
      "include_colab_link": true
    },
    "kernelspec": {
      "name": "python3",
      "display_name": "Python 3"
    },
    "language_info": {
      "name": "python"
    }
  },
  "cells": [
    {
      "cell_type": "markdown",
      "metadata": {
        "id": "view-in-github",
        "colab_type": "text"
      },
      "source": [
        "<a href=\"https://colab.research.google.com/github/Leito2022/ProyectoHenryML/blob/main/proyectoHenry2.ipynb\" target=\"_parent\"><img src=\"https://colab.research.google.com/assets/colab-badge.svg\" alt=\"Open In Colab\"/></a>"
      ]
    },
    {
      "cell_type": "markdown",
      "source": [
        "# Proyecto N° 2 de ML - Henry\n"
      ],
      "metadata": {
        "id": "O_wl_PLWHPAm"
      }
    },
    {
      "cell_type": "markdown",
      "source": [
        "Autor: Rodríguez Jorge Leonardo\n",
        "\n",
        "\n",
        "Fecha: 14/12/2022\n",
        "\n",
        "Última edición 14/12/2022\n",
        "\n",
        "\n",
        "PARA MEJOR MANEJO DE LOS INDICES CREADOS RECOMIENDO VISUALIZAR ESTE TRABAJO EN GOOGLE COLAB.\n",
        "\n"
      ],
      "metadata": {
        "id": "YsMpWM2JHZjn"
      }
    },
    {
      "cell_type": "markdown",
      "source": [
        "En este proyecto el objetivo es lograr crear un modelo de machine learning capaz de predecir el tiempo que un paciente permanecerá internado ocupando una cama en una habitación. Con esta información es posible estimar los recursos que serán necesarios disponer en caso de la estadía sea prolongada y por tanto evitar escases o faltante de ciertos elementos o insumos."
      ],
      "metadata": {
        "id": "ywipCbLxIA_z"
      }
    },
    {
      "cell_type": "markdown",
      "source": [
        "\n",
        "# Librerias\n",
        "\n"
      ],
      "metadata": {
        "id": "5-kmZe7SHKSn"
      }
    },
    {
      "cell_type": "code",
      "execution_count": 1,
      "metadata": {
        "id": "tRJ-cmFzROMo"
      },
      "outputs": [],
      "source": [
        "import numpy as np\n",
        "import pandas as pd\n",
        "import matplotlib as mlt\n",
        "import matplotlib.pyplot as plt\n",
        "%matplotlib inline\n",
        "import seaborn as sns"
      ]
    },
    {
      "cell_type": "code",
      "source": [
        "#Importe librerías de varios modelos que practiqué pero sin resultados buenos\n",
        "from sklearn.model_selection import train_test_split\n",
        "from sklearn.preprocessing import StandardScaler\n",
        "from sklearn.linear_model import LogisticRegression\n",
        "from sklearn.metrics import accuracy_score, confusion_matrix, classification_report, recall_score, fbeta_score\n",
        "from sklearn.naive_bayes import GaussianNB\n",
        "from sklearn.tree import DecisionTreeClassifier\n",
        "from sklearn.ensemble import AdaBoostClassifier\n",
        "from sklearn.metrics import make_scorer\n",
        "from sklearn.model_selection import GridSearchCV"
      ],
      "metadata": {
        "id": "vitwtfQ8RQVg"
      },
      "execution_count": 3,
      "outputs": []
    },
    {
      "cell_type": "code",
      "source": [
        "from sklearn.metrics import f1_score"
      ],
      "metadata": {
        "id": "uqM1i1YIRR4h"
      },
      "execution_count": 4,
      "outputs": []
    },
    {
      "cell_type": "markdown",
      "source": [
        "# DESCRIPCION DE VARIABLE"
      ],
      "metadata": {
        "id": "1Bml1GkOgn_O"
      }
    },
    {
      "cell_type": "markdown",
      "source": [
        "\n",
        "\n",
        "\n",
        "-Available Extra Rooms in Hospital: Habitaciones adicionales disponibles en el \n",
        "hospital. Una habitación no es igual a un paciente, pueden ser individuales o compartidas.\n",
        "\n",
        "\n",
        "-Department: Área de atención a la que ingresa el paciente.\n",
        "\n",
        "\n",
        "-Ward_Facility_Code: Código de la habitación del paciente.\n",
        "\n",
        "\n",
        "-doctor_name: Nombre de el/la doctor/a a cargo del paciente.\n",
        "\n",
        "\n",
        "-staff_available: Cantidad de personal disponible al momento del ingreso del paciente.\n",
        "\n",
        "\n",
        "-patientid: Identificador del paciente.\n",
        "\n",
        "\n",
        "-Age: Edad del paciente.\n",
        "\n",
        "\n",
        "-gender: Género del paciente.\n",
        "\n",
        "\n",
        "-Type of Admission: Tipo de ingreso registrado según la situación de ingreso del paciente.\n",
        "\n",
        "\n",
        "-Severity of Illness: Gravedad de la enfermedad/condición/estado del paciente al momento del ingreso.\n",
        "\n",
        "\n",
        "-health_conditions: Condiciones de salud del paciente.\n",
        "\n",
        "\n",
        "-Visitors with Patient: Cantidad de visitantes registrados para el paciente.\n",
        "\n",
        "\n",
        "-Insurance: Indica si la persona posee o no seguro de salud.\n",
        "\n",
        "\n",
        "-Admission_Deposit: Pago realizado a nombre del paciente, con el fin de cubrir los costos iniciales de internación.\n",
        "\n",
        "\n",
        "-Stay (in days): Días registrados de estancia hospitalaria.​"
      ],
      "metadata": {
        "id": "xpQA4QkxJj-a"
      }
    },
    {
      "cell_type": "markdown",
      "source": [
        "# EDA\n",
        "\n",
        "Realizo un EDA para encontrar nulos, valores extraños y outliers. Me adentro a la idea de que significa cada variable."
      ],
      "metadata": {
        "id": "Eoc1zfr_JpiD"
      }
    },
    {
      "cell_type": "code",
      "source": [
        "#Importo los datasets\n",
        "\n",
        "df = pd.read_csv(\"https://raw.githubusercontent.com/soyHenry/Datathon/main/hospitalizaciones_train.csv\")\n",
        "df_1 = pd.read_csv(\"https://raw.githubusercontent.com/soyHenry/Datathon/main/hospitalizaciones_test.csv\")"
      ],
      "metadata": {
        "id": "Za0GPF0SRSd7"
      },
      "execution_count": 5,
      "outputs": []
    },
    {
      "cell_type": "code",
      "source": [
        "#Agrego la columna target (type_stay)\n",
        "\n",
        "df[\"type_stay\"] = np.where(df[\"Stay (in days)\"] > 8, 1,0)"
      ],
      "metadata": {
        "id": "Lu4aBP0fRvA7"
      },
      "execution_count": 6,
      "outputs": []
    },
    {
      "cell_type": "code",
      "source": [
        "df.info() # Verifico el tipo de datos que tiene cada columna"
      ],
      "metadata": {
        "colab": {
          "base_uri": "https://localhost:8080/"
        },
        "id": "ZEgMJeL8hPii",
        "outputId": "69fb1f05-a7ab-4353-a8da-d4b3aad71a0b"
      },
      "execution_count": 7,
      "outputs": [
        {
          "output_type": "stream",
          "name": "stdout",
          "text": [
            "<class 'pandas.core.frame.DataFrame'>\n",
            "RangeIndex: 410000 entries, 0 to 409999\n",
            "Data columns (total 16 columns):\n",
            " #   Column                             Non-Null Count   Dtype  \n",
            "---  ------                             --------------   -----  \n",
            " 0   Available Extra Rooms in Hospital  410000 non-null  int64  \n",
            " 1   Department                         410000 non-null  object \n",
            " 2   Ward_Facility_Code                 410000 non-null  object \n",
            " 3   doctor_name                        410000 non-null  object \n",
            " 4   staff_available                    410000 non-null  int64  \n",
            " 5   patientid                          410000 non-null  int64  \n",
            " 6   Age                                410000 non-null  object \n",
            " 7   gender                             410000 non-null  object \n",
            " 8   Type of Admission                  410000 non-null  object \n",
            " 9   Severity of Illness                410000 non-null  object \n",
            " 10  health_conditions                  410000 non-null  object \n",
            " 11  Visitors with Patient              410000 non-null  int64  \n",
            " 12  Insurance                          410000 non-null  object \n",
            " 13  Admission_Deposit                  410000 non-null  float64\n",
            " 14  Stay (in days)                     410000 non-null  int64  \n",
            " 15  type_stay                          410000 non-null  int64  \n",
            "dtypes: float64(1), int64(6), object(9)\n",
            "memory usage: 50.0+ MB\n"
          ]
        }
      ]
    },
    {
      "cell_type": "code",
      "source": [
        "df.isna().sum() #Verifico si hay nulos"
      ],
      "metadata": {
        "colab": {
          "base_uri": "https://localhost:8080/"
        },
        "id": "zZkBreJUgrtJ",
        "outputId": "6d77445e-0c0b-433b-9ae3-dff16eb9b768"
      },
      "execution_count": 8,
      "outputs": [
        {
          "output_type": "execute_result",
          "data": {
            "text/plain": [
              "Available Extra Rooms in Hospital    0\n",
              "Department                           0\n",
              "Ward_Facility_Code                   0\n",
              "doctor_name                          0\n",
              "staff_available                      0\n",
              "patientid                            0\n",
              "Age                                  0\n",
              "gender                               0\n",
              "Type of Admission                    0\n",
              "Severity of Illness                  0\n",
              "health_conditions                    0\n",
              "Visitors with Patient                0\n",
              "Insurance                            0\n",
              "Admission_Deposit                    0\n",
              "Stay (in days)                       0\n",
              "type_stay                            0\n",
              "dtype: int64"
            ]
          },
          "metadata": {},
          "execution_count": 8
        }
      ]
    },
    {
      "cell_type": "code",
      "source": [
        "df.sample(5) #Saco una muestra aleatoria para visualizar los datos"
      ],
      "metadata": {
        "colab": {
          "base_uri": "https://localhost:8080/",
          "height": 409
        },
        "id": "wS9IzAzshOkQ",
        "outputId": "29a951b8-ed1e-4816-8a46-769c8ee71c6b"
      },
      "execution_count": 9,
      "outputs": [
        {
          "output_type": "execute_result",
          "data": {
            "text/plain": [
              "        Available Extra Rooms in Hospital  Department Ward_Facility_Code  \\\n",
              "33640                                   3  gynecology                  F   \n",
              "369886                                  1  gynecology                  B   \n",
              "172972                                  7  gynecology                  D   \n",
              "235909                                  3  gynecology                  D   \n",
              "316321                                 10  gynecology                  D   \n",
              "\n",
              "       doctor_name  staff_available  patientid    Age  gender  \\\n",
              "33640     Dr Sarah               10     129000  41-50  Female   \n",
              "369886   Dr Olivia                6     127797  41-50  Female   \n",
              "172972    Dr Sarah                1       5205  11-20  Female   \n",
              "235909   Dr Olivia                6       3689  31-40  Female   \n",
              "316321   Dr Nathan                1      78376  41-50  Female   \n",
              "\n",
              "       Type of Admission Severity of Illness    health_conditions  \\\n",
              "33640             Urgent               Minor  High Blood Pressure   \n",
              "369886            Trauma            Moderate                 None   \n",
              "172972         Emergency            Moderate              Asthama   \n",
              "235909            Trauma            Moderate                 None   \n",
              "316321            Trauma             Extreme                 None   \n",
              "\n",
              "        Visitors with Patient Insurance  Admission_Deposit  Stay (in days)  \\\n",
              "33640                       2       Yes        5289.204636               7   \n",
              "369886                      4       Yes        4051.120390               8   \n",
              "172972                      4       Yes        4644.690122               9   \n",
              "235909                      3       Yes        6851.951059               8   \n",
              "316321                      2        No        4925.138286              10   \n",
              "\n",
              "        type_stay  \n",
              "33640           0  \n",
              "369886          0  \n",
              "172972          1  \n",
              "235909          0  \n",
              "316321          1  "
            ],
            "text/html": [
              "\n",
              "  <div id=\"df-7021e2eb-2d87-4c7d-babb-4d0285319060\">\n",
              "    <div class=\"colab-df-container\">\n",
              "      <div>\n",
              "<style scoped>\n",
              "    .dataframe tbody tr th:only-of-type {\n",
              "        vertical-align: middle;\n",
              "    }\n",
              "\n",
              "    .dataframe tbody tr th {\n",
              "        vertical-align: top;\n",
              "    }\n",
              "\n",
              "    .dataframe thead th {\n",
              "        text-align: right;\n",
              "    }\n",
              "</style>\n",
              "<table border=\"1\" class=\"dataframe\">\n",
              "  <thead>\n",
              "    <tr style=\"text-align: right;\">\n",
              "      <th></th>\n",
              "      <th>Available Extra Rooms in Hospital</th>\n",
              "      <th>Department</th>\n",
              "      <th>Ward_Facility_Code</th>\n",
              "      <th>doctor_name</th>\n",
              "      <th>staff_available</th>\n",
              "      <th>patientid</th>\n",
              "      <th>Age</th>\n",
              "      <th>gender</th>\n",
              "      <th>Type of Admission</th>\n",
              "      <th>Severity of Illness</th>\n",
              "      <th>health_conditions</th>\n",
              "      <th>Visitors with Patient</th>\n",
              "      <th>Insurance</th>\n",
              "      <th>Admission_Deposit</th>\n",
              "      <th>Stay (in days)</th>\n",
              "      <th>type_stay</th>\n",
              "    </tr>\n",
              "  </thead>\n",
              "  <tbody>\n",
              "    <tr>\n",
              "      <th>33640</th>\n",
              "      <td>3</td>\n",
              "      <td>gynecology</td>\n",
              "      <td>F</td>\n",
              "      <td>Dr Sarah</td>\n",
              "      <td>10</td>\n",
              "      <td>129000</td>\n",
              "      <td>41-50</td>\n",
              "      <td>Female</td>\n",
              "      <td>Urgent</td>\n",
              "      <td>Minor</td>\n",
              "      <td>High Blood Pressure</td>\n",
              "      <td>2</td>\n",
              "      <td>Yes</td>\n",
              "      <td>5289.204636</td>\n",
              "      <td>7</td>\n",
              "      <td>0</td>\n",
              "    </tr>\n",
              "    <tr>\n",
              "      <th>369886</th>\n",
              "      <td>1</td>\n",
              "      <td>gynecology</td>\n",
              "      <td>B</td>\n",
              "      <td>Dr Olivia</td>\n",
              "      <td>6</td>\n",
              "      <td>127797</td>\n",
              "      <td>41-50</td>\n",
              "      <td>Female</td>\n",
              "      <td>Trauma</td>\n",
              "      <td>Moderate</td>\n",
              "      <td>None</td>\n",
              "      <td>4</td>\n",
              "      <td>Yes</td>\n",
              "      <td>4051.120390</td>\n",
              "      <td>8</td>\n",
              "      <td>0</td>\n",
              "    </tr>\n",
              "    <tr>\n",
              "      <th>172972</th>\n",
              "      <td>7</td>\n",
              "      <td>gynecology</td>\n",
              "      <td>D</td>\n",
              "      <td>Dr Sarah</td>\n",
              "      <td>1</td>\n",
              "      <td>5205</td>\n",
              "      <td>11-20</td>\n",
              "      <td>Female</td>\n",
              "      <td>Emergency</td>\n",
              "      <td>Moderate</td>\n",
              "      <td>Asthama</td>\n",
              "      <td>4</td>\n",
              "      <td>Yes</td>\n",
              "      <td>4644.690122</td>\n",
              "      <td>9</td>\n",
              "      <td>1</td>\n",
              "    </tr>\n",
              "    <tr>\n",
              "      <th>235909</th>\n",
              "      <td>3</td>\n",
              "      <td>gynecology</td>\n",
              "      <td>D</td>\n",
              "      <td>Dr Olivia</td>\n",
              "      <td>6</td>\n",
              "      <td>3689</td>\n",
              "      <td>31-40</td>\n",
              "      <td>Female</td>\n",
              "      <td>Trauma</td>\n",
              "      <td>Moderate</td>\n",
              "      <td>None</td>\n",
              "      <td>3</td>\n",
              "      <td>Yes</td>\n",
              "      <td>6851.951059</td>\n",
              "      <td>8</td>\n",
              "      <td>0</td>\n",
              "    </tr>\n",
              "    <tr>\n",
              "      <th>316321</th>\n",
              "      <td>10</td>\n",
              "      <td>gynecology</td>\n",
              "      <td>D</td>\n",
              "      <td>Dr Nathan</td>\n",
              "      <td>1</td>\n",
              "      <td>78376</td>\n",
              "      <td>41-50</td>\n",
              "      <td>Female</td>\n",
              "      <td>Trauma</td>\n",
              "      <td>Extreme</td>\n",
              "      <td>None</td>\n",
              "      <td>2</td>\n",
              "      <td>No</td>\n",
              "      <td>4925.138286</td>\n",
              "      <td>10</td>\n",
              "      <td>1</td>\n",
              "    </tr>\n",
              "  </tbody>\n",
              "</table>\n",
              "</div>\n",
              "      <button class=\"colab-df-convert\" onclick=\"convertToInteractive('df-7021e2eb-2d87-4c7d-babb-4d0285319060')\"\n",
              "              title=\"Convert this dataframe to an interactive table.\"\n",
              "              style=\"display:none;\">\n",
              "        \n",
              "  <svg xmlns=\"http://www.w3.org/2000/svg\" height=\"24px\"viewBox=\"0 0 24 24\"\n",
              "       width=\"24px\">\n",
              "    <path d=\"M0 0h24v24H0V0z\" fill=\"none\"/>\n",
              "    <path d=\"M18.56 5.44l.94 2.06.94-2.06 2.06-.94-2.06-.94-.94-2.06-.94 2.06-2.06.94zm-11 1L8.5 8.5l.94-2.06 2.06-.94-2.06-.94L8.5 2.5l-.94 2.06-2.06.94zm10 10l.94 2.06.94-2.06 2.06-.94-2.06-.94-.94-2.06-.94 2.06-2.06.94z\"/><path d=\"M17.41 7.96l-1.37-1.37c-.4-.4-.92-.59-1.43-.59-.52 0-1.04.2-1.43.59L10.3 9.45l-7.72 7.72c-.78.78-.78 2.05 0 2.83L4 21.41c.39.39.9.59 1.41.59.51 0 1.02-.2 1.41-.59l7.78-7.78 2.81-2.81c.8-.78.8-2.07 0-2.86zM5.41 20L4 18.59l7.72-7.72 1.47 1.35L5.41 20z\"/>\n",
              "  </svg>\n",
              "      </button>\n",
              "      \n",
              "  <style>\n",
              "    .colab-df-container {\n",
              "      display:flex;\n",
              "      flex-wrap:wrap;\n",
              "      gap: 12px;\n",
              "    }\n",
              "\n",
              "    .colab-df-convert {\n",
              "      background-color: #E8F0FE;\n",
              "      border: none;\n",
              "      border-radius: 50%;\n",
              "      cursor: pointer;\n",
              "      display: none;\n",
              "      fill: #1967D2;\n",
              "      height: 32px;\n",
              "      padding: 0 0 0 0;\n",
              "      width: 32px;\n",
              "    }\n",
              "\n",
              "    .colab-df-convert:hover {\n",
              "      background-color: #E2EBFA;\n",
              "      box-shadow: 0px 1px 2px rgba(60, 64, 67, 0.3), 0px 1px 3px 1px rgba(60, 64, 67, 0.15);\n",
              "      fill: #174EA6;\n",
              "    }\n",
              "\n",
              "    [theme=dark] .colab-df-convert {\n",
              "      background-color: #3B4455;\n",
              "      fill: #D2E3FC;\n",
              "    }\n",
              "\n",
              "    [theme=dark] .colab-df-convert:hover {\n",
              "      background-color: #434B5C;\n",
              "      box-shadow: 0px 1px 3px 1px rgba(0, 0, 0, 0.15);\n",
              "      filter: drop-shadow(0px 1px 2px rgba(0, 0, 0, 0.3));\n",
              "      fill: #FFFFFF;\n",
              "    }\n",
              "  </style>\n",
              "\n",
              "      <script>\n",
              "        const buttonEl =\n",
              "          document.querySelector('#df-7021e2eb-2d87-4c7d-babb-4d0285319060 button.colab-df-convert');\n",
              "        buttonEl.style.display =\n",
              "          google.colab.kernel.accessAllowed ? 'block' : 'none';\n",
              "\n",
              "        async function convertToInteractive(key) {\n",
              "          const element = document.querySelector('#df-7021e2eb-2d87-4c7d-babb-4d0285319060');\n",
              "          const dataTable =\n",
              "            await google.colab.kernel.invokeFunction('convertToInteractive',\n",
              "                                                     [key], {});\n",
              "          if (!dataTable) return;\n",
              "\n",
              "          const docLinkHtml = 'Like what you see? Visit the ' +\n",
              "            '<a target=\"_blank\" href=https://colab.research.google.com/notebooks/data_table.ipynb>data table notebook</a>'\n",
              "            + ' to learn more about interactive tables.';\n",
              "          element.innerHTML = '';\n",
              "          dataTable['output_type'] = 'display_data';\n",
              "          await google.colab.output.renderOutput(dataTable, element);\n",
              "          const docLink = document.createElement('div');\n",
              "          docLink.innerHTML = docLinkHtml;\n",
              "          element.appendChild(docLink);\n",
              "        }\n",
              "      </script>\n",
              "    </div>\n",
              "  </div>\n",
              "  "
            ]
          },
          "metadata": {},
          "execution_count": 9
        }
      ]
    },
    {
      "cell_type": "code",
      "source": [
        "#Observo las categorias y valores unicos de la mayoría de las columnas\n",
        "df.Department.unique()\n",
        "df.doctor_name.unique()\n",
        "df.staff_available.unique()\n",
        "df.Age.unique()\n",
        "df.gender.unique()\n",
        "df.health_conditions.unique() #Aquí no se puede considerar Nulo a NONE ya que hace referencia a que el paciente no tiene ninguna dolencia previa.\n",
        "df.Ward_Facility_Code.unique()"
      ],
      "metadata": {
        "colab": {
          "base_uri": "https://localhost:8080/"
        },
        "id": "4HNUMYXhj6Eq",
        "outputId": "90a1892b-05f0-419b-bac0-642e31102a5f"
      },
      "execution_count": 10,
      "outputs": [
        {
          "output_type": "execute_result",
          "data": {
            "text/plain": [
              "array(['D', 'B', 'E', 'F', 'A', 'C'], dtype=object)"
            ]
          },
          "metadata": {},
          "execution_count": 10
        }
      ]
    },
    {
      "cell_type": "code",
      "source": [
        "#Presencia del valor 1 sobre el 0 en la columna target, esto tambien lo repito con las distintas columnas para ver el peso \n",
        "#que tienen las distintas categorias\n",
        "\n",
        "df.type_stay.value_counts(True)"
      ],
      "metadata": {
        "colab": {
          "base_uri": "https://localhost:8080/"
        },
        "id": "P5qOzYZhlRq7",
        "outputId": "73cb413f-175a-4ea1-f729-86e7195d48ee"
      },
      "execution_count": 11,
      "outputs": [
        {
          "output_type": "execute_result",
          "data": {
            "text/plain": [
              "1    0.622966\n",
              "0    0.377034\n",
              "Name: type_stay, dtype: float64"
            ]
          },
          "metadata": {},
          "execution_count": 11
        }
      ]
    },
    {
      "cell_type": "markdown",
      "source": [
        "#SELECCIÓN DE FEATURES"
      ],
      "metadata": {
        "id": "fVgkYIXvSxgh"
      }
    },
    {
      "cell_type": "markdown",
      "source": [
        "# Variables numéricas"
      ],
      "metadata": {
        "id": "9KgDwMFGXoFC"
      }
    },
    {
      "cell_type": "markdown",
      "source": [
        "Comenzamos observando las variables numéricas y analizando si es posible encontrar correlación con la variable target.\n"
      ],
      "metadata": {
        "id": "bsQjJfCvXr27"
      }
    },
    {
      "cell_type": "code",
      "source": [
        "# Creamos una correlación de Pearson sobre las variables numericas\n",
        "\n",
        "numeric_features = list(df.select_dtypes(np.number).columns) # Creamos lista de atributos numericos\n",
        "df_numeric = df[numeric_features + ['type_stay']] # Cramos un dataframe con las columnas deseadas y la variable target\n",
        "\n",
        "df_numeric.corr()"
      ],
      "metadata": {
        "colab": {
          "base_uri": "https://localhost:8080/",
          "height": 451
        },
        "id": "o8FSHPsmk2Cz",
        "outputId": "43ad435c-9e54-4694-ef20-4ce4769ddad3"
      },
      "execution_count": 12,
      "outputs": [
        {
          "output_type": "execute_result",
          "data": {
            "text/plain": [
              "                                   Available Extra Rooms in Hospital  \\\n",
              "Available Extra Rooms in Hospital                           1.000000   \n",
              "staff_available                                            -0.003064   \n",
              "patientid                                                  -0.005426   \n",
              "Visitors with Patient                                       0.071073   \n",
              "Admission_Deposit                                          -0.050775   \n",
              "Stay (in days)                                             -0.019383   \n",
              "type_stay                                                   0.053894   \n",
              "type_stay                                                   0.053894   \n",
              "\n",
              "                                   staff_available  patientid  \\\n",
              "Available Extra Rooms in Hospital        -0.003064  -0.005426   \n",
              "staff_available                           1.000000  -0.000350   \n",
              "patientid                                -0.000350   1.000000   \n",
              "Visitors with Patient                     0.001444  -0.006393   \n",
              "Admission_Deposit                         0.000816   0.011602   \n",
              "Stay (in days)                            0.006673   0.005567   \n",
              "type_stay                                 0.002883  -0.000532   \n",
              "type_stay                                 0.002883  -0.000532   \n",
              "\n",
              "                                   Visitors with Patient  Admission_Deposit  \\\n",
              "Available Extra Rooms in Hospital               0.071073          -0.050775   \n",
              "staff_available                                 0.001444           0.000816   \n",
              "patientid                                      -0.006393           0.011602   \n",
              "Visitors with Patient                           1.000000          -0.069566   \n",
              "Admission_Deposit                              -0.069566           1.000000   \n",
              "Stay (in days)                                  0.027284           0.043899   \n",
              "type_stay                                      -0.009529          -0.016650   \n",
              "type_stay                                      -0.009529          -0.016650   \n",
              "\n",
              "                                   Stay (in days)  type_stay  type_stay  \n",
              "Available Extra Rooms in Hospital       -0.019383   0.053894   0.053894  \n",
              "staff_available                          0.006673   0.002883   0.002883  \n",
              "patientid                                0.005567  -0.000532  -0.000532  \n",
              "Visitors with Patient                    0.027284  -0.009529  -0.009529  \n",
              "Admission_Deposit                        0.043899  -0.016650  -0.016650  \n",
              "Stay (in days)                           1.000000   0.493378   0.493378  \n",
              "type_stay                                0.493378   1.000000   1.000000  \n",
              "type_stay                                0.493378   1.000000   1.000000  "
            ],
            "text/html": [
              "\n",
              "  <div id=\"df-353173cb-91aa-453d-a2f1-65ca3817c30e\">\n",
              "    <div class=\"colab-df-container\">\n",
              "      <div>\n",
              "<style scoped>\n",
              "    .dataframe tbody tr th:only-of-type {\n",
              "        vertical-align: middle;\n",
              "    }\n",
              "\n",
              "    .dataframe tbody tr th {\n",
              "        vertical-align: top;\n",
              "    }\n",
              "\n",
              "    .dataframe thead th {\n",
              "        text-align: right;\n",
              "    }\n",
              "</style>\n",
              "<table border=\"1\" class=\"dataframe\">\n",
              "  <thead>\n",
              "    <tr style=\"text-align: right;\">\n",
              "      <th></th>\n",
              "      <th>Available Extra Rooms in Hospital</th>\n",
              "      <th>staff_available</th>\n",
              "      <th>patientid</th>\n",
              "      <th>Visitors with Patient</th>\n",
              "      <th>Admission_Deposit</th>\n",
              "      <th>Stay (in days)</th>\n",
              "      <th>type_stay</th>\n",
              "      <th>type_stay</th>\n",
              "    </tr>\n",
              "  </thead>\n",
              "  <tbody>\n",
              "    <tr>\n",
              "      <th>Available Extra Rooms in Hospital</th>\n",
              "      <td>1.000000</td>\n",
              "      <td>-0.003064</td>\n",
              "      <td>-0.005426</td>\n",
              "      <td>0.071073</td>\n",
              "      <td>-0.050775</td>\n",
              "      <td>-0.019383</td>\n",
              "      <td>0.053894</td>\n",
              "      <td>0.053894</td>\n",
              "    </tr>\n",
              "    <tr>\n",
              "      <th>staff_available</th>\n",
              "      <td>-0.003064</td>\n",
              "      <td>1.000000</td>\n",
              "      <td>-0.000350</td>\n",
              "      <td>0.001444</td>\n",
              "      <td>0.000816</td>\n",
              "      <td>0.006673</td>\n",
              "      <td>0.002883</td>\n",
              "      <td>0.002883</td>\n",
              "    </tr>\n",
              "    <tr>\n",
              "      <th>patientid</th>\n",
              "      <td>-0.005426</td>\n",
              "      <td>-0.000350</td>\n",
              "      <td>1.000000</td>\n",
              "      <td>-0.006393</td>\n",
              "      <td>0.011602</td>\n",
              "      <td>0.005567</td>\n",
              "      <td>-0.000532</td>\n",
              "      <td>-0.000532</td>\n",
              "    </tr>\n",
              "    <tr>\n",
              "      <th>Visitors with Patient</th>\n",
              "      <td>0.071073</td>\n",
              "      <td>0.001444</td>\n",
              "      <td>-0.006393</td>\n",
              "      <td>1.000000</td>\n",
              "      <td>-0.069566</td>\n",
              "      <td>0.027284</td>\n",
              "      <td>-0.009529</td>\n",
              "      <td>-0.009529</td>\n",
              "    </tr>\n",
              "    <tr>\n",
              "      <th>Admission_Deposit</th>\n",
              "      <td>-0.050775</td>\n",
              "      <td>0.000816</td>\n",
              "      <td>0.011602</td>\n",
              "      <td>-0.069566</td>\n",
              "      <td>1.000000</td>\n",
              "      <td>0.043899</td>\n",
              "      <td>-0.016650</td>\n",
              "      <td>-0.016650</td>\n",
              "    </tr>\n",
              "    <tr>\n",
              "      <th>Stay (in days)</th>\n",
              "      <td>-0.019383</td>\n",
              "      <td>0.006673</td>\n",
              "      <td>0.005567</td>\n",
              "      <td>0.027284</td>\n",
              "      <td>0.043899</td>\n",
              "      <td>1.000000</td>\n",
              "      <td>0.493378</td>\n",
              "      <td>0.493378</td>\n",
              "    </tr>\n",
              "    <tr>\n",
              "      <th>type_stay</th>\n",
              "      <td>0.053894</td>\n",
              "      <td>0.002883</td>\n",
              "      <td>-0.000532</td>\n",
              "      <td>-0.009529</td>\n",
              "      <td>-0.016650</td>\n",
              "      <td>0.493378</td>\n",
              "      <td>1.000000</td>\n",
              "      <td>1.000000</td>\n",
              "    </tr>\n",
              "    <tr>\n",
              "      <th>type_stay</th>\n",
              "      <td>0.053894</td>\n",
              "      <td>0.002883</td>\n",
              "      <td>-0.000532</td>\n",
              "      <td>-0.009529</td>\n",
              "      <td>-0.016650</td>\n",
              "      <td>0.493378</td>\n",
              "      <td>1.000000</td>\n",
              "      <td>1.000000</td>\n",
              "    </tr>\n",
              "  </tbody>\n",
              "</table>\n",
              "</div>\n",
              "      <button class=\"colab-df-convert\" onclick=\"convertToInteractive('df-353173cb-91aa-453d-a2f1-65ca3817c30e')\"\n",
              "              title=\"Convert this dataframe to an interactive table.\"\n",
              "              style=\"display:none;\">\n",
              "        \n",
              "  <svg xmlns=\"http://www.w3.org/2000/svg\" height=\"24px\"viewBox=\"0 0 24 24\"\n",
              "       width=\"24px\">\n",
              "    <path d=\"M0 0h24v24H0V0z\" fill=\"none\"/>\n",
              "    <path d=\"M18.56 5.44l.94 2.06.94-2.06 2.06-.94-2.06-.94-.94-2.06-.94 2.06-2.06.94zm-11 1L8.5 8.5l.94-2.06 2.06-.94-2.06-.94L8.5 2.5l-.94 2.06-2.06.94zm10 10l.94 2.06.94-2.06 2.06-.94-2.06-.94-.94-2.06-.94 2.06-2.06.94z\"/><path d=\"M17.41 7.96l-1.37-1.37c-.4-.4-.92-.59-1.43-.59-.52 0-1.04.2-1.43.59L10.3 9.45l-7.72 7.72c-.78.78-.78 2.05 0 2.83L4 21.41c.39.39.9.59 1.41.59.51 0 1.02-.2 1.41-.59l7.78-7.78 2.81-2.81c.8-.78.8-2.07 0-2.86zM5.41 20L4 18.59l7.72-7.72 1.47 1.35L5.41 20z\"/>\n",
              "  </svg>\n",
              "      </button>\n",
              "      \n",
              "  <style>\n",
              "    .colab-df-container {\n",
              "      display:flex;\n",
              "      flex-wrap:wrap;\n",
              "      gap: 12px;\n",
              "    }\n",
              "\n",
              "    .colab-df-convert {\n",
              "      background-color: #E8F0FE;\n",
              "      border: none;\n",
              "      border-radius: 50%;\n",
              "      cursor: pointer;\n",
              "      display: none;\n",
              "      fill: #1967D2;\n",
              "      height: 32px;\n",
              "      padding: 0 0 0 0;\n",
              "      width: 32px;\n",
              "    }\n",
              "\n",
              "    .colab-df-convert:hover {\n",
              "      background-color: #E2EBFA;\n",
              "      box-shadow: 0px 1px 2px rgba(60, 64, 67, 0.3), 0px 1px 3px 1px rgba(60, 64, 67, 0.15);\n",
              "      fill: #174EA6;\n",
              "    }\n",
              "\n",
              "    [theme=dark] .colab-df-convert {\n",
              "      background-color: #3B4455;\n",
              "      fill: #D2E3FC;\n",
              "    }\n",
              "\n",
              "    [theme=dark] .colab-df-convert:hover {\n",
              "      background-color: #434B5C;\n",
              "      box-shadow: 0px 1px 3px 1px rgba(0, 0, 0, 0.15);\n",
              "      filter: drop-shadow(0px 1px 2px rgba(0, 0, 0, 0.3));\n",
              "      fill: #FFFFFF;\n",
              "    }\n",
              "  </style>\n",
              "\n",
              "      <script>\n",
              "        const buttonEl =\n",
              "          document.querySelector('#df-353173cb-91aa-453d-a2f1-65ca3817c30e button.colab-df-convert');\n",
              "        buttonEl.style.display =\n",
              "          google.colab.kernel.accessAllowed ? 'block' : 'none';\n",
              "\n",
              "        async function convertToInteractive(key) {\n",
              "          const element = document.querySelector('#df-353173cb-91aa-453d-a2f1-65ca3817c30e');\n",
              "          const dataTable =\n",
              "            await google.colab.kernel.invokeFunction('convertToInteractive',\n",
              "                                                     [key], {});\n",
              "          if (!dataTable) return;\n",
              "\n",
              "          const docLinkHtml = 'Like what you see? Visit the ' +\n",
              "            '<a target=\"_blank\" href=https://colab.research.google.com/notebooks/data_table.ipynb>data table notebook</a>'\n",
              "            + ' to learn more about interactive tables.';\n",
              "          element.innerHTML = '';\n",
              "          dataTable['output_type'] = 'display_data';\n",
              "          await google.colab.output.renderOutput(dataTable, element);\n",
              "          const docLink = document.createElement('div');\n",
              "          docLink.innerHTML = docLinkHtml;\n",
              "          element.appendChild(docLink);\n",
              "        }\n",
              "      </script>\n",
              "    </div>\n",
              "  </div>\n",
              "  "
            ]
          },
          "metadata": {},
          "execution_count": 12
        }
      ]
    },
    {
      "cell_type": "markdown",
      "source": [
        "Las correlaciones en las variables numéricas son bastante pobres, no me da certeza alguna de que pueda utilizar alguna de estas características. "
      ],
      "metadata": {
        "id": "geBthaOvKWO6"
      }
    },
    {
      "cell_type": "markdown",
      "source": [
        "# Variables Categoricas\n"
      ],
      "metadata": {
        "id": "5O-GirIBWCDe"
      }
    },
    {
      "cell_type": "markdown",
      "source": [
        "Procedo a analizar la correlación con las variables categóricas. Primero analizaré su distribución con respecto a la variable target de forma gráfica y luego calcularé el valor de chi 2."
      ],
      "metadata": {
        "id": "lftG81mxJoG2"
      }
    },
    {
      "cell_type": "code",
      "source": [
        "categorical_features = list(df.select_dtypes(object).columns) # Creo lista de atributos categoricos\n",
        "df_categ = df[categorical_features + ['type_stay']] # Creo un dataframe con las columnas deseadas y la variable target"
      ],
      "metadata": {
        "id": "vztYMlwtmX82"
      },
      "execution_count": 89,
      "outputs": []
    },
    {
      "cell_type": "code",
      "source": [
        "print('categorical_features:    ', categorical_features)\n",
        "\n",
        "plot02 = sns.catplot(kind='count', x = \"type_stay\", col = 'Type of Admission', \n",
        "                     col_wrap = 5, data=df_categ, \n",
        "                     ) # Instanciamos pairplot\n",
        "\n",
        "plot03 = sns.catplot(kind='count', x = \"type_stay\", col = \"doctor_name\", \n",
        "                     col_wrap = 5, data=df_categ, \n",
        "                     ) # Instanciamos pairplot\n",
        "\n"
      ],
      "metadata": {
        "colab": {
          "base_uri": "https://localhost:8080/",
          "height": 639
        },
        "id": "TmH4gUYvmjgT",
        "outputId": "f31757c2-452f-4b45-9345-12bce69b6938"
      },
      "execution_count": 90,
      "outputs": [
        {
          "output_type": "stream",
          "name": "stdout",
          "text": [
            "categorical_features:     ['Department', 'Ward_Facility_Code', 'doctor_name', 'Age', 'gender', 'Type of Admission', 'Severity of Illness', 'health_conditions', 'Insurance']\n"
          ]
        },
        {
          "output_type": "display_data",
          "data": {
            "text/plain": [
              "<Figure size 1800x360 with 3 Axes>"
            ],
            "image/png": "[encoded data removed]"
          },
          "metadata": {
            "needs_background": "light"
          }
        },
        {
          "output_type": "display_data",
          "data": {
            "text/plain": [
              "<Figure size 1800x720 with 9 Axes>"
            ],
            "image/png": "[encoded data removed]"
          },
          "metadata": {
            "needs_background": "light"
          }
        }
      ]
    },
    {
      "cell_type": "markdown",
      "source": [
        "Esto lo he realizado de a pares y observando todas las variables. Lamentablemente no hay una categoría que permita determinar una correlación en términos\n",
        "estadísticos y que no de lugar a dudas de ello, siempre hay que tener en cuenta que el nivel de proporción en el target\n",
        "es ligeramente desproporcionada, dando casi 62% a la internación de más de 8 días."
      ],
      "metadata": {
        "id": "eLLfXH3YeqJn"
      }
    },
    {
      "cell_type": "code",
      "source": [
        "#Como vamos a aplicar modelos de clasificación debemos usar metodos acordes a ello\n",
        "from sklearn.feature_selection import chi2\n",
        "from sklearn.preprocessing\timport OrdinalEncoder\n",
        "\n",
        "enc = OrdinalEncoder()\n",
        "df_categ.columns"
      ],
      "metadata": {
        "colab": {
          "base_uri": "https://localhost:8080/"
        },
        "id": "arB0bX96SAiY",
        "outputId": "58ae95d9-ebc2-4de7-b02f-4c811d909ef0"
      },
      "execution_count": 15,
      "outputs": [
        {
          "output_type": "execute_result",
          "data": {
            "text/plain": [
              "Index(['Department', 'Ward_Facility_Code', 'doctor_name', 'Age', 'gender',\n",
              "       'Type of Admission', 'Severity of Illness', 'health_conditions',\n",
              "       'Insurance', 'type_stay'],\n",
              "      dtype='object')"
            ]
          },
          "metadata": {},
          "execution_count": 15
        }
      ]
    },
    {
      "cell_type": "code",
      "source": [
        "enc.fit(df_categ[['Department', 'Ward_Facility_Code', 'doctor_name', 'Age', 'gender',\n",
        "       'Type of Admission', 'Severity of Illness', 'health_conditions',\n",
        "       'Insurance', 'type_stay']])"
      ],
      "metadata": {
        "colab": {
          "base_uri": "https://localhost:8080/"
        },
        "id": "A5YrTsFP8w13",
        "outputId": "54506e91-3ae2-4987-9453-7c54424d6688"
      },
      "execution_count": 16,
      "outputs": [
        {
          "output_type": "execute_result",
          "data": {
            "text/plain": [
              "OrdinalEncoder()"
            ]
          },
          "metadata": {},
          "execution_count": 16
        }
      ]
    },
    {
      "cell_type": "code",
      "source": [
        "df_categ[['Department', 'Ward_Facility_Code', 'doctor_name', 'Age', 'gender',\n",
        "       'Type of Admission', 'Severity of Illness', 'health_conditions',\n",
        "       'Insurance', 'type_stay']] = enc.transform(df_categ[['Department', 'Ward_Facility_Code', 'doctor_name', 'Age', 'gender',\n",
        "       'Type of Admission', 'Severity of Illness', 'health_conditions',\n",
        "       'Insurance', 'type_stay']])"
      ],
      "metadata": {
        "colab": {
          "base_uri": "https://localhost:8080/"
        },
        "id": "jek-ShLS9Qb_",
        "outputId": "844d6e22-26ed-4e32-9edb-727844d80501"
      },
      "execution_count": 17,
      "outputs": [
        {
          "output_type": "stream",
          "name": "stderr",
          "text": [
            "/usr/local/lib/python3.8/dist-packages/pandas/core/frame.py:3678: SettingWithCopyWarning: \n",
            "A value is trying to be set on a copy of a slice from a DataFrame.\n",
            "Try using .loc[row_indexer,col_indexer] = value instead\n",
            "\n",
            "See the caveats in the documentation: https://pandas.pydata.org/pandas-docs/stable/user_guide/indexing.html#returning-a-view-versus-a-copy\n",
            "  self[col] = igetitem(value, i)\n"
          ]
        }
      ]
    },
    {
      "cell_type": "code",
      "source": [
        "df_categ.head()"
      ],
      "metadata": {
        "colab": {
          "base_uri": "https://localhost:8080/",
          "height": 305
        },
        "id": "Xmf9EgKI921X",
        "outputId": "07187eec-8acf-4ce5-a428-79197f065609"
      },
      "execution_count": 18,
      "outputs": [
        {
          "output_type": "execute_result",
          "data": {
            "text/plain": [
              "   Department  Ward_Facility_Code  doctor_name  Age  gender  \\\n",
              "0         2.0                 3.0          8.0  4.0     0.0   \n",
              "1         2.0                 1.0          8.0  3.0     0.0   \n",
              "2         2.0                 1.0          8.0  2.0     0.0   \n",
              "3         2.0                 3.0          4.0  3.0     0.0   \n",
              "4         1.0                 4.0          2.0  7.0     1.0   \n",
              "\n",
              "   Type of Admission  Severity of Illness  health_conditions  Insurance  \\\n",
              "0                1.0                  0.0                1.0        1.0   \n",
              "1                1.0                  1.0                2.0        0.0   \n",
              "2                1.0                  0.0                1.0        1.0   \n",
              "3                2.0                  2.0                4.0        0.0   \n",
              "4                1.0                  2.0                1.0        0.0   \n",
              "\n",
              "   type_stay  \n",
              "0        0.0  \n",
              "1        1.0  \n",
              "2        0.0  \n",
              "3        0.0  \n",
              "4        1.0  "
            ],
            "text/html": [
              "\n",
              "  <div id=\"df-d11f7b72-5d49-4626-94e8-52c3e7981787\">\n",
              "    <div class=\"colab-df-container\">\n",
              "      <div>\n",
              "<style scoped>\n",
              "    .dataframe tbody tr th:only-of-type {\n",
              "        vertical-align: middle;\n",
              "    }\n",
              "\n",
              "    .dataframe tbody tr th {\n",
              "        vertical-align: top;\n",
              "    }\n",
              "\n",
              "    .dataframe thead th {\n",
              "        text-align: right;\n",
              "    }\n",
              "</style>\n",
              "<table border=\"1\" class=\"dataframe\">\n",
              "  <thead>\n",
              "    <tr style=\"text-align: right;\">\n",
              "      <th></th>\n",
              "      <th>Department</th>\n",
              "      <th>Ward_Facility_Code</th>\n",
              "      <th>doctor_name</th>\n",
              "      <th>Age</th>\n",
              "      <th>gender</th>\n",
              "      <th>Type of Admission</th>\n",
              "      <th>Severity of Illness</th>\n",
              "      <th>health_conditions</th>\n",
              "      <th>Insurance</th>\n",
              "      <th>type_stay</th>\n",
              "    </tr>\n",
              "  </thead>\n",
              "  <tbody>\n",
              "    <tr>\n",
              "      <th>0</th>\n",
              "      <td>2.0</td>\n",
              "      <td>3.0</td>\n",
              "      <td>8.0</td>\n",
              "      <td>4.0</td>\n",
              "      <td>0.0</td>\n",
              "      <td>1.0</td>\n",
              "      <td>0.0</td>\n",
              "      <td>1.0</td>\n",
              "      <td>1.0</td>\n",
              "      <td>0.0</td>\n",
              "    </tr>\n",
              "    <tr>\n",
              "      <th>1</th>\n",
              "      <td>2.0</td>\n",
              "      <td>1.0</td>\n",
              "      <td>8.0</td>\n",
              "      <td>3.0</td>\n",
              "      <td>0.0</td>\n",
              "      <td>1.0</td>\n",
              "      <td>1.0</td>\n",
              "      <td>2.0</td>\n",
              "      <td>0.0</td>\n",
              "      <td>1.0</td>\n",
              "    </tr>\n",
              "    <tr>\n",
              "      <th>2</th>\n",
              "      <td>2.0</td>\n",
              "      <td>1.0</td>\n",
              "      <td>8.0</td>\n",
              "      <td>2.0</td>\n",
              "      <td>0.0</td>\n",
              "      <td>1.0</td>\n",
              "      <td>0.0</td>\n",
              "      <td>1.0</td>\n",
              "      <td>1.0</td>\n",
              "      <td>0.0</td>\n",
              "    </tr>\n",
              "    <tr>\n",
              "      <th>3</th>\n",
              "      <td>2.0</td>\n",
              "      <td>3.0</td>\n",
              "      <td>4.0</td>\n",
              "      <td>3.0</td>\n",
              "      <td>0.0</td>\n",
              "      <td>2.0</td>\n",
              "      <td>2.0</td>\n",
              "      <td>4.0</td>\n",
              "      <td>0.0</td>\n",
              "      <td>0.0</td>\n",
              "    </tr>\n",
              "    <tr>\n",
              "      <th>4</th>\n",
              "      <td>1.0</td>\n",
              "      <td>4.0</td>\n",
              "      <td>2.0</td>\n",
              "      <td>7.0</td>\n",
              "      <td>1.0</td>\n",
              "      <td>1.0</td>\n",
              "      <td>2.0</td>\n",
              "      <td>1.0</td>\n",
              "      <td>0.0</td>\n",
              "      <td>1.0</td>\n",
              "    </tr>\n",
              "  </tbody>\n",
              "</table>\n",
              "</div>\n",
              "      <button class=\"colab-df-convert\" onclick=\"convertToInteractive('df-d11f7b72-5d49-4626-94e8-52c3e7981787')\"\n",
              "              title=\"Convert this dataframe to an interactive table.\"\n",
              "              style=\"display:none;\">\n",
              "        \n",
              "  <svg xmlns=\"http://www.w3.org/2000/svg\" height=\"24px\"viewBox=\"0 0 24 24\"\n",
              "       width=\"24px\">\n",
              "    <path d=\"M0 0h24v24H0V0z\" fill=\"none\"/>\n",
              "    <path d=\"M18.56 5.44l.94 2.06.94-2.06 2.06-.94-2.06-.94-.94-2.06-.94 2.06-2.06.94zm-11 1L8.5 8.5l.94-2.06 2.06-.94-2.06-.94L8.5 2.5l-.94 2.06-2.06.94zm10 10l.94 2.06.94-2.06 2.06-.94-2.06-.94-.94-2.06-.94 2.06-2.06.94z\"/><path d=\"M17.41 7.96l-1.37-1.37c-.4-.4-.92-.59-1.43-.59-.52 0-1.04.2-1.43.59L10.3 9.45l-7.72 7.72c-.78.78-.78 2.05 0 2.83L4 21.41c.39.39.9.59 1.41.59.51 0 1.02-.2 1.41-.59l7.78-7.78 2.81-2.81c.8-.78.8-2.07 0-2.86zM5.41 20L4 18.59l7.72-7.72 1.47 1.35L5.41 20z\"/>\n",
              "  </svg>\n",
              "      </button>\n",
              "      \n",
              "  <style>\n",
              "    .colab-df-container {\n",
              "      display:flex;\n",
              "      flex-wrap:wrap;\n",
              "      gap: 12px;\n",
              "    }\n",
              "\n",
              "    .colab-df-convert {\n",
              "      background-color: #E8F0FE;\n",
              "      border: none;\n",
              "      border-radius: 50%;\n",
              "      cursor: pointer;\n",
              "      display: none;\n",
              "      fill: #1967D2;\n",
              "      height: 32px;\n",
              "      padding: 0 0 0 0;\n",
              "      width: 32px;\n",
              "    }\n",
              "\n",
              "    .colab-df-convert:hover {\n",
              "      background-color: #E2EBFA;\n",
              "      box-shadow: 0px 1px 2px rgba(60, 64, 67, 0.3), 0px 1px 3px 1px rgba(60, 64, 67, 0.15);\n",
              "      fill: #174EA6;\n",
              "    }\n",
              "\n",
              "    [theme=dark] .colab-df-convert {\n",
              "      background-color: #3B4455;\n",
              "      fill: #D2E3FC;\n",
              "    }\n",
              "\n",
              "    [theme=dark] .colab-df-convert:hover {\n",
              "      background-color: #434B5C;\n",
              "      box-shadow: 0px 1px 3px 1px rgba(0, 0, 0, 0.15);\n",
              "      filter: drop-shadow(0px 1px 2px rgba(0, 0, 0, 0.3));\n",
              "      fill: #FFFFFF;\n",
              "    }\n",
              "  </style>\n",
              "\n",
              "      <script>\n",
              "        const buttonEl =\n",
              "          document.querySelector('#df-d11f7b72-5d49-4626-94e8-52c3e7981787 button.colab-df-convert');\n",
              "        buttonEl.style.display =\n",
              "          google.colab.kernel.accessAllowed ? 'block' : 'none';\n",
              "\n",
              "        async function convertToInteractive(key) {\n",
              "          const element = document.querySelector('#df-d11f7b72-5d49-4626-94e8-52c3e7981787');\n",
              "          const dataTable =\n",
              "            await google.colab.kernel.invokeFunction('convertToInteractive',\n",
              "                                                     [key], {});\n",
              "          if (!dataTable) return;\n",
              "\n",
              "          const docLinkHtml = 'Like what you see? Visit the ' +\n",
              "            '<a target=\"_blank\" href=https://colab.research.google.com/notebooks/data_table.ipynb>data table notebook</a>'\n",
              "            + ' to learn more about interactive tables.';\n",
              "          element.innerHTML = '';\n",
              "          dataTable['output_type'] = 'display_data';\n",
              "          await google.colab.output.renderOutput(dataTable, element);\n",
              "          const docLink = document.createElement('div');\n",
              "          docLink.innerHTML = docLinkHtml;\n",
              "          element.appendChild(docLink);\n",
              "        }\n",
              "      </script>\n",
              "    </div>\n",
              "  </div>\n",
              "  "
            ]
          },
          "metadata": {},
          "execution_count": 18
        }
      ]
    },
    {
      "cell_type": "code",
      "source": [
        "#Comprobamos que las columnas posean elementos unicos iguales a cuando eran string.\n",
        "df_categ.nunique()"
      ],
      "metadata": {
        "colab": {
          "base_uri": "https://localhost:8080/"
        },
        "id": "9YlEhwqz_M0b",
        "outputId": "bf620fb8-9ecb-465c-ab08-1c871a016a02"
      },
      "execution_count": 19,
      "outputs": [
        {
          "output_type": "execute_result",
          "data": {
            "text/plain": [
              "Department              5\n",
              "Ward_Facility_Code      6\n",
              "doctor_name             9\n",
              "Age                    10\n",
              "gender                  3\n",
              "Type of Admission       3\n",
              "Severity of Illness     3\n",
              "health_conditions       6\n",
              "Insurance               2\n",
              "type_stay               2\n",
              "dtype: int64"
            ]
          },
          "metadata": {},
          "execution_count": 19
        }
      ]
    },
    {
      "cell_type": "markdown",
      "source": [
        "Creamos un data set con las variables numéricas y las categoricas ya numerizadas."
      ],
      "metadata": {
        "id": "YCW6GmJ4n-Z5"
      }
    },
    {
      "cell_type": "code",
      "source": [
        "df_train_test = pd.concat([df_categ.iloc[:,:9], df.select_dtypes(np.number)], axis = 1)"
      ],
      "metadata": {
        "id": "ZptJagW7-J3u"
      },
      "execution_count": 20,
      "outputs": []
    },
    {
      "cell_type": "code",
      "source": [
        "df_train_test.head()"
      ],
      "metadata": {
        "id": "NKxt0I_DMS6u",
        "colab": {
          "base_uri": "https://localhost:8080/",
          "height": 322
        },
        "outputId": "54c44e6a-3dce-4955-d6bb-a8cb26c112e8"
      },
      "execution_count": 21,
      "outputs": [
        {
          "output_type": "execute_result",
          "data": {
            "text/plain": [
              "   Department  Ward_Facility_Code  doctor_name  Age  gender  \\\n",
              "0         2.0                 3.0          8.0  4.0     0.0   \n",
              "1         2.0                 1.0          8.0  3.0     0.0   \n",
              "2         2.0                 1.0          8.0  2.0     0.0   \n",
              "3         2.0                 3.0          4.0  3.0     0.0   \n",
              "4         1.0                 4.0          2.0  7.0     1.0   \n",
              "\n",
              "   Type of Admission  Severity of Illness  health_conditions  Insurance  \\\n",
              "0                1.0                  0.0                1.0        1.0   \n",
              "1                1.0                  1.0                2.0        0.0   \n",
              "2                1.0                  0.0                1.0        1.0   \n",
              "3                2.0                  2.0                4.0        0.0   \n",
              "4                1.0                  2.0                1.0        0.0   \n",
              "\n",
              "   Available Extra Rooms in Hospital  staff_available  patientid  \\\n",
              "0                                  4                0      33070   \n",
              "1                                  4                2      34808   \n",
              "2                                  2                8      44577   \n",
              "3                                  4                7       3695   \n",
              "4                                  2               10     108956   \n",
              "\n",
              "   Visitors with Patient  Admission_Deposit  Stay (in days)  type_stay  \n",
              "0                      4        2966.408696               8          0  \n",
              "1                      2        3554.835677               9          1  \n",
              "2                      2        5624.733654               7          0  \n",
              "3                      4        4814.149231               8          0  \n",
              "4                      2        5169.269637              34          1  "
            ],
            "text/html": [
              "\n",
              "  <div id=\"df-4dc83b71-bc4d-4552-8f4d-9ad84bf69d32\">\n",
              "    <div class=\"colab-df-container\">\n",
              "      <div>\n",
              "<style scoped>\n",
              "    .dataframe tbody tr th:only-of-type {\n",
              "        vertical-align: middle;\n",
              "    }\n",
              "\n",
              "    .dataframe tbody tr th {\n",
              "        vertical-align: top;\n",
              "    }\n",
              "\n",
              "    .dataframe thead th {\n",
              "        text-align: right;\n",
              "    }\n",
              "</style>\n",
              "<table border=\"1\" class=\"dataframe\">\n",
              "  <thead>\n",
              "    <tr style=\"text-align: right;\">\n",
              "      <th></th>\n",
              "      <th>Department</th>\n",
              "      <th>Ward_Facility_Code</th>\n",
              "      <th>doctor_name</th>\n",
              "      <th>Age</th>\n",
              "      <th>gender</th>\n",
              "      <th>Type of Admission</th>\n",
              "      <th>Severity of Illness</th>\n",
              "      <th>health_conditions</th>\n",
              "      <th>Insurance</th>\n",
              "      <th>Available Extra Rooms in Hospital</th>\n",
              "      <th>staff_available</th>\n",
              "      <th>patientid</th>\n",
              "      <th>Visitors with Patient</th>\n",
              "      <th>Admission_Deposit</th>\n",
              "      <th>Stay (in days)</th>\n",
              "      <th>type_stay</th>\n",
              "    </tr>\n",
              "  </thead>\n",
              "  <tbody>\n",
              "    <tr>\n",
              "      <th>0</th>\n",
              "      <td>2.0</td>\n",
              "      <td>3.0</td>\n",
              "      <td>8.0</td>\n",
              "      <td>4.0</td>\n",
              "      <td>0.0</td>\n",
              "      <td>1.0</td>\n",
              "      <td>0.0</td>\n",
              "      <td>1.0</td>\n",
              "      <td>1.0</td>\n",
              "      <td>4</td>\n",
              "      <td>0</td>\n",
              "      <td>33070</td>\n",
              "      <td>4</td>\n",
              "      <td>2966.408696</td>\n",
              "      <td>8</td>\n",
              "      <td>0</td>\n",
              "    </tr>\n",
              "    <tr>\n",
              "      <th>1</th>\n",
              "      <td>2.0</td>\n",
              "      <td>1.0</td>\n",
              "      <td>8.0</td>\n",
              "      <td>3.0</td>\n",
              "      <td>0.0</td>\n",
              "      <td>1.0</td>\n",
              "      <td>1.0</td>\n",
              "      <td>2.0</td>\n",
              "      <td>0.0</td>\n",
              "      <td>4</td>\n",
              "      <td>2</td>\n",
              "      <td>34808</td>\n",
              "      <td>2</td>\n",
              "      <td>3554.835677</td>\n",
              "      <td>9</td>\n",
              "      <td>1</td>\n",
              "    </tr>\n",
              "    <tr>\n",
              "      <th>2</th>\n",
              "      <td>2.0</td>\n",
              "      <td>1.0</td>\n",
              "      <td>8.0</td>\n",
              "      <td>2.0</td>\n",
              "      <td>0.0</td>\n",
              "      <td>1.0</td>\n",
              "      <td>0.0</td>\n",
              "      <td>1.0</td>\n",
              "      <td>1.0</td>\n",
              "      <td>2</td>\n",
              "      <td>8</td>\n",
              "      <td>44577</td>\n",
              "      <td>2</td>\n",
              "      <td>5624.733654</td>\n",
              "      <td>7</td>\n",
              "      <td>0</td>\n",
              "    </tr>\n",
              "    <tr>\n",
              "      <th>3</th>\n",
              "      <td>2.0</td>\n",
              "      <td>3.0</td>\n",
              "      <td>4.0</td>\n",
              "      <td>3.0</td>\n",
              "      <td>0.0</td>\n",
              "      <td>2.0</td>\n",
              "      <td>2.0</td>\n",
              "      <td>4.0</td>\n",
              "      <td>0.0</td>\n",
              "      <td>4</td>\n",
              "      <td>7</td>\n",
              "      <td>3695</td>\n",
              "      <td>4</td>\n",
              "      <td>4814.149231</td>\n",
              "      <td>8</td>\n",
              "      <td>0</td>\n",
              "    </tr>\n",
              "    <tr>\n",
              "      <th>4</th>\n",
              "      <td>1.0</td>\n",
              "      <td>4.0</td>\n",
              "      <td>2.0</td>\n",
              "      <td>7.0</td>\n",
              "      <td>1.0</td>\n",
              "      <td>1.0</td>\n",
              "      <td>2.0</td>\n",
              "      <td>1.0</td>\n",
              "      <td>0.0</td>\n",
              "      <td>2</td>\n",
              "      <td>10</td>\n",
              "      <td>108956</td>\n",
              "      <td>2</td>\n",
              "      <td>5169.269637</td>\n",
              "      <td>34</td>\n",
              "      <td>1</td>\n",
              "    </tr>\n",
              "  </tbody>\n",
              "</table>\n",
              "</div>\n",
              "      <button class=\"colab-df-convert\" onclick=\"convertToInteractive('df-4dc83b71-bc4d-4552-8f4d-9ad84bf69d32')\"\n",
              "              title=\"Convert this dataframe to an interactive table.\"\n",
              "              style=\"display:none;\">\n",
              "        \n",
              "  <svg xmlns=\"http://www.w3.org/2000/svg\" height=\"24px\"viewBox=\"0 0 24 24\"\n",
              "       width=\"24px\">\n",
              "    <path d=\"M0 0h24v24H0V0z\" fill=\"none\"/>\n",
              "    <path d=\"M18.56 5.44l.94 2.06.94-2.06 2.06-.94-2.06-.94-.94-2.06-.94 2.06-2.06.94zm-11 1L8.5 8.5l.94-2.06 2.06-.94-2.06-.94L8.5 2.5l-.94 2.06-2.06.94zm10 10l.94 2.06.94-2.06 2.06-.94-2.06-.94-.94-2.06-.94 2.06-2.06.94z\"/><path d=\"M17.41 7.96l-1.37-1.37c-.4-.4-.92-.59-1.43-.59-.52 0-1.04.2-1.43.59L10.3 9.45l-7.72 7.72c-.78.78-.78 2.05 0 2.83L4 21.41c.39.39.9.59 1.41.59.51 0 1.02-.2 1.41-.59l7.78-7.78 2.81-2.81c.8-.78.8-2.07 0-2.86zM5.41 20L4 18.59l7.72-7.72 1.47 1.35L5.41 20z\"/>\n",
              "  </svg>\n",
              "      </button>\n",
              "      \n",
              "  <style>\n",
              "    .colab-df-container {\n",
              "      display:flex;\n",
              "      flex-wrap:wrap;\n",
              "      gap: 12px;\n",
              "    }\n",
              "\n",
              "    .colab-df-convert {\n",
              "      background-color: #E8F0FE;\n",
              "      border: none;\n",
              "      border-radius: 50%;\n",
              "      cursor: pointer;\n",
              "      display: none;\n",
              "      fill: #1967D2;\n",
              "      height: 32px;\n",
              "      padding: 0 0 0 0;\n",
              "      width: 32px;\n",
              "    }\n",
              "\n",
              "    .colab-df-convert:hover {\n",
              "      background-color: #E2EBFA;\n",
              "      box-shadow: 0px 1px 2px rgba(60, 64, 67, 0.3), 0px 1px 3px 1px rgba(60, 64, 67, 0.15);\n",
              "      fill: #174EA6;\n",
              "    }\n",
              "\n",
              "    [theme=dark] .colab-df-convert {\n",
              "      background-color: #3B4455;\n",
              "      fill: #D2E3FC;\n",
              "    }\n",
              "\n",
              "    [theme=dark] .colab-df-convert:hover {\n",
              "      background-color: #434B5C;\n",
              "      box-shadow: 0px 1px 3px 1px rgba(0, 0, 0, 0.15);\n",
              "      filter: drop-shadow(0px 1px 2px rgba(0, 0, 0, 0.3));\n",
              "      fill: #FFFFFF;\n",
              "    }\n",
              "  </style>\n",
              "\n",
              "      <script>\n",
              "        const buttonEl =\n",
              "          document.querySelector('#df-4dc83b71-bc4d-4552-8f4d-9ad84bf69d32 button.colab-df-convert');\n",
              "        buttonEl.style.display =\n",
              "          google.colab.kernel.accessAllowed ? 'block' : 'none';\n",
              "\n",
              "        async function convertToInteractive(key) {\n",
              "          const element = document.querySelector('#df-4dc83b71-bc4d-4552-8f4d-9ad84bf69d32');\n",
              "          const dataTable =\n",
              "            await google.colab.kernel.invokeFunction('convertToInteractive',\n",
              "                                                     [key], {});\n",
              "          if (!dataTable) return;\n",
              "\n",
              "          const docLinkHtml = 'Like what you see? Visit the ' +\n",
              "            '<a target=\"_blank\" href=https://colab.research.google.com/notebooks/data_table.ipynb>data table notebook</a>'\n",
              "            + ' to learn more about interactive tables.';\n",
              "          element.innerHTML = '';\n",
              "          dataTable['output_type'] = 'display_data';\n",
              "          await google.colab.output.renderOutput(dataTable, element);\n",
              "          const docLink = document.createElement('div');\n",
              "          docLink.innerHTML = docLinkHtml;\n",
              "          element.appendChild(docLink);\n",
              "        }\n",
              "      </script>\n",
              "    </div>\n",
              "  </div>\n",
              "  "
            ]
          },
          "metadata": {},
          "execution_count": 21
        }
      ]
    },
    {
      "cell_type": "markdown",
      "source": [
        "# APLICACION DE MODELOS"
      ],
      "metadata": {
        "id": "mo1rcfzD0nHZ"
      }
    },
    {
      "cell_type": "markdown",
      "source": [
        "#Modelo de regresión logística con todas las features."
      ],
      "metadata": {
        "id": "CSEWkrBSZsv3"
      }
    },
    {
      "cell_type": "code",
      "source": [
        "#Voy a probar regresión logística con todas las features a excepción de patientid y Stay(in days)\n",
        "df_regre_1 = df_train_test\n",
        "df_regre_1.drop([\"patientid\",\"Admission_Deposit\",\"Stay (in days)\"], axis = 1, inplace = True)"
      ],
      "metadata": {
        "id": "Z-K1DA2kZsN6"
      },
      "execution_count": 22,
      "outputs": []
    },
    {
      "cell_type": "code",
      "source": [
        "X = df_regre_1.iloc[:,:12]\n",
        "y = df_regre_1.iloc[:,-1]"
      ],
      "metadata": {
        "id": "tyL3KPhmbVXl"
      },
      "execution_count": 23,
      "outputs": []
    },
    {
      "cell_type": "code",
      "source": [
        "X_train, X_test, y_train, y_test = train_test_split(X,y, test_size = 0.3, random_state = 123)\n",
        "# Estandarizo los datos para que la regularización sea correcta\n",
        "scaler = StandardScaler()\n",
        "X_train_std = pd.DataFrame(scaler.fit_transform(X_train), columns=X_train.columns)\n",
        "X_test_std = scaler.transform(X_test)"
      ],
      "metadata": {
        "id": "-RVjrU1AaTzj"
      },
      "execution_count": 24,
      "outputs": []
    },
    {
      "cell_type": "code",
      "source": [
        "pd.DataFrame(y_test).value_counts(normalize=True)"
      ],
      "metadata": {
        "colab": {
          "base_uri": "https://localhost:8080/"
        },
        "id": "3CvxXjuUck98",
        "outputId": "223708d7-a128-4a44-86c5-c0fb3b7080c8"
      },
      "execution_count": 25,
      "outputs": [
        {
          "output_type": "execute_result",
          "data": {
            "text/plain": [
              "type_stay\n",
              "1            0.62278\n",
              "0            0.37722\n",
              "dtype: float64"
            ]
          },
          "metadata": {},
          "execution_count": 25
        }
      ]
    },
    {
      "cell_type": "code",
      "source": [
        "pd.DataFrame(y_train).value_counts(normalize=True)"
      ],
      "metadata": {
        "colab": {
          "base_uri": "https://localhost:8080/"
        },
        "id": "q3ouldyPZsHs",
        "outputId": "cb4196db-e39b-4704-981f-c67ca407e906"
      },
      "execution_count": 26,
      "outputs": [
        {
          "output_type": "execute_result",
          "data": {
            "text/plain": [
              "type_stay\n",
              "1            0.623045\n",
              "0            0.376955\n",
              "dtype: float64"
            ]
          },
          "metadata": {},
          "execution_count": 26
        }
      ]
    },
    {
      "cell_type": "code",
      "source": [
        "# Aplico un .describe() a ambos para ver los resultados de la estandarizacion de variables\n",
        "X_train.describe().T"
      ],
      "metadata": {
        "colab": {
          "base_uri": "https://localhost:8080/",
          "height": 425
        },
        "id": "pC7-RcrrZsBA",
        "outputId": "8693634c-2e40-49c9-93ba-02cd5a4482a0"
      },
      "execution_count": 27,
      "outputs": [
        {
          "output_type": "execute_result",
          "data": {
            "text/plain": [
              "                                      count      mean       std  min  25%  \\\n",
              "Department                         287000.0  2.008958  0.692957  0.0  2.0   \n",
              "Ward_Facility_Code                 287000.0  2.947052  1.690068  0.0  1.0   \n",
              "doctor_name                        287000.0  4.422192  2.070179  0.0  3.0   \n",
              "Age                                287000.0  3.125979  1.628524  0.0  2.0   \n",
              "gender                             287000.0  0.313254  0.549715  0.0  0.0   \n",
              "Type of Admission                  287000.0  0.835923  0.592732  0.0  0.0   \n",
              "Severity of Illness                287000.0  1.389213  0.765288  0.0  1.0   \n",
              "health_conditions                  287000.0  3.011237  1.681518  0.0  1.0   \n",
              "Insurance                          287000.0  0.830516  0.375180  0.0  1.0   \n",
              "Available Extra Rooms in Hospital  287000.0  3.643073  2.709457  0.0  2.0   \n",
              "staff_available                    287000.0  5.020983  3.158618  0.0  2.0   \n",
              "Visitors with Patient              287000.0  3.551418  2.251395  0.0  2.0   \n",
              "\n",
              "                                   50%  75%   max  \n",
              "Department                         2.0  2.0   4.0  \n",
              "Ward_Facility_Code                 3.0  4.0   5.0  \n",
              "doctor_name                        4.0  6.0   8.0  \n",
              "Age                                3.0  4.0   9.0  \n",
              "gender                             0.0  1.0   2.0  \n",
              "Type of Admission                  1.0  1.0   2.0  \n",
              "Severity of Illness                2.0  2.0   2.0  \n",
              "health_conditions                  4.0  4.0   5.0  \n",
              "Insurance                          1.0  1.0   1.0  \n",
              "Available Extra Rooms in Hospital  3.0  4.0  24.0  \n",
              "staff_available                    5.0  8.0  10.0  \n",
              "Visitors with Patient              3.0  4.0  32.0  "
            ],
            "text/html": [
              "\n",
              "  <div id=\"df-77c6fdf0-f274-4147-88b7-c66407eb34c9\">\n",
              "    <div class=\"colab-df-container\">\n",
              "      <div>\n",
              "<style scoped>\n",
              "    .dataframe tbody tr th:only-of-type {\n",
              "        vertical-align: middle;\n",
              "    }\n",
              "\n",
              "    .dataframe tbody tr th {\n",
              "        vertical-align: top;\n",
              "    }\n",
              "\n",
              "    .dataframe thead th {\n",
              "        text-align: right;\n",
              "    }\n",
              "</style>\n",
              "<table border=\"1\" class=\"dataframe\">\n",
              "  <thead>\n",
              "    <tr style=\"text-align: right;\">\n",
              "      <th></th>\n",
              "      <th>count</th>\n",
              "      <th>mean</th>\n",
              "      <th>std</th>\n",
              "      <th>min</th>\n",
              "      <th>25%</th>\n",
              "      <th>50%</th>\n",
              "      <th>75%</th>\n",
              "      <th>max</th>\n",
              "    </tr>\n",
              "  </thead>\n",
              "  <tbody>\n",
              "    <tr>\n",
              "      <th>Department</th>\n",
              "      <td>287000.0</td>\n",
              "      <td>2.008958</td>\n",
              "      <td>0.692957</td>\n",
              "      <td>0.0</td>\n",
              "      <td>2.0</td>\n",
              "      <td>2.0</td>\n",
              "      <td>2.0</td>\n",
              "      <td>4.0</td>\n",
              "    </tr>\n",
              "    <tr>\n",
              "      <th>Ward_Facility_Code</th>\n",
              "      <td>287000.0</td>\n",
              "      <td>2.947052</td>\n",
              "      <td>1.690068</td>\n",
              "      <td>0.0</td>\n",
              "      <td>1.0</td>\n",
              "      <td>3.0</td>\n",
              "      <td>4.0</td>\n",
              "      <td>5.0</td>\n",
              "    </tr>\n",
              "    <tr>\n",
              "      <th>doctor_name</th>\n",
              "      <td>287000.0</td>\n",
              "      <td>4.422192</td>\n",
              "      <td>2.070179</td>\n",
              "      <td>0.0</td>\n",
              "      <td>3.0</td>\n",
              "      <td>4.0</td>\n",
              "      <td>6.0</td>\n",
              "      <td>8.0</td>\n",
              "    </tr>\n",
              "    <tr>\n",
              "      <th>Age</th>\n",
              "      <td>287000.0</td>\n",
              "      <td>3.125979</td>\n",
              "      <td>1.628524</td>\n",
              "      <td>0.0</td>\n",
              "      <td>2.0</td>\n",
              "      <td>3.0</td>\n",
              "      <td>4.0</td>\n",
              "      <td>9.0</td>\n",
              "    </tr>\n",
              "    <tr>\n",
              "      <th>gender</th>\n",
              "      <td>287000.0</td>\n",
              "      <td>0.313254</td>\n",
              "      <td>0.549715</td>\n",
              "      <td>0.0</td>\n",
              "      <td>0.0</td>\n",
              "      <td>0.0</td>\n",
              "      <td>1.0</td>\n",
              "      <td>2.0</td>\n",
              "    </tr>\n",
              "    <tr>\n",
              "      <th>Type of Admission</th>\n",
              "      <td>287000.0</td>\n",
              "      <td>0.835923</td>\n",
              "      <td>0.592732</td>\n",
              "      <td>0.0</td>\n",
              "      <td>0.0</td>\n",
              "      <td>1.0</td>\n",
              "      <td>1.0</td>\n",
              "      <td>2.0</td>\n",
              "    </tr>\n",
              "    <tr>\n",
              "      <th>Severity of Illness</th>\n",
              "      <td>287000.0</td>\n",
              "      <td>1.389213</td>\n",
              "      <td>0.765288</td>\n",
              "      <td>0.0</td>\n",
              "      <td>1.0</td>\n",
              "      <td>2.0</td>\n",
              "      <td>2.0</td>\n",
              "      <td>2.0</td>\n",
              "    </tr>\n",
              "    <tr>\n",
              "      <th>health_conditions</th>\n",
              "      <td>287000.0</td>\n",
              "      <td>3.011237</td>\n",
              "      <td>1.681518</td>\n",
              "      <td>0.0</td>\n",
              "      <td>1.0</td>\n",
              "      <td>4.0</td>\n",
              "      <td>4.0</td>\n",
              "      <td>5.0</td>\n",
              "    </tr>\n",
              "    <tr>\n",
              "      <th>Insurance</th>\n",
              "      <td>287000.0</td>\n",
              "      <td>0.830516</td>\n",
              "      <td>0.375180</td>\n",
              "      <td>0.0</td>\n",
              "      <td>1.0</td>\n",
              "      <td>1.0</td>\n",
              "      <td>1.0</td>\n",
              "      <td>1.0</td>\n",
              "    </tr>\n",
              "    <tr>\n",
              "      <th>Available Extra Rooms in Hospital</th>\n",
              "      <td>287000.0</td>\n",
              "      <td>3.643073</td>\n",
              "      <td>2.709457</td>\n",
              "      <td>0.0</td>\n",
              "      <td>2.0</td>\n",
              "      <td>3.0</td>\n",
              "      <td>4.0</td>\n",
              "      <td>24.0</td>\n",
              "    </tr>\n",
              "    <tr>\n",
              "      <th>staff_available</th>\n",
              "      <td>287000.0</td>\n",
              "      <td>5.020983</td>\n",
              "      <td>3.158618</td>\n",
              "      <td>0.0</td>\n",
              "      <td>2.0</td>\n",
              "      <td>5.0</td>\n",
              "      <td>8.0</td>\n",
              "      <td>10.0</td>\n",
              "    </tr>\n",
              "    <tr>\n",
              "      <th>Visitors with Patient</th>\n",
              "      <td>287000.0</td>\n",
              "      <td>3.551418</td>\n",
              "      <td>2.251395</td>\n",
              "      <td>0.0</td>\n",
              "      <td>2.0</td>\n",
              "      <td>3.0</td>\n",
              "      <td>4.0</td>\n",
              "      <td>32.0</td>\n",
              "    </tr>\n",
              "  </tbody>\n",
              "</table>\n",
              "</div>\n",
              "      <button class=\"colab-df-convert\" onclick=\"convertToInteractive('df-77c6fdf0-f274-4147-88b7-c66407eb34c9')\"\n",
              "              title=\"Convert this dataframe to an interactive table.\"\n",
              "              style=\"display:none;\">\n",
              "        \n",
              "  <svg xmlns=\"http://www.w3.org/2000/svg\" height=\"24px\"viewBox=\"0 0 24 24\"\n",
              "       width=\"24px\">\n",
              "    <path d=\"M0 0h24v24H0V0z\" fill=\"none\"/>\n",
              "    <path d=\"M18.56 5.44l.94 2.06.94-2.06 2.06-.94-2.06-.94-.94-2.06-.94 2.06-2.06.94zm-11 1L8.5 8.5l.94-2.06 2.06-.94-2.06-.94L8.5 2.5l-.94 2.06-2.06.94zm10 10l.94 2.06.94-2.06 2.06-.94-2.06-.94-.94-2.06-.94 2.06-2.06.94z\"/><path d=\"M17.41 7.96l-1.37-1.37c-.4-.4-.92-.59-1.43-.59-.52 0-1.04.2-1.43.59L10.3 9.45l-7.72 7.72c-.78.78-.78 2.05 0 2.83L4 21.41c.39.39.9.59 1.41.59.51 0 1.02-.2 1.41-.59l7.78-7.78 2.81-2.81c.8-.78.8-2.07 0-2.86zM5.41 20L4 18.59l7.72-7.72 1.47 1.35L5.41 20z\"/>\n",
              "  </svg>\n",
              "      </button>\n",
              "      \n",
              "  <style>\n",
              "    .colab-df-container {\n",
              "      display:flex;\n",
              "      flex-wrap:wrap;\n",
              "      gap: 12px;\n",
              "    }\n",
              "\n",
              "    .colab-df-convert {\n",
              "      background-color: #E8F0FE;\n",
              "      border: none;\n",
              "      border-radius: 50%;\n",
              "      cursor: pointer;\n",
              "      display: none;\n",
              "      fill: #1967D2;\n",
              "      height: 32px;\n",
              "      padding: 0 0 0 0;\n",
              "      width: 32px;\n",
              "    }\n",
              "\n",
              "    .colab-df-convert:hover {\n",
              "      background-color: #E2EBFA;\n",
              "      box-shadow: 0px 1px 2px rgba(60, 64, 67, 0.3), 0px 1px 3px 1px rgba(60, 64, 67, 0.15);\n",
              "      fill: #174EA6;\n",
              "    }\n",
              "\n",
              "    [theme=dark] .colab-df-convert {\n",
              "      background-color: #3B4455;\n",
              "      fill: #D2E3FC;\n",
              "    }\n",
              "\n",
              "    [theme=dark] .colab-df-convert:hover {\n",
              "      background-color: #434B5C;\n",
              "      box-shadow: 0px 1px 3px 1px rgba(0, 0, 0, 0.15);\n",
              "      filter: drop-shadow(0px 1px 2px rgba(0, 0, 0, 0.3));\n",
              "      fill: #FFFFFF;\n",
              "    }\n",
              "  </style>\n",
              "\n",
              "      <script>\n",
              "        const buttonEl =\n",
              "          document.querySelector('#df-77c6fdf0-f274-4147-88b7-c66407eb34c9 button.colab-df-convert');\n",
              "        buttonEl.style.display =\n",
              "          google.colab.kernel.accessAllowed ? 'block' : 'none';\n",
              "\n",
              "        async function convertToInteractive(key) {\n",
              "          const element = document.querySelector('#df-77c6fdf0-f274-4147-88b7-c66407eb34c9');\n",
              "          const dataTable =\n",
              "            await google.colab.kernel.invokeFunction('convertToInteractive',\n",
              "                                                     [key], {});\n",
              "          if (!dataTable) return;\n",
              "\n",
              "          const docLinkHtml = 'Like what you see? Visit the ' +\n",
              "            '<a target=\"_blank\" href=https://colab.research.google.com/notebooks/data_table.ipynb>data table notebook</a>'\n",
              "            + ' to learn more about interactive tables.';\n",
              "          element.innerHTML = '';\n",
              "          dataTable['output_type'] = 'display_data';\n",
              "          await google.colab.output.renderOutput(dataTable, element);\n",
              "          const docLink = document.createElement('div');\n",
              "          docLink.innerHTML = docLinkHtml;\n",
              "          element.appendChild(docLink);\n",
              "        }\n",
              "      </script>\n",
              "    </div>\n",
              "  </div>\n",
              "  "
            ]
          },
          "metadata": {},
          "execution_count": 27
        }
      ]
    },
    {
      "cell_type": "code",
      "source": [
        "#Instancio el modelo de Regresion logistica y lo entreno. Almaceno las predicciones\n",
        "lr = LogisticRegression(penalty='l2', \n",
        "                        class_weight='balanced'\n",
        "                       )\n",
        "lr.fit(X_train_std, y_train)\n",
        "\n",
        "y_train_pred = lr.predict(X_train_std)"
      ],
      "metadata": {
        "id": "Nen2wjZMc_-S"
      },
      "execution_count": 28,
      "outputs": []
    },
    {
      "cell_type": "code",
      "source": [
        "# Imprimo resumen de metricas y la matriz de confusion\n",
        "\n",
        "model_name = 'Reg. Logistica'\n",
        "\n",
        "sns.heatmap(confusion_matrix(y_train, y_train_pred), annot=True, cmap='PuBu', fmt='0.0f', linewidths=0.25, \n",
        "           annot_kws={'size':13} )\n",
        "plt.xlabel('Predichos')\n",
        "plt.ylabel('Reales')\n",
        "\n",
        "print('Accuracy del modelo de ' + model_name + ' :   ', accuracy_score(y_train, y_train_pred).round(3))\n",
        "print('Recall del modelo de ' + model_name + ' :     ', recall_score(y_train, y_train_pred).round(3))\n",
        "\n",
        "print('Rporte del modelo de ' + model_name + ' :   \\n', classification_report(y_train, y_train_pred))"
      ],
      "metadata": {
        "colab": {
          "base_uri": "https://localhost:8080/",
          "height": 498
        },
        "id": "8HcrvCQQdAp6",
        "outputId": "ab2b4ec8-880b-4669-9723-ce7f7f61f392"
      },
      "execution_count": 29,
      "outputs": [
        {
          "output_type": "stream",
          "name": "stdout",
          "text": [
            "Accuracy del modelo de Reg. Logistica :    0.602\n",
            "Recall del modelo de Reg. Logistica :      0.499\n",
            "Rporte del modelo de Reg. Logistica :   \n",
            "               precision    recall  f1-score   support\n",
            "\n",
            "           0       0.48      0.77      0.59    108186\n",
            "           1       0.78      0.50      0.61    178814\n",
            "\n",
            "    accuracy                           0.60    287000\n",
            "   macro avg       0.63      0.64      0.60    287000\n",
            "weighted avg       0.67      0.60      0.60    287000\n",
            "\n"
          ]
        },
        {
          "output_type": "display_data",
          "data": {
            "text/plain": [
              "<Figure size 432x288 with 2 Axes>"
            ],
            "image/png": "[encoded data removed]"
          },
          "metadata": {
            "needs_background": "light"
          }
        }
      ]
    },
    {
      "cell_type": "markdown",
      "source": [
        "Observamos que tenemos un accuracy de 0.50 y un recall de 0.60, procedo a eliminar más variable para ver si es posible mejorar el modelo.\n"
      ],
      "metadata": {
        "id": "JT5ti7YCdLHp"
      }
    },
    {
      "cell_type": "markdown",
      "source": [
        "# Regresión Logística n° 2"
      ],
      "metadata": {
        "id": "pl4g6fIsmtnU"
      }
    },
    {
      "cell_type": "markdown",
      "source": [
        "La elección de las siguientes features responden a la distribución que logré observar en el EDA y el análisis de las variables categóricas anterior sumado a recomendación de un experto enfermero. Las demás han sido descartadas por mero uso de la lógica, como por ejemplo, el id por paciente, visitantes, monto de capital aportado,entre otras. Las demás han sido excluidas por no encontrar correlación suficiente. Es un caso particular el del Dr. Mark, pues parece haber indicios de que todos su pacientes se encuentran internados por más de 8 días, lamentablemente este comportamiento no se repite con sus colegas por lo que decidí desechar la columna, es posible usarla en caso de que hubiera aplicado un modelo donde se usen dummys, pero no he logrado alcanzar con el tiempo para experimentarlo.\n"
      ],
      "metadata": {
        "id": "YUiy-5r7m5hk"
      }
    },
    {
      "cell_type": "code",
      "source": [
        "df_regre_2 = df_train_test[[\"Age\",\"gender\", 'Severity of Illness','Available Extra Rooms in Hospital','Department','type_stay']]"
      ],
      "metadata": {
        "id": "P5LO7N62dKkv"
      },
      "execution_count": 30,
      "outputs": []
    },
    {
      "cell_type": "code",
      "source": [
        "df_regre_2.head()"
      ],
      "metadata": {
        "colab": {
          "base_uri": "https://localhost:8080/",
          "height": 206
        },
        "id": "H3ENgk6Djp_r",
        "outputId": "ed12f0a4-b3de-44ef-f6fd-3272cbbe7d55"
      },
      "execution_count": 31,
      "outputs": [
        {
          "output_type": "execute_result",
          "data": {
            "text/plain": [
              "   Age  gender  Severity of Illness  Available Extra Rooms in Hospital  \\\n",
              "0  4.0     0.0                  0.0                                  4   \n",
              "1  3.0     0.0                  1.0                                  4   \n",
              "2  2.0     0.0                  0.0                                  2   \n",
              "3  3.0     0.0                  2.0                                  4   \n",
              "4  7.0     1.0                  2.0                                  2   \n",
              "\n",
              "   Department  type_stay  \n",
              "0         2.0          0  \n",
              "1         2.0          1  \n",
              "2         2.0          0  \n",
              "3         2.0          0  \n",
              "4         1.0          1  "
            ],
            "text/html": [
              "\n",
              "  <div id=\"df-ffad95d2-94d7-4fd0-8515-4c409cf8ca76\">\n",
              "    <div class=\"colab-df-container\">\n",
              "      <div>\n",
              "<style scoped>\n",
              "    .dataframe tbody tr th:only-of-type {\n",
              "        vertical-align: middle;\n",
              "    }\n",
              "\n",
              "    .dataframe tbody tr th {\n",
              "        vertical-align: top;\n",
              "    }\n",
              "\n",
              "    .dataframe thead th {\n",
              "        text-align: right;\n",
              "    }\n",
              "</style>\n",
              "<table border=\"1\" class=\"dataframe\">\n",
              "  <thead>\n",
              "    <tr style=\"text-align: right;\">\n",
              "      <th></th>\n",
              "      <th>Age</th>\n",
              "      <th>gender</th>\n",
              "      <th>Severity of Illness</th>\n",
              "      <th>Available Extra Rooms in Hospital</th>\n",
              "      <th>Department</th>\n",
              "      <th>type_stay</th>\n",
              "    </tr>\n",
              "  </thead>\n",
              "  <tbody>\n",
              "    <tr>\n",
              "      <th>0</th>\n",
              "      <td>4.0</td>\n",
              "      <td>0.0</td>\n",
              "      <td>0.0</td>\n",
              "      <td>4</td>\n",
              "      <td>2.0</td>\n",
              "      <td>0</td>\n",
              "    </tr>\n",
              "    <tr>\n",
              "      <th>1</th>\n",
              "      <td>3.0</td>\n",
              "      <td>0.0</td>\n",
              "      <td>1.0</td>\n",
              "      <td>4</td>\n",
              "      <td>2.0</td>\n",
              "      <td>1</td>\n",
              "    </tr>\n",
              "    <tr>\n",
              "      <th>2</th>\n",
              "      <td>2.0</td>\n",
              "      <td>0.0</td>\n",
              "      <td>0.0</td>\n",
              "      <td>2</td>\n",
              "      <td>2.0</td>\n",
              "      <td>0</td>\n",
              "    </tr>\n",
              "    <tr>\n",
              "      <th>3</th>\n",
              "      <td>3.0</td>\n",
              "      <td>0.0</td>\n",
              "      <td>2.0</td>\n",
              "      <td>4</td>\n",
              "      <td>2.0</td>\n",
              "      <td>0</td>\n",
              "    </tr>\n",
              "    <tr>\n",
              "      <th>4</th>\n",
              "      <td>7.0</td>\n",
              "      <td>1.0</td>\n",
              "      <td>2.0</td>\n",
              "      <td>2</td>\n",
              "      <td>1.0</td>\n",
              "      <td>1</td>\n",
              "    </tr>\n",
              "  </tbody>\n",
              "</table>\n",
              "</div>\n",
              "      <button class=\"colab-df-convert\" onclick=\"convertToInteractive('df-ffad95d2-94d7-4fd0-8515-4c409cf8ca76')\"\n",
              "              title=\"Convert this dataframe to an interactive table.\"\n",
              "              style=\"display:none;\">\n",
              "        \n",
              "  <svg xmlns=\"http://www.w3.org/2000/svg\" height=\"24px\"viewBox=\"0 0 24 24\"\n",
              "       width=\"24px\">\n",
              "    <path d=\"M0 0h24v24H0V0z\" fill=\"none\"/>\n",
              "    <path d=\"M18.56 5.44l.94 2.06.94-2.06 2.06-.94-2.06-.94-.94-2.06-.94 2.06-2.06.94zm-11 1L8.5 8.5l.94-2.06 2.06-.94-2.06-.94L8.5 2.5l-.94 2.06-2.06.94zm10 10l.94 2.06.94-2.06 2.06-.94-2.06-.94-.94-2.06-.94 2.06-2.06.94z\"/><path d=\"M17.41 7.96l-1.37-1.37c-.4-.4-.92-.59-1.43-.59-.52 0-1.04.2-1.43.59L10.3 9.45l-7.72 7.72c-.78.78-.78 2.05 0 2.83L4 21.41c.39.39.9.59 1.41.59.51 0 1.02-.2 1.41-.59l7.78-7.78 2.81-2.81c.8-.78.8-2.07 0-2.86zM5.41 20L4 18.59l7.72-7.72 1.47 1.35L5.41 20z\"/>\n",
              "  </svg>\n",
              "      </button>\n",
              "      \n",
              "  <style>\n",
              "    .colab-df-container {\n",
              "      display:flex;\n",
              "      flex-wrap:wrap;\n",
              "      gap: 12px;\n",
              "    }\n",
              "\n",
              "    .colab-df-convert {\n",
              "      background-color: #E8F0FE;\n",
              "      border: none;\n",
              "      border-radius: 50%;\n",
              "      cursor: pointer;\n",
              "      display: none;\n",
              "      fill: #1967D2;\n",
              "      height: 32px;\n",
              "      padding: 0 0 0 0;\n",
              "      width: 32px;\n",
              "    }\n",
              "\n",
              "    .colab-df-convert:hover {\n",
              "      background-color: #E2EBFA;\n",
              "      box-shadow: 0px 1px 2px rgba(60, 64, 67, 0.3), 0px 1px 3px 1px rgba(60, 64, 67, 0.15);\n",
              "      fill: #174EA6;\n",
              "    }\n",
              "\n",
              "    [theme=dark] .colab-df-convert {\n",
              "      background-color: #3B4455;\n",
              "      fill: #D2E3FC;\n",
              "    }\n",
              "\n",
              "    [theme=dark] .colab-df-convert:hover {\n",
              "      background-color: #434B5C;\n",
              "      box-shadow: 0px 1px 3px 1px rgba(0, 0, 0, 0.15);\n",
              "      filter: drop-shadow(0px 1px 2px rgba(0, 0, 0, 0.3));\n",
              "      fill: #FFFFFF;\n",
              "    }\n",
              "  </style>\n",
              "\n",
              "      <script>\n",
              "        const buttonEl =\n",
              "          document.querySelector('#df-ffad95d2-94d7-4fd0-8515-4c409cf8ca76 button.colab-df-convert');\n",
              "        buttonEl.style.display =\n",
              "          google.colab.kernel.accessAllowed ? 'block' : 'none';\n",
              "\n",
              "        async function convertToInteractive(key) {\n",
              "          const element = document.querySelector('#df-ffad95d2-94d7-4fd0-8515-4c409cf8ca76');\n",
              "          const dataTable =\n",
              "            await google.colab.kernel.invokeFunction('convertToInteractive',\n",
              "                                                     [key], {});\n",
              "          if (!dataTable) return;\n",
              "\n",
              "          const docLinkHtml = 'Like what you see? Visit the ' +\n",
              "            '<a target=\"_blank\" href=https://colab.research.google.com/notebooks/data_table.ipynb>data table notebook</a>'\n",
              "            + ' to learn more about interactive tables.';\n",
              "          element.innerHTML = '';\n",
              "          dataTable['output_type'] = 'display_data';\n",
              "          await google.colab.output.renderOutput(dataTable, element);\n",
              "          const docLink = document.createElement('div');\n",
              "          docLink.innerHTML = docLinkHtml;\n",
              "          element.appendChild(docLink);\n",
              "        }\n",
              "      </script>\n",
              "    </div>\n",
              "  </div>\n",
              "  "
            ]
          },
          "metadata": {},
          "execution_count": 31
        }
      ]
    },
    {
      "cell_type": "markdown",
      "source": [
        "Repetimos el proceso con el dataset más depurado"
      ],
      "metadata": {
        "id": "PLDsPPQauCYv"
      }
    },
    {
      "cell_type": "code",
      "source": [
        "X = df_regre_2.iloc[:,:5]\n",
        "y = df_regre_2.iloc[:,-1]"
      ],
      "metadata": {
        "id": "qT96RKVhjuBb"
      },
      "execution_count": 36,
      "outputs": []
    },
    {
      "cell_type": "code",
      "source": [
        "X.head()"
      ],
      "metadata": {
        "colab": {
          "base_uri": "https://localhost:8080/",
          "height": 206
        },
        "id": "7O1iyLKgk-L3",
        "outputId": "b16c5f1b-2f0b-4a86-beec-b93f74c5b0de"
      },
      "execution_count": 37,
      "outputs": [
        {
          "output_type": "execute_result",
          "data": {
            "text/plain": [
              "   Age  gender  Severity of Illness  Available Extra Rooms in Hospital  \\\n",
              "0  4.0     0.0                  0.0                                  4   \n",
              "1  3.0     0.0                  1.0                                  4   \n",
              "2  2.0     0.0                  0.0                                  2   \n",
              "3  3.0     0.0                  2.0                                  4   \n",
              "4  7.0     1.0                  2.0                                  2   \n",
              "\n",
              "   Department  \n",
              "0         2.0  \n",
              "1         2.0  \n",
              "2         2.0  \n",
              "3         2.0  \n",
              "4         1.0  "
            ],
            "text/html": [
              "\n",
              "  <div id=\"df-bba1a569-8c93-4512-9025-b8b52b240dd2\">\n",
              "    <div class=\"colab-df-container\">\n",
              "      <div>\n",
              "<style scoped>\n",
              "    .dataframe tbody tr th:only-of-type {\n",
              "        vertical-align: middle;\n",
              "    }\n",
              "\n",
              "    .dataframe tbody tr th {\n",
              "        vertical-align: top;\n",
              "    }\n",
              "\n",
              "    .dataframe thead th {\n",
              "        text-align: right;\n",
              "    }\n",
              "</style>\n",
              "<table border=\"1\" class=\"dataframe\">\n",
              "  <thead>\n",
              "    <tr style=\"text-align: right;\">\n",
              "      <th></th>\n",
              "      <th>Age</th>\n",
              "      <th>gender</th>\n",
              "      <th>Severity of Illness</th>\n",
              "      <th>Available Extra Rooms in Hospital</th>\n",
              "      <th>Department</th>\n",
              "    </tr>\n",
              "  </thead>\n",
              "  <tbody>\n",
              "    <tr>\n",
              "      <th>0</th>\n",
              "      <td>4.0</td>\n",
              "      <td>0.0</td>\n",
              "      <td>0.0</td>\n",
              "      <td>4</td>\n",
              "      <td>2.0</td>\n",
              "    </tr>\n",
              "    <tr>\n",
              "      <th>1</th>\n",
              "      <td>3.0</td>\n",
              "      <td>0.0</td>\n",
              "      <td>1.0</td>\n",
              "      <td>4</td>\n",
              "      <td>2.0</td>\n",
              "    </tr>\n",
              "    <tr>\n",
              "      <th>2</th>\n",
              "      <td>2.0</td>\n",
              "      <td>0.0</td>\n",
              "      <td>0.0</td>\n",
              "      <td>2</td>\n",
              "      <td>2.0</td>\n",
              "    </tr>\n",
              "    <tr>\n",
              "      <th>3</th>\n",
              "      <td>3.0</td>\n",
              "      <td>0.0</td>\n",
              "      <td>2.0</td>\n",
              "      <td>4</td>\n",
              "      <td>2.0</td>\n",
              "    </tr>\n",
              "    <tr>\n",
              "      <th>4</th>\n",
              "      <td>7.0</td>\n",
              "      <td>1.0</td>\n",
              "      <td>2.0</td>\n",
              "      <td>2</td>\n",
              "      <td>1.0</td>\n",
              "    </tr>\n",
              "  </tbody>\n",
              "</table>\n",
              "</div>\n",
              "      <button class=\"colab-df-convert\" onclick=\"convertToInteractive('df-bba1a569-8c93-4512-9025-b8b52b240dd2')\"\n",
              "              title=\"Convert this dataframe to an interactive table.\"\n",
              "              style=\"display:none;\">\n",
              "        \n",
              "  <svg xmlns=\"http://www.w3.org/2000/svg\" height=\"24px\"viewBox=\"0 0 24 24\"\n",
              "       width=\"24px\">\n",
              "    <path d=\"M0 0h24v24H0V0z\" fill=\"none\"/>\n",
              "    <path d=\"M18.56 5.44l.94 2.06.94-2.06 2.06-.94-2.06-.94-.94-2.06-.94 2.06-2.06.94zm-11 1L8.5 8.5l.94-2.06 2.06-.94-2.06-.94L8.5 2.5l-.94 2.06-2.06.94zm10 10l.94 2.06.94-2.06 2.06-.94-2.06-.94-.94-2.06-.94 2.06-2.06.94z\"/><path d=\"M17.41 7.96l-1.37-1.37c-.4-.4-.92-.59-1.43-.59-.52 0-1.04.2-1.43.59L10.3 9.45l-7.72 7.72c-.78.78-.78 2.05 0 2.83L4 21.41c.39.39.9.59 1.41.59.51 0 1.02-.2 1.41-.59l7.78-7.78 2.81-2.81c.8-.78.8-2.07 0-2.86zM5.41 20L4 18.59l7.72-7.72 1.47 1.35L5.41 20z\"/>\n",
              "  </svg>\n",
              "      </button>\n",
              "      \n",
              "  <style>\n",
              "    .colab-df-container {\n",
              "      display:flex;\n",
              "      flex-wrap:wrap;\n",
              "      gap: 12px;\n",
              "    }\n",
              "\n",
              "    .colab-df-convert {\n",
              "      background-color: #E8F0FE;\n",
              "      border: none;\n",
              "      border-radius: 50%;\n",
              "      cursor: pointer;\n",
              "      display: none;\n",
              "      fill: #1967D2;\n",
              "      height: 32px;\n",
              "      padding: 0 0 0 0;\n",
              "      width: 32px;\n",
              "    }\n",
              "\n",
              "    .colab-df-convert:hover {\n",
              "      background-color: #E2EBFA;\n",
              "      box-shadow: 0px 1px 2px rgba(60, 64, 67, 0.3), 0px 1px 3px 1px rgba(60, 64, 67, 0.15);\n",
              "      fill: #174EA6;\n",
              "    }\n",
              "\n",
              "    [theme=dark] .colab-df-convert {\n",
              "      background-color: #3B4455;\n",
              "      fill: #D2E3FC;\n",
              "    }\n",
              "\n",
              "    [theme=dark] .colab-df-convert:hover {\n",
              "      background-color: #434B5C;\n",
              "      box-shadow: 0px 1px 3px 1px rgba(0, 0, 0, 0.15);\n",
              "      filter: drop-shadow(0px 1px 2px rgba(0, 0, 0, 0.3));\n",
              "      fill: #FFFFFF;\n",
              "    }\n",
              "  </style>\n",
              "\n",
              "      <script>\n",
              "        const buttonEl =\n",
              "          document.querySelector('#df-bba1a569-8c93-4512-9025-b8b52b240dd2 button.colab-df-convert');\n",
              "        buttonEl.style.display =\n",
              "          google.colab.kernel.accessAllowed ? 'block' : 'none';\n",
              "\n",
              "        async function convertToInteractive(key) {\n",
              "          const element = document.querySelector('#df-bba1a569-8c93-4512-9025-b8b52b240dd2');\n",
              "          const dataTable =\n",
              "            await google.colab.kernel.invokeFunction('convertToInteractive',\n",
              "                                                     [key], {});\n",
              "          if (!dataTable) return;\n",
              "\n",
              "          const docLinkHtml = 'Like what you see? Visit the ' +\n",
              "            '<a target=\"_blank\" href=https://colab.research.google.com/notebooks/data_table.ipynb>data table notebook</a>'\n",
              "            + ' to learn more about interactive tables.';\n",
              "          element.innerHTML = '';\n",
              "          dataTable['output_type'] = 'display_data';\n",
              "          await google.colab.output.renderOutput(dataTable, element);\n",
              "          const docLink = document.createElement('div');\n",
              "          docLink.innerHTML = docLinkHtml;\n",
              "          element.appendChild(docLink);\n",
              "        }\n",
              "      </script>\n",
              "    </div>\n",
              "  </div>\n",
              "  "
            ]
          },
          "metadata": {},
          "execution_count": 37
        }
      ]
    },
    {
      "cell_type": "code",
      "source": [
        "X_train, X_test, y_train, y_test = train_test_split(X,y, test_size = 0.3, random_state = 123)\n",
        "# Estandarizamos los datos para que la regularización sea correcta\n",
        "scaler = StandardScaler()\n",
        "X_train_std = pd.DataFrame(scaler.fit_transform(X_train), columns=X_train.columns)\n",
        "X_test_std = scaler.transform(X_test)"
      ],
      "metadata": {
        "id": "0W7aYhBPj4JF"
      },
      "execution_count": 38,
      "outputs": []
    },
    {
      "cell_type": "code",
      "source": [
        "X_train.head()"
      ],
      "metadata": {
        "colab": {
          "base_uri": "https://localhost:8080/",
          "height": 206
        },
        "id": "8ZfnK9x7k6Ev",
        "outputId": "38e83ff1-ef4c-48a0-d567-6a7e6cc7ff1e"
      },
      "execution_count": 39,
      "outputs": [
        {
          "output_type": "execute_result",
          "data": {
            "text/plain": [
              "        Age  gender  Severity of Illness  Available Extra Rooms in Hospital  \\\n",
              "397558  3.0     0.0                  2.0                                 21   \n",
              "146299  7.0     0.0                  2.0                                  4   \n",
              "249328  3.0     0.0                  2.0                                  3   \n",
              "38476   5.0     1.0                  2.0                                  2   \n",
              "401702  2.0     0.0                  1.0                                  4   \n",
              "\n",
              "        Department  \n",
              "397558         2.0  \n",
              "146299         3.0  \n",
              "249328         2.0  \n",
              "38476          3.0  \n",
              "401702         2.0  "
            ],
            "text/html": [
              "\n",
              "  <div id=\"df-b8cfe68b-22e0-4953-8436-3b44c8464053\">\n",
              "    <div class=\"colab-df-container\">\n",
              "      <div>\n",
              "<style scoped>\n",
              "    .dataframe tbody tr th:only-of-type {\n",
              "        vertical-align: middle;\n",
              "    }\n",
              "\n",
              "    .dataframe tbody tr th {\n",
              "        vertical-align: top;\n",
              "    }\n",
              "\n",
              "    .dataframe thead th {\n",
              "        text-align: right;\n",
              "    }\n",
              "</style>\n",
              "<table border=\"1\" class=\"dataframe\">\n",
              "  <thead>\n",
              "    <tr style=\"text-align: right;\">\n",
              "      <th></th>\n",
              "      <th>Age</th>\n",
              "      <th>gender</th>\n",
              "      <th>Severity of Illness</th>\n",
              "      <th>Available Extra Rooms in Hospital</th>\n",
              "      <th>Department</th>\n",
              "    </tr>\n",
              "  </thead>\n",
              "  <tbody>\n",
              "    <tr>\n",
              "      <th>397558</th>\n",
              "      <td>3.0</td>\n",
              "      <td>0.0</td>\n",
              "      <td>2.0</td>\n",
              "      <td>21</td>\n",
              "      <td>2.0</td>\n",
              "    </tr>\n",
              "    <tr>\n",
              "      <th>146299</th>\n",
              "      <td>7.0</td>\n",
              "      <td>0.0</td>\n",
              "      <td>2.0</td>\n",
              "      <td>4</td>\n",
              "      <td>3.0</td>\n",
              "    </tr>\n",
              "    <tr>\n",
              "      <th>249328</th>\n",
              "      <td>3.0</td>\n",
              "      <td>0.0</td>\n",
              "      <td>2.0</td>\n",
              "      <td>3</td>\n",
              "      <td>2.0</td>\n",
              "    </tr>\n",
              "    <tr>\n",
              "      <th>38476</th>\n",
              "      <td>5.0</td>\n",
              "      <td>1.0</td>\n",
              "      <td>2.0</td>\n",
              "      <td>2</td>\n",
              "      <td>3.0</td>\n",
              "    </tr>\n",
              "    <tr>\n",
              "      <th>401702</th>\n",
              "      <td>2.0</td>\n",
              "      <td>0.0</td>\n",
              "      <td>1.0</td>\n",
              "      <td>4</td>\n",
              "      <td>2.0</td>\n",
              "    </tr>\n",
              "  </tbody>\n",
              "</table>\n",
              "</div>\n",
              "      <button class=\"colab-df-convert\" onclick=\"convertToInteractive('df-b8cfe68b-22e0-4953-8436-3b44c8464053')\"\n",
              "              title=\"Convert this dataframe to an interactive table.\"\n",
              "              style=\"display:none;\">\n",
              "        \n",
              "  <svg xmlns=\"http://www.w3.org/2000/svg\" height=\"24px\"viewBox=\"0 0 24 24\"\n",
              "       width=\"24px\">\n",
              "    <path d=\"M0 0h24v24H0V0z\" fill=\"none\"/>\n",
              "    <path d=\"M18.56 5.44l.94 2.06.94-2.06 2.06-.94-2.06-.94-.94-2.06-.94 2.06-2.06.94zm-11 1L8.5 8.5l.94-2.06 2.06-.94-2.06-.94L8.5 2.5l-.94 2.06-2.06.94zm10 10l.94 2.06.94-2.06 2.06-.94-2.06-.94-.94-2.06-.94 2.06-2.06.94z\"/><path d=\"M17.41 7.96l-1.37-1.37c-.4-.4-.92-.59-1.43-.59-.52 0-1.04.2-1.43.59L10.3 9.45l-7.72 7.72c-.78.78-.78 2.05 0 2.83L4 21.41c.39.39.9.59 1.41.59.51 0 1.02-.2 1.41-.59l7.78-7.78 2.81-2.81c.8-.78.8-2.07 0-2.86zM5.41 20L4 18.59l7.72-7.72 1.47 1.35L5.41 20z\"/>\n",
              "  </svg>\n",
              "      </button>\n",
              "      \n",
              "  <style>\n",
              "    .colab-df-container {\n",
              "      display:flex;\n",
              "      flex-wrap:wrap;\n",
              "      gap: 12px;\n",
              "    }\n",
              "\n",
              "    .colab-df-convert {\n",
              "      background-color: #E8F0FE;\n",
              "      border: none;\n",
              "      border-radius: 50%;\n",
              "      cursor: pointer;\n",
              "      display: none;\n",
              "      fill: #1967D2;\n",
              "      height: 32px;\n",
              "      padding: 0 0 0 0;\n",
              "      width: 32px;\n",
              "    }\n",
              "\n",
              "    .colab-df-convert:hover {\n",
              "      background-color: #E2EBFA;\n",
              "      box-shadow: 0px 1px 2px rgba(60, 64, 67, 0.3), 0px 1px 3px 1px rgba(60, 64, 67, 0.15);\n",
              "      fill: #174EA6;\n",
              "    }\n",
              "\n",
              "    [theme=dark] .colab-df-convert {\n",
              "      background-color: #3B4455;\n",
              "      fill: #D2E3FC;\n",
              "    }\n",
              "\n",
              "    [theme=dark] .colab-df-convert:hover {\n",
              "      background-color: #434B5C;\n",
              "      box-shadow: 0px 1px 3px 1px rgba(0, 0, 0, 0.15);\n",
              "      filter: drop-shadow(0px 1px 2px rgba(0, 0, 0, 0.3));\n",
              "      fill: #FFFFFF;\n",
              "    }\n",
              "  </style>\n",
              "\n",
              "      <script>\n",
              "        const buttonEl =\n",
              "          document.querySelector('#df-b8cfe68b-22e0-4953-8436-3b44c8464053 button.colab-df-convert');\n",
              "        buttonEl.style.display =\n",
              "          google.colab.kernel.accessAllowed ? 'block' : 'none';\n",
              "\n",
              "        async function convertToInteractive(key) {\n",
              "          const element = document.querySelector('#df-b8cfe68b-22e0-4953-8436-3b44c8464053');\n",
              "          const dataTable =\n",
              "            await google.colab.kernel.invokeFunction('convertToInteractive',\n",
              "                                                     [key], {});\n",
              "          if (!dataTable) return;\n",
              "\n",
              "          const docLinkHtml = 'Like what you see? Visit the ' +\n",
              "            '<a target=\"_blank\" href=https://colab.research.google.com/notebooks/data_table.ipynb>data table notebook</a>'\n",
              "            + ' to learn more about interactive tables.';\n",
              "          element.innerHTML = '';\n",
              "          dataTable['output_type'] = 'display_data';\n",
              "          await google.colab.output.renderOutput(dataTable, element);\n",
              "          const docLink = document.createElement('div');\n",
              "          docLink.innerHTML = docLinkHtml;\n",
              "          element.appendChild(docLink);\n",
              "        }\n",
              "      </script>\n",
              "    </div>\n",
              "  </div>\n",
              "  "
            ]
          },
          "metadata": {},
          "execution_count": 39
        }
      ]
    },
    {
      "cell_type": "code",
      "source": [
        "#Instanciamos el modelo de Regresion logistica y lo entrenamos. Almacenamos las predicciones\n",
        "lr = LogisticRegression(penalty='l2', \n",
        "                        class_weight='balanced'\n",
        "                       )\n",
        "lr.fit(X_train_std, y_train)\n",
        "\n",
        "y_train_pred = lr.predict(X_train_std)"
      ],
      "metadata": {
        "id": "y-kb-ZgHkYpG"
      },
      "execution_count": 40,
      "outputs": []
    },
    {
      "cell_type": "code",
      "source": [
        "# Imprimimos resumen de metricas y la matriz de confusion\n",
        "\n",
        "model_name = 'Reg. Logistica'\n",
        "\n",
        "sns.heatmap(confusion_matrix(y_train, y_train_pred), annot=True, cmap='PuBu', fmt='0.0f', linewidths=0.25, \n",
        "           annot_kws={'size':13} )\n",
        "plt.xlabel('Predichos')\n",
        "plt.ylabel('Reales')\n",
        "\n",
        "print('Accuracy del modelo de ' + model_name + ' :   ', accuracy_score(y_train, y_train_pred).round(3))\n",
        "print('Recall del modelo de ' + model_name + ' :     ', recall_score(y_train, y_train_pred).round(3))\n",
        "\n",
        "print('Rporte del modelo de ' + model_name + ' :   \\n', classification_report(y_train, y_train_pred))"
      ],
      "metadata": {
        "colab": {
          "base_uri": "https://localhost:8080/",
          "height": 498
        },
        "id": "m6fZhdvSjt9b",
        "outputId": "10388a9e-cf9d-44a4-9abf-e3f456a2f886"
      },
      "execution_count": 41,
      "outputs": [
        {
          "output_type": "stream",
          "name": "stdout",
          "text": [
            "Accuracy del modelo de Reg. Logistica :    0.597\n",
            "Recall del modelo de Reg. Logistica :      0.479\n",
            "Rporte del modelo de Reg. Logistica :   \n",
            "               precision    recall  f1-score   support\n",
            "\n",
            "           0       0.48      0.79      0.60    108186\n",
            "           1       0.79      0.48      0.60    178814\n",
            "\n",
            "    accuracy                           0.60    287000\n",
            "   macro avg       0.64      0.64      0.60    287000\n",
            "weighted avg       0.67      0.60      0.60    287000\n",
            "\n"
          ]
        },
        {
          "output_type": "display_data",
          "data": {
            "text/plain": [
              "<Figure size 432x288 with 2 Axes>"
            ],
            "image/png": "[encoded data removed]"
          },
          "metadata": {
            "needs_background": "light"
          }
        }
      ]
    },
    {
      "cell_type": "markdown",
      "source": [
        "Con un resultado ligeramente peor procedo a usar otro modelo, en este caso usaré Ada Boost por entender que se adaptaría mejor a esta situación donde las correlaciones son bajas.\n",
        "\n",
        "Boosting es un método que pretende mejorar el desempeño de cualquier algoritmo de aprendizaje supervisado mediante la combinación de los resultados de varios clasificadores débiles o de base para obtener un clasificador final robusto. Una de las técnicas más populares de Boosting es el algoritmo Boosting Adaptativo (AdaBoost). Este algoritmo, mediante un entrenamiento iterativo de los clasificadores débiles o de base, le asigna mayor importancia a los datos mal clasificados anteriormente, y de esta manera obtiene un nuevo clasificador. Logra, de esta forma, adaptarse y obtener mejores resultados aumentando la precisión del algoritmo."
      ],
      "metadata": {
        "id": "jjqxYJYRuQAk"
      }
    },
    {
      "cell_type": "markdown",
      "source": [
        "#Ada Boost"
      ],
      "metadata": {
        "id": "6HS6Zp8Ns5Yb"
      }
    },
    {
      "cell_type": "code",
      "source": [
        "dtc = DecisionTreeClassifier(max_depth = 2, \n",
        "                             min_samples_split = 6)\n",
        "\n",
        "ada = AdaBoostClassifier(base_estimator = dtc, \n",
        "                         n_estimators = 650,\n",
        "                         learning_rate = 0.7)"
      ],
      "metadata": {
        "id": "QyFw8cd4l-iw"
      },
      "execution_count": 42,
      "outputs": []
    },
    {
      "cell_type": "markdown",
      "source": [
        "Voy a seguir usando el dataset más chico así que no volveré a modificar X e y"
      ],
      "metadata": {
        "id": "IyQd05ktvXpJ"
      }
    },
    {
      "cell_type": "code",
      "source": [
        "ada.fit(X_train, y_train)\n",
        "\n",
        "y_train_pred_ada = ada.predict(X_train)"
      ],
      "metadata": {
        "id": "krZ3Vp3nmMEi"
      },
      "execution_count": 43,
      "outputs": []
    },
    {
      "cell_type": "code",
      "source": [
        "# Histograma de probabilidades\n",
        "fig, ax01 = plt.subplots(1,1 , figsize=(13,5))\n",
        "sns.histplot(data = ada.predict_proba(X_train[y_train==0])[:,1], stat = 'density', ax=ax01)\n",
        "sns.histplot(data = ada.predict_proba(X_train[y_train==1])[:,1], stat = 'density', color = 'orange', ax=ax01)\n",
        "ylim = plt.ylim()\n",
        "plt.vlines(0.2, ylim[0], ylim[1])\n",
        "plt.ylim(ylim)\n",
        "plt.legend(['Umbral', 'type_stay = 0', 'type_stay = 1'])"
      ],
      "metadata": {
        "colab": {
          "base_uri": "https://localhost:8080/",
          "height": 338
        },
        "id": "hrJRHfEmmodl",
        "outputId": "f3c75ae7-2480-4c5e-a7f7-d8b6604ee605"
      },
      "execution_count": 44,
      "outputs": [
        {
          "output_type": "execute_result",
          "data": {
            "text/plain": [
              "<matplotlib.legend.Legend at 0x7f9b316b2bb0>"
            ]
          },
          "metadata": {},
          "execution_count": 44
        },
        {
          "output_type": "display_data",
          "data": {
            "text/plain": [
              "<Figure size 936x360 with 1 Axes>"
            ],
            "image/png": "[encoded data removed]"
          },
          "metadata": {
            "needs_background": "light"
          }
        }
      ]
    },
    {
      "cell_type": "code",
      "source": [
        "umbral = 0.5\n",
        "probs = ada.predict_proba(X_train)[:,1]\n",
        "y_pred_train_ada_umbral = probs > umbral"
      ],
      "metadata": {
        "id": "vSuhk8UInshi"
      },
      "execution_count": 45,
      "outputs": []
    },
    {
      "cell_type": "code",
      "source": [
        "sns.heatmap(confusion_matrix(y_train, y_pred_train_ada_umbral), annot=True, cmap='PuBu', fmt='0.0f', linewidths=0.25, \n",
        "           annot_kws={'size':13} )\n",
        "plt.xlabel('Predichos')\n",
        "plt.ylabel('Reales')\n",
        "\n",
        "print('Accuracy del modelo de AdaBoost:    ', accuracy_score(y_train, y_pred_train_ada_umbral).round(3))\n",
        "print('Recall del modelo de AdaBoost:    ', recall_score(y_train, y_pred_train_ada_umbral).round(3))"
      ],
      "metadata": {
        "colab": {
          "base_uri": "https://localhost:8080/",
          "height": 316
        },
        "id": "EeNb4aA4jt4o",
        "outputId": "91ed460c-43ba-430c-bfbb-10b872922025"
      },
      "execution_count": 46,
      "outputs": [
        {
          "output_type": "stream",
          "name": "stdout",
          "text": [
            "Accuracy del modelo de AdaBoost:     0.697\n",
            "Recall del modelo de AdaBoost:     0.868\n"
          ]
        },
        {
          "output_type": "display_data",
          "data": {
            "text/plain": [
              "<Figure size 432x288 with 2 Axes>"
            ],
            "image/png": "[encoded data removed]"
          },
          "metadata": {
            "needs_background": "light"
          }
        }
      ]
    },
    {
      "cell_type": "markdown",
      "source": [
        "Con un mejor rendimiento, me decanto por usar Ada Boost, procedo a observar como rinde el modelo sobre el x_test"
      ],
      "metadata": {
        "id": "9HUFvdwcwZqA"
      }
    },
    {
      "cell_type": "markdown",
      "source": [
        "Observemos el comportamiento en testeo\n"
      ],
      "metadata": {
        "id": "JZqPwdmyoEIf"
      }
    },
    {
      "cell_type": "code",
      "source": [
        "probs = ada.predict_proba(X_test)[:,1]\n",
        "y_pred_test_ada_umbral = probs > umbral"
      ],
      "metadata": {
        "id": "aERpk2Fojtxu"
      },
      "execution_count": 47,
      "outputs": []
    },
    {
      "cell_type": "code",
      "source": [
        "sns.heatmap(confusion_matrix(y_test, y_pred_test_ada_umbral), annot=True, cmap='PuBu', fmt='0.0f', linewidths=0.25, \n",
        "           annot_kws={'size':13} )\n",
        "plt.xlabel('Predichos')\n",
        "plt.ylabel('Reales')\n",
        "\n",
        "print('Accuracy del modelo de AdaBoost (Testeo):    ', accuracy_score(y_test, y_pred_test_ada_umbral).round(3))\n",
        "print('Recall del modelo de AdaBoost (Testeo):    ', recall_score(y_test, y_pred_test_ada_umbral).round(3))"
      ],
      "metadata": {
        "colab": {
          "base_uri": "https://localhost:8080/",
          "height": 316
        },
        "id": "yYXC2QfOoJeM",
        "outputId": "f5f2f838-7a7e-4b19-9af1-2f7d576aeae5"
      },
      "execution_count": 48,
      "outputs": [
        {
          "output_type": "stream",
          "name": "stdout",
          "text": [
            "Accuracy del modelo de AdaBoost (Testeo):     0.696\n",
            "Recall del modelo de AdaBoost (Testeo):     0.867\n"
          ]
        },
        {
          "output_type": "display_data",
          "data": {
            "text/plain": [
              "<Figure size 432x288 with 2 Axes>"
            ],
            "image/png": "[encoded data removed]"
          },
          "metadata": {
            "needs_background": "light"
          }
        }
      ]
    },
    {
      "cell_type": "markdown",
      "source": [
        "Tenemos un nivel de Accuracy y Recall mejor que en el modelo de regresión lineal, por lo tanto intentaré mejorar los parametros para obtener mejores resultados."
      ],
      "metadata": {
        "id": "YxJ7xsvZoWGl"
      }
    },
    {
      "cell_type": "markdown",
      "source": [
        "# Optimización de hiperparámetros"
      ],
      "metadata": {
        "id": "-RoG-ZIeojW1"
      }
    },
    {
      "cell_type": "code",
      "source": [
        "dtc = DecisionTreeClassifier(max_depth = 6, \n",
        "                             min_samples_split = 6)\n",
        "\n",
        "#lrc = LogisticRegression(penalty='l2', C=1.0, class_weight='balanced', solver='saga', tol=0.001, max_iter=1500)\n",
        "\n",
        "ada = AdaBoostClassifier(base_estimator = dtc, \n",
        "                         n_estimators = 650,\n",
        "                         learning_rate = 0.7)"
      ],
      "metadata": {
        "id": "OuQhZn6eoTlv"
      },
      "execution_count": 49,
      "outputs": []
    },
    {
      "cell_type": "code",
      "source": [
        "param_grid = {'base_estimator__max_depth': [2, 3, 5],\n",
        "              'base_estimator__min_samples_split': [6, 24, 96],\n",
        "              'base_estimator__max_features': [None, 10, 6],\n",
        "              'base_estimator__class_weight': [None, 'balanced'],\n",
        "              'base_estimator__splitter': [\"best\", \"random\"],\n",
        "              'n_estimators': [10, 30, 100],\n",
        "              'learning_rate': [0.3, 0.5, 0.7]\n",
        "             }"
      ],
      "metadata": {
        "id": "idUPMzTYo_aB"
      },
      "execution_count": null,
      "outputs": []
    },
    {
      "cell_type": "code",
      "source": [
        "#scorer = make_scorer(fbeta_score, beta=4)\n",
        "\n",
        "grid_obj = GridSearchCV(ada, param_grid, scoring = 'recall', n_jobs=-1, verbose=1, cv=3)"
      ],
      "metadata": {
        "id": "4x_4p-u1pDnn"
      },
      "execution_count": null,
      "outputs": []
    },
    {
      "cell_type": "code",
      "source": [
        "grid_fit = grid_obj.fit(X_train, y_train)\n",
        "\n",
        "#Atención, esta linea de cód demora aproximadamente 3 horas en completarse"
      ],
      "metadata": {
        "colab": {
          "base_uri": "https://localhost:8080/"
        },
        "id": "qDTOLmnjpU-Y",
        "outputId": "3fd443da-617d-4d4e-9131-df89727008ba"
      },
      "execution_count": null,
      "outputs": [
        {
          "output_type": "stream",
          "name": "stdout",
          "text": [
            "Fitting 3 folds for each of 972 candidates, totalling 2916 fits\n"
          ]
        }
      ]
    },
    {
      "cell_type": "code",
      "source": [
        "best_ada = grid_fit.best_estimator_\n",
        "print(grid_fit.best_params_)\n",
        "print(grid_fit.best_score_)\n",
        "y_train_pred_ada_opt = best_ada.predict(X_train)\n",
        "y_test_pred_ada_opt = best_ada.predict(X_test)\n",
        "\n",
        "#El grid me tardó 3 horas aproximadamente en detectar los mejores resultados.\n",
        "#En caso de que se llegase a borrar el resultado dejo guardado aquí una copia.\n",
        "#{'base_estimator__class_weight': None, 'base_estimator__max_depth': 2, \n",
        "#'base_estimator__max_features': None, 'base_estimator__min_samples_split': 6,\n",
        "# 'base_estimator__splitter': 'best', 'learning_rate': 0.3, 'n_estimators': 10}\n",
        "#0.9999888152559908"
      ],
      "metadata": {
        "id": "pGCIKYhRp5tY"
      },
      "execution_count": null,
      "outputs": []
    },
    {
      "cell_type": "code",
      "source": [
        "#parametros establecidos según el searchgrid\n",
        "\n",
        "param_grid = {'base_estimator__max_depth': [2],\n",
        "              'base_estimator__min_samples_split': [6],\n",
        "              'base_estimator__max_features': [None],\n",
        "              'base_estimator__class_weight': [None],\n",
        "              'base_estimator__splitter': [\"best\"],\n",
        "              'n_estimators': [10],\n",
        "              'learning_rate': [0.3]\n",
        "             }\n",
        "\n",
        "#{'base_estimator__class_weight': None, 'base_estimator__max_depth': 2, \n",
        "#'base_estimator__max_features': None, 'base_estimator__min_samples_split': 6,\n",
        "# 'base_estimator__splitter': 'best', 'learning_rate': 0.3, 'n_estimators': 10"
      ],
      "metadata": {
        "id": "JM_jJL7k2ToV"
      },
      "execution_count": null,
      "outputs": []
    },
    {
      "cell_type": "code",
      "source": [
        "dtc = DecisionTreeClassifier(max_depth = 2, \n",
        "                             min_samples_split = 6)\n",
        "\n",
        "ada = AdaBoostClassifier(base_estimator = dtc, \n",
        "                         n_estimators = 10,\n",
        "                         learning_rate = 0.3\n",
        "                         )"
      ],
      "metadata": {
        "id": "TfOFPzkC2UtB"
      },
      "execution_count": 56,
      "outputs": []
    },
    {
      "cell_type": "code",
      "source": [
        "ada.fit(X_train, y_train)\n",
        "\n",
        "y_train_pred_ada = ada.predict(X_train)"
      ],
      "metadata": {
        "id": "eBIMemBf2x3N"
      },
      "execution_count": 57,
      "outputs": []
    },
    {
      "cell_type": "code",
      "source": [
        "sns.heatmap(confusion_matrix(y_train, y_train_pred_ada), annot=True, cmap='PuBu', fmt='0.0f', linewidths=0.25, \n",
        "           annot_kws={'size':13} )\n",
        "plt.xlabel('Predichos')\n",
        "plt.ylabel('Reales')\n",
        "\n",
        "print('Accuracy del modelo de AdaBoost optimizado:    ', accuracy_score(y_train, y_train_pred_ada).round(3))\n",
        "print('Recall del modelo de AdaBoost optimizado:    ', recall_score(y_train, y_train_pred_ada).round(3))\n",
        "\n",
        "#Resultado guardado de una ejecución anterior."
      ],
      "metadata": {
        "id": "-apo4a6vqIVg",
        "colab": {
          "base_uri": "https://localhost:8080/",
          "height": 316
        },
        "outputId": "d780cf18-c916-4c73-b173-3f9b7270d82c"
      },
      "execution_count": 60,
      "outputs": [
        {
          "output_type": "stream",
          "name": "stdout",
          "text": [
            "Accuracy del modelo de AdaBoost optimizado:     0.688\n",
            "Recall del modelo de AdaBoost optimizado:     1.0\n"
          ]
        },
        {
          "output_type": "display_data",
          "data": {
            "text/plain": [
              "<Figure size 432x288 with 2 Axes>"
            ],
            "image/png": "[encoded data removed]"
          },
          "metadata": {
            "needs_background": "light"
          }
        }
      ]
    },
    {
      "cell_type": "code",
      "source": [
        "probs = ada.predict_proba(X_test)[:,1]\n",
        "y_pred_test_ada_umbral = probs > umbral"
      ],
      "metadata": {
        "id": "LjiOuJ_R3sfp"
      },
      "execution_count": 64,
      "outputs": []
    },
    {
      "cell_type": "code",
      "source": [
        "sns.heatmap(confusion_matrix(y_test, y_pred_test_ada_umbral), annot=True, cmap='PuBu', fmt='0.0f', linewidths=0.25, \n",
        "           annot_kws={'size':13} )\n",
        "plt.xlabel('Predichos')\n",
        "plt.ylabel('Reales')\n",
        "\n",
        "print('Accuracy del modelo de AdaBoost optimizado (Testeo):    ', accuracy_score(y_test, y_pred_test_ada_umbral).round(3))\n",
        "print('Recall del modelo de AdaBoost optimizado (Testeo):      ', recall_score(y_test, y_pred_test_ada_umbral).round(3))\n",
        "\n",
        "#"
      ],
      "metadata": {
        "id": "Kda80yMGqJLI",
        "colab": {
          "base_uri": "https://localhost:8080/",
          "height": 316
        },
        "outputId": "cdb1cfa7-708b-4cef-c462-a59b79101943"
      },
      "execution_count": 66,
      "outputs": [
        {
          "output_type": "stream",
          "name": "stdout",
          "text": [
            "Accuracy del modelo de AdaBoost optimizado (Testeo):     0.688\n",
            "Recall del modelo de AdaBoost optimizado (Testeo):       1.0\n"
          ]
        },
        {
          "output_type": "display_data",
          "data": {
            "text/plain": [
              "<Figure size 432x288 with 2 Axes>"
            ],
            "image/png": "[encoded data removed]"
          },
          "metadata": {
            "needs_background": "light"
          }
        }
      ]
    },
    {
      "cell_type": "markdown",
      "source": [
        "Concluyo que el modelo a pesar de presentar un claro sobreajuste, debe ser testeado con el dataset df_1 (que es el de testeo), para observar su comportamiento."
      ],
      "metadata": {
        "id": "Rb008CmBzczC"
      }
    },
    {
      "cell_type": "markdown",
      "source": [
        "# Modelo aplicado al segundo dataset"
      ],
      "metadata": {
        "id": "eOMrPjcqz5Gm"
      }
    },
    {
      "cell_type": "code",
      "source": [
        "#Pasamos el modelo entrenado al dataset 2\n",
        "#Convertimos las variables categ del set 2 a números para que lo lea el predictor.\n",
        "\n",
        "categorical_features2 = list(df_1.select_dtypes(object).columns) # Creo lista de atributos categoricos\n",
        "df_categ2 = df_1[categorical_features2] # Creo un dataframe con las columnas deseadas y la variable target\n",
        "\n",
        "\n"
      ],
      "metadata": {
        "id": "F-lruKxgp6Ej"
      },
      "execution_count": 67,
      "outputs": []
    },
    {
      "cell_type": "code",
      "source": [
        "enc = OrdinalEncoder()\n",
        "df_categ2.columns\n"
      ],
      "metadata": {
        "id": "pug4i-xup6Yg",
        "colab": {
          "base_uri": "https://localhost:8080/"
        },
        "outputId": "2a1e2eca-2045-4067-e39c-7d4e01ee14c6"
      },
      "execution_count": 68,
      "outputs": [
        {
          "output_type": "execute_result",
          "data": {
            "text/plain": [
              "Index(['Department', 'Ward_Facility_Code', 'doctor_name', 'Age', 'gender',\n",
              "       'Type of Admission', 'Severity of Illness', 'health_conditions',\n",
              "       'Insurance'],\n",
              "      dtype='object')"
            ]
          },
          "metadata": {},
          "execution_count": 68
        }
      ]
    },
    {
      "cell_type": "code",
      "source": [
        "enc.fit(df_categ2[['Department', 'Ward_Facility_Code', 'doctor_name', 'Age', 'gender',\n",
        "       'Type of Admission', 'Severity of Illness', 'health_conditions',\n",
        "       'Insurance']])"
      ],
      "metadata": {
        "id": "xoFkOfJhWemO",
        "colab": {
          "base_uri": "https://localhost:8080/"
        },
        "outputId": "7abe9828-a083-4d31-f622-b6469ffdbf0d"
      },
      "execution_count": 69,
      "outputs": [
        {
          "output_type": "execute_result",
          "data": {
            "text/plain": [
              "OrdinalEncoder()"
            ]
          },
          "metadata": {},
          "execution_count": 69
        }
      ]
    },
    {
      "cell_type": "code",
      "source": [
        "df_categ2[['Department', 'Ward_Facility_Code', 'doctor_name', 'Age', 'gender',\n",
        "       'Type of Admission', 'Severity of Illness', 'health_conditions',\n",
        "       'Insurance']] = enc.transform(df_categ2[['Department', 'Ward_Facility_Code', 'doctor_name', 'Age', 'gender',\n",
        "       'Type of Admission', 'Severity of Illness', 'health_conditions',\n",
        "       'Insurance']])"
      ],
      "metadata": {
        "id": "qysFRVWdW9BR",
        "colab": {
          "base_uri": "https://localhost:8080/"
        },
        "outputId": "1d881296-9b82-4187-befa-6b58900c7eda"
      },
      "execution_count": 70,
      "outputs": [
        {
          "output_type": "stream",
          "name": "stderr",
          "text": [
            "/usr/local/lib/python3.8/dist-packages/pandas/core/frame.py:3678: SettingWithCopyWarning: \n",
            "A value is trying to be set on a copy of a slice from a DataFrame.\n",
            "Try using .loc[row_indexer,col_indexer] = value instead\n",
            "\n",
            "See the caveats in the documentation: https://pandas.pydata.org/pandas-docs/stable/user_guide/indexing.html#returning-a-view-versus-a-copy\n",
            "  self[col] = igetitem(value, i)\n"
          ]
        }
      ]
    },
    {
      "cell_type": "code",
      "source": [
        "df_categ2.head()"
      ],
      "metadata": {
        "id": "t46QjAUDXTJu",
        "colab": {
          "base_uri": "https://localhost:8080/",
          "height": 305
        },
        "outputId": "02bdda94-8c1e-46eb-8e2c-9ebefc96e1cc"
      },
      "execution_count": 71,
      "outputs": [
        {
          "output_type": "execute_result",
          "data": {
            "text/plain": [
              "   Department  Ward_Facility_Code  doctor_name  Age  gender  \\\n",
              "0         2.0                 5.0          4.0  2.0     0.0   \n",
              "1         0.0                 4.0          1.0  5.0     0.0   \n",
              "2         3.0                 4.0          1.0  5.0     2.0   \n",
              "3         2.0                 5.0          4.0  2.0     0.0   \n",
              "4         1.0                 0.0          1.0  5.0     0.0   \n",
              "\n",
              "   Type of Admission  Severity of Illness  health_conditions  Insurance  \n",
              "0                1.0                  2.0                5.0        0.0  \n",
              "1                1.0                  2.0                0.0        1.0  \n",
              "2                1.0                  2.0                4.0        0.0  \n",
              "3                1.0                  2.0                4.0        1.0  \n",
              "4                1.0                  0.0                1.0        0.0  "
            ],
            "text/html": [
              "\n",
              "  <div id=\"df-53d3b0ca-db1a-44ad-b3df-6d36eeac376a\">\n",
              "    <div class=\"colab-df-container\">\n",
              "      <div>\n",
              "<style scoped>\n",
              "    .dataframe tbody tr th:only-of-type {\n",
              "        vertical-align: middle;\n",
              "    }\n",
              "\n",
              "    .dataframe tbody tr th {\n",
              "        vertical-align: top;\n",
              "    }\n",
              "\n",
              "    .dataframe thead th {\n",
              "        text-align: right;\n",
              "    }\n",
              "</style>\n",
              "<table border=\"1\" class=\"dataframe\">\n",
              "  <thead>\n",
              "    <tr style=\"text-align: right;\">\n",
              "      <th></th>\n",
              "      <th>Department</th>\n",
              "      <th>Ward_Facility_Code</th>\n",
              "      <th>doctor_name</th>\n",
              "      <th>Age</th>\n",
              "      <th>gender</th>\n",
              "      <th>Type of Admission</th>\n",
              "      <th>Severity of Illness</th>\n",
              "      <th>health_conditions</th>\n",
              "      <th>Insurance</th>\n",
              "    </tr>\n",
              "  </thead>\n",
              "  <tbody>\n",
              "    <tr>\n",
              "      <th>0</th>\n",
              "      <td>2.0</td>\n",
              "      <td>5.0</td>\n",
              "      <td>4.0</td>\n",
              "      <td>2.0</td>\n",
              "      <td>0.0</td>\n",
              "      <td>1.0</td>\n",
              "      <td>2.0</td>\n",
              "      <td>5.0</td>\n",
              "      <td>0.0</td>\n",
              "    </tr>\n",
              "    <tr>\n",
              "      <th>1</th>\n",
              "      <td>0.0</td>\n",
              "      <td>4.0</td>\n",
              "      <td>1.0</td>\n",
              "      <td>5.0</td>\n",
              "      <td>0.0</td>\n",
              "      <td>1.0</td>\n",
              "      <td>2.0</td>\n",
              "      <td>0.0</td>\n",
              "      <td>1.0</td>\n",
              "    </tr>\n",
              "    <tr>\n",
              "      <th>2</th>\n",
              "      <td>3.0</td>\n",
              "      <td>4.0</td>\n",
              "      <td>1.0</td>\n",
              "      <td>5.0</td>\n",
              "      <td>2.0</td>\n",
              "      <td>1.0</td>\n",
              "      <td>2.0</td>\n",
              "      <td>4.0</td>\n",
              "      <td>0.0</td>\n",
              "    </tr>\n",
              "    <tr>\n",
              "      <th>3</th>\n",
              "      <td>2.0</td>\n",
              "      <td>5.0</td>\n",
              "      <td>4.0</td>\n",
              "      <td>2.0</td>\n",
              "      <td>0.0</td>\n",
              "      <td>1.0</td>\n",
              "      <td>2.0</td>\n",
              "      <td>4.0</td>\n",
              "      <td>1.0</td>\n",
              "    </tr>\n",
              "    <tr>\n",
              "      <th>4</th>\n",
              "      <td>1.0</td>\n",
              "      <td>0.0</td>\n",
              "      <td>1.0</td>\n",
              "      <td>5.0</td>\n",
              "      <td>0.0</td>\n",
              "      <td>1.0</td>\n",
              "      <td>0.0</td>\n",
              "      <td>1.0</td>\n",
              "      <td>0.0</td>\n",
              "    </tr>\n",
              "  </tbody>\n",
              "</table>\n",
              "</div>\n",
              "      <button class=\"colab-df-convert\" onclick=\"convertToInteractive('df-53d3b0ca-db1a-44ad-b3df-6d36eeac376a')\"\n",
              "              title=\"Convert this dataframe to an interactive table.\"\n",
              "              style=\"display:none;\">\n",
              "        \n",
              "  <svg xmlns=\"http://www.w3.org/2000/svg\" height=\"24px\"viewBox=\"0 0 24 24\"\n",
              "       width=\"24px\">\n",
              "    <path d=\"M0 0h24v24H0V0z\" fill=\"none\"/>\n",
              "    <path d=\"M18.56 5.44l.94 2.06.94-2.06 2.06-.94-2.06-.94-.94-2.06-.94 2.06-2.06.94zm-11 1L8.5 8.5l.94-2.06 2.06-.94-2.06-.94L8.5 2.5l-.94 2.06-2.06.94zm10 10l.94 2.06.94-2.06 2.06-.94-2.06-.94-.94-2.06-.94 2.06-2.06.94z\"/><path d=\"M17.41 7.96l-1.37-1.37c-.4-.4-.92-.59-1.43-.59-.52 0-1.04.2-1.43.59L10.3 9.45l-7.72 7.72c-.78.78-.78 2.05 0 2.83L4 21.41c.39.39.9.59 1.41.59.51 0 1.02-.2 1.41-.59l7.78-7.78 2.81-2.81c.8-.78.8-2.07 0-2.86zM5.41 20L4 18.59l7.72-7.72 1.47 1.35L5.41 20z\"/>\n",
              "  </svg>\n",
              "      </button>\n",
              "      \n",
              "  <style>\n",
              "    .colab-df-container {\n",
              "      display:flex;\n",
              "      flex-wrap:wrap;\n",
              "      gap: 12px;\n",
              "    }\n",
              "\n",
              "    .colab-df-convert {\n",
              "      background-color: #E8F0FE;\n",
              "      border: none;\n",
              "      border-radius: 50%;\n",
              "      cursor: pointer;\n",
              "      display: none;\n",
              "      fill: #1967D2;\n",
              "      height: 32px;\n",
              "      padding: 0 0 0 0;\n",
              "      width: 32px;\n",
              "    }\n",
              "\n",
              "    .colab-df-convert:hover {\n",
              "      background-color: #E2EBFA;\n",
              "      box-shadow: 0px 1px 2px rgba(60, 64, 67, 0.3), 0px 1px 3px 1px rgba(60, 64, 67, 0.15);\n",
              "      fill: #174EA6;\n",
              "    }\n",
              "\n",
              "    [theme=dark] .colab-df-convert {\n",
              "      background-color: #3B4455;\n",
              "      fill: #D2E3FC;\n",
              "    }\n",
              "\n",
              "    [theme=dark] .colab-df-convert:hover {\n",
              "      background-color: #434B5C;\n",
              "      box-shadow: 0px 1px 3px 1px rgba(0, 0, 0, 0.15);\n",
              "      filter: drop-shadow(0px 1px 2px rgba(0, 0, 0, 0.3));\n",
              "      fill: #FFFFFF;\n",
              "    }\n",
              "  </style>\n",
              "\n",
              "      <script>\n",
              "        const buttonEl =\n",
              "          document.querySelector('#df-53d3b0ca-db1a-44ad-b3df-6d36eeac376a button.colab-df-convert');\n",
              "        buttonEl.style.display =\n",
              "          google.colab.kernel.accessAllowed ? 'block' : 'none';\n",
              "\n",
              "        async function convertToInteractive(key) {\n",
              "          const element = document.querySelector('#df-53d3b0ca-db1a-44ad-b3df-6d36eeac376a');\n",
              "          const dataTable =\n",
              "            await google.colab.kernel.invokeFunction('convertToInteractive',\n",
              "                                                     [key], {});\n",
              "          if (!dataTable) return;\n",
              "\n",
              "          const docLinkHtml = 'Like what you see? Visit the ' +\n",
              "            '<a target=\"_blank\" href=https://colab.research.google.com/notebooks/data_table.ipynb>data table notebook</a>'\n",
              "            + ' to learn more about interactive tables.';\n",
              "          element.innerHTML = '';\n",
              "          dataTable['output_type'] = 'display_data';\n",
              "          await google.colab.output.renderOutput(dataTable, element);\n",
              "          const docLink = document.createElement('div');\n",
              "          docLink.innerHTML = docLinkHtml;\n",
              "          element.appendChild(docLink);\n",
              "        }\n",
              "      </script>\n",
              "    </div>\n",
              "  </div>\n",
              "  "
            ]
          },
          "metadata": {},
          "execution_count": 71
        }
      ]
    },
    {
      "cell_type": "code",
      "source": [
        "df_concatenado2 = pd.concat([df_categ2, df_1.select_dtypes(np.number)], axis = 1)"
      ],
      "metadata": {
        "id": "UcCi5qvQWl3f"
      },
      "execution_count": 72,
      "outputs": []
    },
    {
      "cell_type": "code",
      "source": [
        "df_concatenado2.head()"
      ],
      "metadata": {
        "id": "dqaLINLOX3O7",
        "colab": {
          "base_uri": "https://localhost:8080/",
          "height": 322
        },
        "outputId": "de7e6875-3337-406e-bf02-b12b3031cc7c"
      },
      "execution_count": 73,
      "outputs": [
        {
          "output_type": "execute_result",
          "data": {
            "text/plain": [
              "   Department  Ward_Facility_Code  doctor_name  Age  gender  \\\n",
              "0         2.0                 5.0          4.0  2.0     0.0   \n",
              "1         0.0                 4.0          1.0  5.0     0.0   \n",
              "2         3.0                 4.0          1.0  5.0     2.0   \n",
              "3         2.0                 5.0          4.0  2.0     0.0   \n",
              "4         1.0                 0.0          1.0  5.0     0.0   \n",
              "\n",
              "   Type of Admission  Severity of Illness  health_conditions  Insurance  \\\n",
              "0                1.0                  2.0                5.0        0.0   \n",
              "1                1.0                  2.0                0.0        1.0   \n",
              "2                1.0                  2.0                4.0        0.0   \n",
              "3                1.0                  2.0                4.0        1.0   \n",
              "4                1.0                  0.0                1.0        0.0   \n",
              "\n",
              "   Available Extra Rooms in Hospital  staff_available  patientid  \\\n",
              "0                                  3               10       2858   \n",
              "1                                  2                4      65657   \n",
              "2                                  2                7      45598   \n",
              "3                                  2                1      31132   \n",
              "4                                  2                7     125021   \n",
              "\n",
              "   Visitors with Patient  Admission_Deposit  \n",
              "0                      2        4749.640225  \n",
              "1                      2        4122.261324  \n",
              "2                      3        5459.067882  \n",
              "3                      2        3987.033318  \n",
              "4                      2        4770.789695  "
            ],
            "text/html": [
              "\n",
              "  <div id=\"df-13c545d0-0b97-471a-b223-5bf06ff50125\">\n",
              "    <div class=\"colab-df-container\">\n",
              "      <div>\n",
              "<style scoped>\n",
              "    .dataframe tbody tr th:only-of-type {\n",
              "        vertical-align: middle;\n",
              "    }\n",
              "\n",
              "    .dataframe tbody tr th {\n",
              "        vertical-align: top;\n",
              "    }\n",
              "\n",
              "    .dataframe thead th {\n",
              "        text-align: right;\n",
              "    }\n",
              "</style>\n",
              "<table border=\"1\" class=\"dataframe\">\n",
              "  <thead>\n",
              "    <tr style=\"text-align: right;\">\n",
              "      <th></th>\n",
              "      <th>Department</th>\n",
              "      <th>Ward_Facility_Code</th>\n",
              "      <th>doctor_name</th>\n",
              "      <th>Age</th>\n",
              "      <th>gender</th>\n",
              "      <th>Type of Admission</th>\n",
              "      <th>Severity of Illness</th>\n",
              "      <th>health_conditions</th>\n",
              "      <th>Insurance</th>\n",
              "      <th>Available Extra Rooms in Hospital</th>\n",
              "      <th>staff_available</th>\n",
              "      <th>patientid</th>\n",
              "      <th>Visitors with Patient</th>\n",
              "      <th>Admission_Deposit</th>\n",
              "    </tr>\n",
              "  </thead>\n",
              "  <tbody>\n",
              "    <tr>\n",
              "      <th>0</th>\n",
              "      <td>2.0</td>\n",
              "      <td>5.0</td>\n",
              "      <td>4.0</td>\n",
              "      <td>2.0</td>\n",
              "      <td>0.0</td>\n",
              "      <td>1.0</td>\n",
              "      <td>2.0</td>\n",
              "      <td>5.0</td>\n",
              "      <td>0.0</td>\n",
              "      <td>3</td>\n",
              "      <td>10</td>\n",
              "      <td>2858</td>\n",
              "      <td>2</td>\n",
              "      <td>4749.640225</td>\n",
              "    </tr>\n",
              "    <tr>\n",
              "      <th>1</th>\n",
              "      <td>0.0</td>\n",
              "      <td>4.0</td>\n",
              "      <td>1.0</td>\n",
              "      <td>5.0</td>\n",
              "      <td>0.0</td>\n",
              "      <td>1.0</td>\n",
              "      <td>2.0</td>\n",
              "      <td>0.0</td>\n",
              "      <td>1.0</td>\n",
              "      <td>2</td>\n",
              "      <td>4</td>\n",
              "      <td>65657</td>\n",
              "      <td>2</td>\n",
              "      <td>4122.261324</td>\n",
              "    </tr>\n",
              "    <tr>\n",
              "      <th>2</th>\n",
              "      <td>3.0</td>\n",
              "      <td>4.0</td>\n",
              "      <td>1.0</td>\n",
              "      <td>5.0</td>\n",
              "      <td>2.0</td>\n",
              "      <td>1.0</td>\n",
              "      <td>2.0</td>\n",
              "      <td>4.0</td>\n",
              "      <td>0.0</td>\n",
              "      <td>2</td>\n",
              "      <td>7</td>\n",
              "      <td>45598</td>\n",
              "      <td>3</td>\n",
              "      <td>5459.067882</td>\n",
              "    </tr>\n",
              "    <tr>\n",
              "      <th>3</th>\n",
              "      <td>2.0</td>\n",
              "      <td>5.0</td>\n",
              "      <td>4.0</td>\n",
              "      <td>2.0</td>\n",
              "      <td>0.0</td>\n",
              "      <td>1.0</td>\n",
              "      <td>2.0</td>\n",
              "      <td>4.0</td>\n",
              "      <td>1.0</td>\n",
              "      <td>2</td>\n",
              "      <td>1</td>\n",
              "      <td>31132</td>\n",
              "      <td>2</td>\n",
              "      <td>3987.033318</td>\n",
              "    </tr>\n",
              "    <tr>\n",
              "      <th>4</th>\n",
              "      <td>1.0</td>\n",
              "      <td>0.0</td>\n",
              "      <td>1.0</td>\n",
              "      <td>5.0</td>\n",
              "      <td>0.0</td>\n",
              "      <td>1.0</td>\n",
              "      <td>0.0</td>\n",
              "      <td>1.0</td>\n",
              "      <td>0.0</td>\n",
              "      <td>2</td>\n",
              "      <td>7</td>\n",
              "      <td>125021</td>\n",
              "      <td>2</td>\n",
              "      <td>4770.789695</td>\n",
              "    </tr>\n",
              "  </tbody>\n",
              "</table>\n",
              "</div>\n",
              "      <button class=\"colab-df-convert\" onclick=\"convertToInteractive('df-13c545d0-0b97-471a-b223-5bf06ff50125')\"\n",
              "              title=\"Convert this dataframe to an interactive table.\"\n",
              "              style=\"display:none;\">\n",
              "        \n",
              "  <svg xmlns=\"http://www.w3.org/2000/svg\" height=\"24px\"viewBox=\"0 0 24 24\"\n",
              "       width=\"24px\">\n",
              "    <path d=\"M0 0h24v24H0V0z\" fill=\"none\"/>\n",
              "    <path d=\"M18.56 5.44l.94 2.06.94-2.06 2.06-.94-2.06-.94-.94-2.06-.94 2.06-2.06.94zm-11 1L8.5 8.5l.94-2.06 2.06-.94-2.06-.94L8.5 2.5l-.94 2.06-2.06.94zm10 10l.94 2.06.94-2.06 2.06-.94-2.06-.94-.94-2.06-.94 2.06-2.06.94z\"/><path d=\"M17.41 7.96l-1.37-1.37c-.4-.4-.92-.59-1.43-.59-.52 0-1.04.2-1.43.59L10.3 9.45l-7.72 7.72c-.78.78-.78 2.05 0 2.83L4 21.41c.39.39.9.59 1.41.59.51 0 1.02-.2 1.41-.59l7.78-7.78 2.81-2.81c.8-.78.8-2.07 0-2.86zM5.41 20L4 18.59l7.72-7.72 1.47 1.35L5.41 20z\"/>\n",
              "  </svg>\n",
              "      </button>\n",
              "      \n",
              "  <style>\n",
              "    .colab-df-container {\n",
              "      display:flex;\n",
              "      flex-wrap:wrap;\n",
              "      gap: 12px;\n",
              "    }\n",
              "\n",
              "    .colab-df-convert {\n",
              "      background-color: #E8F0FE;\n",
              "      border: none;\n",
              "      border-radius: 50%;\n",
              "      cursor: pointer;\n",
              "      display: none;\n",
              "      fill: #1967D2;\n",
              "      height: 32px;\n",
              "      padding: 0 0 0 0;\n",
              "      width: 32px;\n",
              "    }\n",
              "\n",
              "    .colab-df-convert:hover {\n",
              "      background-color: #E2EBFA;\n",
              "      box-shadow: 0px 1px 2px rgba(60, 64, 67, 0.3), 0px 1px 3px 1px rgba(60, 64, 67, 0.15);\n",
              "      fill: #174EA6;\n",
              "    }\n",
              "\n",
              "    [theme=dark] .colab-df-convert {\n",
              "      background-color: #3B4455;\n",
              "      fill: #D2E3FC;\n",
              "    }\n",
              "\n",
              "    [theme=dark] .colab-df-convert:hover {\n",
              "      background-color: #434B5C;\n",
              "      box-shadow: 0px 1px 3px 1px rgba(0, 0, 0, 0.15);\n",
              "      filter: drop-shadow(0px 1px 2px rgba(0, 0, 0, 0.3));\n",
              "      fill: #FFFFFF;\n",
              "    }\n",
              "  </style>\n",
              "\n",
              "      <script>\n",
              "        const buttonEl =\n",
              "          document.querySelector('#df-13c545d0-0b97-471a-b223-5bf06ff50125 button.colab-df-convert');\n",
              "        buttonEl.style.display =\n",
              "          google.colab.kernel.accessAllowed ? 'block' : 'none';\n",
              "\n",
              "        async function convertToInteractive(key) {\n",
              "          const element = document.querySelector('#df-13c545d0-0b97-471a-b223-5bf06ff50125');\n",
              "          const dataTable =\n",
              "            await google.colab.kernel.invokeFunction('convertToInteractive',\n",
              "                                                     [key], {});\n",
              "          if (!dataTable) return;\n",
              "\n",
              "          const docLinkHtml = 'Like what you see? Visit the ' +\n",
              "            '<a target=\"_blank\" href=https://colab.research.google.com/notebooks/data_table.ipynb>data table notebook</a>'\n",
              "            + ' to learn more about interactive tables.';\n",
              "          element.innerHTML = '';\n",
              "          dataTable['output_type'] = 'display_data';\n",
              "          await google.colab.output.renderOutput(dataTable, element);\n",
              "          const docLink = document.createElement('div');\n",
              "          docLink.innerHTML = docLinkHtml;\n",
              "          element.appendChild(docLink);\n",
              "        }\n",
              "      </script>\n",
              "    </div>\n",
              "  </div>\n",
              "  "
            ]
          },
          "metadata": {},
          "execution_count": 73
        }
      ]
    },
    {
      "cell_type": "code",
      "source": [
        "#Creo la variable x_testeo_final \n",
        "\n",
        "x_testeo_final = df_concatenado2[[\"Age\",\"gender\", 'Severity of Illness','Available Extra Rooms in Hospital','Department']]"
      ],
      "metadata": {
        "id": "mzl0HqEBWlpb"
      },
      "execution_count": 74,
      "outputs": []
    },
    {
      "cell_type": "code",
      "source": [
        "#Usamos el predictor que creé sobre el dataset de testeo\n",
        "prediccion_df2 = ada.predict(x_testeo_final)"
      ],
      "metadata": {
        "id": "UivxSVgWYQop"
      },
      "execution_count": 76,
      "outputs": []
    },
    {
      "cell_type": "code",
      "source": [
        "print(prediccion_df2)"
      ],
      "metadata": {
        "id": "2Dt8Q_V4Wlmt",
        "colab": {
          "base_uri": "https://localhost:8080/"
        },
        "outputId": "ef546a54-6a28-47c0-aa19-23fe31708f6f"
      },
      "execution_count": 77,
      "outputs": [
        {
          "output_type": "stream",
          "name": "stdout",
          "text": [
            "[1 1 1 ... 1 1 1]\n"
          ]
        }
      ]
    },
    {
      "cell_type": "code",
      "source": [
        "resultado = pd.DataFrame(prediccion_df2)\n",
        "resultado.set_axis([\"pred\"], axis = 1,inplace = True)"
      ],
      "metadata": {
        "id": "3y-Jcx1EWljm"
      },
      "execution_count": 78,
      "outputs": []
    },
    {
      "cell_type": "code",
      "source": [
        "#Una vez creado el Dataset con los resultados, lo exporto.\n",
        "resultado.to_csv(\"Leito2022.csv\", index = False)"
      ],
      "metadata": {
        "id": "qkD4dj5dawTC"
      },
      "execution_count": 79,
      "outputs": []
    },
    {
      "cell_type": "markdown",
      "source": [
        "El modelo devolvió un recall de 0.66 y un accuracy de 0.68, no son malos números y se encuentran equilibrados. Evidentemente se puede mejorar la predicción pero por falta de tiempo no será posible."
      ],
      "metadata": {
        "id": "KwHf8bXVWlRI"
      }
    },
    {
      "cell_type": "markdown",
      "source": [
        "#PIPELINE"
      ],
      "metadata": {
        "id": "uQ_u3Bmj6BCQ"
      }
    },
    {
      "cell_type": "code",
      "source": [
        "from sklearn.pipeline import Pipeline"
      ],
      "metadata": {
        "id": "4IPca78P4d7R"
      },
      "execution_count": 80,
      "outputs": []
    },
    {
      "cell_type": "code",
      "source": [
        "steps = [('var_categ', OrdinalEncoder()),\n",
        "         ('Adaboost', AdaBoostClassifier(base_estimator = dtc, \n",
        "                         n_estimators = 10,\n",
        "                         learning_rate = 0.3\n",
        "                         ))]"
      ],
      "metadata": {
        "id": "_5wIn0pt4h-r"
      },
      "execution_count": 82,
      "outputs": []
    },
    {
      "cell_type": "markdown",
      "source": [
        "Nunca he generado un pipeline, por lo que esto es una simple prueba no concluyente de su uso. Por falta de tiempo, es lo que he podido generar."
      ],
      "metadata": {
        "id": "EGHkWvC96Dfl"
      }
    },
    {
      "cell_type": "code",
      "source": [
        "pipeline = Pipeline(steps)"
      ],
      "metadata": {
        "id": "urEK-bjK5Biz"
      },
      "execution_count": 84,
      "outputs": []
    },
    {
      "cell_type": "code",
      "source": [
        "pipeline"
      ],
      "metadata": {
        "colab": {
          "base_uri": "https://localhost:8080/"
        },
        "id": "ERV8rA2X5RH5",
        "outputId": "858b2fcc-7de4-4c61-b468-d9037e6b5981"
      },
      "execution_count": 85,
      "outputs": [
        {
          "output_type": "execute_result",
          "data": {
            "text/plain": [
              "Pipeline(steps=[('var_categ', OrdinalEncoder()),\n",
              "                ('Adaboost',\n",
              "                 AdaBoostClassifier(base_estimator=DecisionTreeClassifier(max_depth=2,\n",
              "                                                                          min_samples_split=6),\n",
              "                                    learning_rate=0.3, n_estimators=10))])"
            ]
          },
          "metadata": {},
          "execution_count": 85
        }
      ]
    },
    {
      "cell_type": "code",
      "source": [
        "pipeline.fit(X_train,y_train)"
      ],
      "metadata": {
        "colab": {
          "base_uri": "https://localhost:8080/"
        },
        "id": "dTEjd41r5W2_",
        "outputId": "76d1a41f-345d-470f-a238-d66c7c2e0704"
      },
      "execution_count": 87,
      "outputs": [
        {
          "output_type": "execute_result",
          "data": {
            "text/plain": [
              "Pipeline(steps=[('var_categ', OrdinalEncoder()),\n",
              "                ('Adaboost',\n",
              "                 AdaBoostClassifier(base_estimator=DecisionTreeClassifier(max_depth=2,\n",
              "                                                                          min_samples_split=6),\n",
              "                                    learning_rate=0.3, n_estimators=10))])"
            ]
          },
          "metadata": {},
          "execution_count": 87
        }
      ]
    }
  ]
}